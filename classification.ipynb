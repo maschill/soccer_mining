{
 "cells": [
  {
   "cell_type": "code",
   "execution_count": 1,
   "metadata": {
    "ExecuteTime": {
     "end_time": "2017-10-24T12:28:02.647422Z",
     "start_time": "2017-10-24T12:28:00.895696Z"
    },
    "collapsed": true
   },
   "outputs": [],
   "source": [
    "import tensorflow as tf\n",
    "import pandas as pd\n",
    "import numpy as np\n",
    "import sqlite3\n",
    "import re\n",
    "\n",
    "from functools import partial\n",
    "from itertools import product\n",
    "\n",
    "from bokeh.layouts import gridplot\n",
    "from bokeh.plotting import figure, show, output_file\n",
    "from bokeh.io import output_notebook\n",
    "\n",
    "from sklearn.neighbors.kde import KernelDensity\n",
    "from scipy.stats import norm"
   ]
  },
  {
   "cell_type": "code",
   "execution_count": 2,
   "metadata": {
    "ExecuteTime": {
     "end_time": "2017-10-24T12:28:04.302918Z",
     "start_time": "2017-10-24T12:28:04.290042Z"
    }
   },
   "outputs": [
    {
     "data": {
      "text/html": [
       "\n",
       "    <div class=\"bk-root\">\n",
       "        <a href=\"http://bokeh.pydata.org\" target=\"_blank\" class=\"bk-logo bk-logo-small bk-logo-notebook\"></a>\n",
       "        <span id=\"7870c5eb-dd47-489c-ae66-ad1edc804ac3\">Loading BokehJS ...</span>\n",
       "    </div>"
      ]
     },
     "metadata": {},
     "output_type": "display_data"
    },
    {
     "data": {
      "application/javascript": [
       "\n",
       "(function(global) {\n",
       "  function now() {\n",
       "    return new Date();\n",
       "  }\n",
       "\n",
       "  var force = true;\n",
       "\n",
       "  if (typeof (window._bokeh_onload_callbacks) === \"undefined\" || force === true) {\n",
       "    window._bokeh_onload_callbacks = [];\n",
       "    window._bokeh_is_loading = undefined;\n",
       "  }\n",
       "\n",
       "\n",
       "  \n",
       "  if (typeof (window._bokeh_timeout) === \"undefined\" || force === true) {\n",
       "    window._bokeh_timeout = Date.now() + 5000;\n",
       "    window._bokeh_failed_load = false;\n",
       "  }\n",
       "\n",
       "  var NB_LOAD_WARNING = {'data': {'text/html':\n",
       "     \"<div style='background-color: #fdd'>\\n\"+\n",
       "     \"<p>\\n\"+\n",
       "     \"BokehJS does not appear to have successfully loaded. If loading BokehJS from CDN, this \\n\"+\n",
       "     \"may be due to a slow or bad network connection. Possible fixes:\\n\"+\n",
       "     \"</p>\\n\"+\n",
       "     \"<ul>\\n\"+\n",
       "     \"<li>re-rerun `output_notebook()` to attempt to load from CDN again, or</li>\\n\"+\n",
       "     \"<li>use INLINE resources instead, as so:</li>\\n\"+\n",
       "     \"</ul>\\n\"+\n",
       "     \"<code>\\n\"+\n",
       "     \"from bokeh.resources import INLINE\\n\"+\n",
       "     \"output_notebook(resources=INLINE)\\n\"+\n",
       "     \"</code>\\n\"+\n",
       "     \"</div>\"}};\n",
       "\n",
       "  function display_loaded() {\n",
       "    if (window.Bokeh !== undefined) {\n",
       "      var el = document.getElementById(\"7870c5eb-dd47-489c-ae66-ad1edc804ac3\");\n",
       "      el.textContent = \"BokehJS \" + Bokeh.version + \" successfully loaded.\";\n",
       "    } else if (Date.now() < window._bokeh_timeout) {\n",
       "      setTimeout(display_loaded, 100)\n",
       "    }\n",
       "  }\n",
       "\n",
       "  function run_callbacks() {\n",
       "    window._bokeh_onload_callbacks.forEach(function(callback) { callback() });\n",
       "    delete window._bokeh_onload_callbacks\n",
       "    console.info(\"Bokeh: all callbacks have finished\");\n",
       "  }\n",
       "\n",
       "  function load_libs(js_urls, callback) {\n",
       "    window._bokeh_onload_callbacks.push(callback);\n",
       "    if (window._bokeh_is_loading > 0) {\n",
       "      console.log(\"Bokeh: BokehJS is being loaded, scheduling callback at\", now());\n",
       "      return null;\n",
       "    }\n",
       "    if (js_urls == null || js_urls.length === 0) {\n",
       "      run_callbacks();\n",
       "      return null;\n",
       "    }\n",
       "    console.log(\"Bokeh: BokehJS not loaded, scheduling load and callback at\", now());\n",
       "    window._bokeh_is_loading = js_urls.length;\n",
       "    for (var i = 0; i < js_urls.length; i++) {\n",
       "      var url = js_urls[i];\n",
       "      var s = document.createElement('script');\n",
       "      s.src = url;\n",
       "      s.async = false;\n",
       "      s.onreadystatechange = s.onload = function() {\n",
       "        window._bokeh_is_loading--;\n",
       "        if (window._bokeh_is_loading === 0) {\n",
       "          console.log(\"Bokeh: all BokehJS libraries loaded\");\n",
       "          run_callbacks()\n",
       "        }\n",
       "      };\n",
       "      s.onerror = function() {\n",
       "        console.warn(\"failed to load library \" + url);\n",
       "      };\n",
       "      console.log(\"Bokeh: injecting script tag for BokehJS library: \", url);\n",
       "      document.getElementsByTagName(\"head\")[0].appendChild(s);\n",
       "    }\n",
       "  };var element = document.getElementById(\"7870c5eb-dd47-489c-ae66-ad1edc804ac3\");\n",
       "  if (element == null) {\n",
       "    console.log(\"Bokeh: ERROR: autoload.js configured with elementid '7870c5eb-dd47-489c-ae66-ad1edc804ac3' but no matching script tag was found. \")\n",
       "    return false;\n",
       "  }\n",
       "\n",
       "  var js_urls = [\"https://cdn.pydata.org/bokeh/release/bokeh-0.12.5.min.js\", \"https://cdn.pydata.org/bokeh/release/bokeh-widgets-0.12.5.min.js\"];\n",
       "\n",
       "  var inline_js = [\n",
       "    function(Bokeh) {\n",
       "      Bokeh.set_log_level(\"info\");\n",
       "    },\n",
       "    \n",
       "    function(Bokeh) {\n",
       "      \n",
       "    },\n",
       "    \n",
       "    function(Bokeh) {\n",
       "      \n",
       "      document.getElementById(\"7870c5eb-dd47-489c-ae66-ad1edc804ac3\").textContent = \"BokehJS is loading...\";\n",
       "    },\n",
       "    function(Bokeh) {\n",
       "      console.log(\"Bokeh: injecting CSS: https://cdn.pydata.org/bokeh/release/bokeh-0.12.5.min.css\");\n",
       "      Bokeh.embed.inject_css(\"https://cdn.pydata.org/bokeh/release/bokeh-0.12.5.min.css\");\n",
       "      console.log(\"Bokeh: injecting CSS: https://cdn.pydata.org/bokeh/release/bokeh-widgets-0.12.5.min.css\");\n",
       "      Bokeh.embed.inject_css(\"https://cdn.pydata.org/bokeh/release/bokeh-widgets-0.12.5.min.css\");\n",
       "    }\n",
       "  ];\n",
       "\n",
       "  function run_inline_js() {\n",
       "    \n",
       "    if ((window.Bokeh !== undefined) || (force === true)) {\n",
       "      for (var i = 0; i < inline_js.length; i++) {\n",
       "        inline_js[i](window.Bokeh);\n",
       "      }if (force === true) {\n",
       "        display_loaded();\n",
       "      }} else if (Date.now() < window._bokeh_timeout) {\n",
       "      setTimeout(run_inline_js, 100);\n",
       "    } else if (!window._bokeh_failed_load) {\n",
       "      console.log(\"Bokeh: BokehJS failed to load within specified timeout.\");\n",
       "      window._bokeh_failed_load = true;\n",
       "    } else if (force !== true) {\n",
       "      var cell = $(document.getElementById(\"7870c5eb-dd47-489c-ae66-ad1edc804ac3\")).parents('.cell').data().cell;\n",
       "      cell.output_area.append_execute_result(NB_LOAD_WARNING)\n",
       "    }\n",
       "\n",
       "  }\n",
       "\n",
       "  if (window._bokeh_is_loading === 0) {\n",
       "    console.log(\"Bokeh: BokehJS loaded, going straight to plotting\");\n",
       "    run_inline_js();\n",
       "  } else {\n",
       "    load_libs(js_urls, function() {\n",
       "      console.log(\"Bokeh: BokehJS plotting callback run at\", now());\n",
       "      run_inline_js();\n",
       "    });\n",
       "  }\n",
       "}(this));"
      ]
     },
     "metadata": {},
     "output_type": "display_data"
    }
   ],
   "source": [
    "output_notebook()"
   ]
  },
  {
   "cell_type": "code",
   "execution_count": 3,
   "metadata": {
    "ExecuteTime": {
     "end_time": "2017-10-24T12:28:10.167336Z",
     "start_time": "2017-10-24T12:28:10.160051Z"
    },
    "collapsed": true
   },
   "outputs": [],
   "source": [
    "def is_a_in_x(A, X):\n",
    "    for i in range(len(X) - len(A) + 1):\n",
    "        if A == X[i:i+len(A)]: return True\n",
    "    return False"
   ]
  },
  {
   "cell_type": "code",
   "execution_count": 4,
   "metadata": {
    "ExecuteTime": {
     "end_time": "2017-10-24T12:28:58.355557Z",
     "start_time": "2017-10-24T12:28:58.346713Z"
    },
    "collapsed": true
   },
   "outputs": [],
   "source": [
    "con = sqlite3.connect('soccer.sqlite')\n",
    "c = con.cursor()"
   ]
  },
  {
   "cell_type": "code",
   "execution_count": 46,
   "metadata": {
    "ExecuteTime": {
     "end_time": "2017-10-24T13:29:37.933021Z",
     "start_time": "2017-10-24T13:29:37.917175Z"
    }
   },
   "outputs": [
    {
     "data": {
      "text/plain": [
       "['teamID',\n",
       " 'ligaID',\n",
       " 'sofifaTeamID',\n",
       " 'patchID',\n",
       " 'name',\n",
       " 'geschwindigkeit',\n",
       " 'dribbling',\n",
       " 'passen_aufbau',\n",
       " 'passen_chancen',\n",
       " 'flanken',\n",
       " 'schussverhalten',\n",
       " 'druck',\n",
       " 'aggressivitat',\n",
       " 'verschieben']"
      ]
     },
     "execution_count": 46,
     "metadata": {},
     "output_type": "execute_result"
    }
   ],
   "source": [
    "c.execute('select * from team')\n",
    "[x[0] for x in c.description]"
   ]
  },
  {
   "cell_type": "code",
   "execution_count": 29,
   "metadata": {
    "ExecuteTime": {
     "end_time": "2017-10-24T13:00:42.831365Z",
     "start_time": "2017-10-24T13:00:42.818315Z"
    },
    "collapsed": true
   },
   "outputs": [],
   "source": [
    "con.commit()"
   ]
  },
  {
   "cell_type": "code",
   "execution_count": 30,
   "metadata": {
    "ExecuteTime": {
     "end_time": "2017-10-24T13:00:44.749170Z",
     "start_time": "2017-10-24T13:00:44.094071Z"
    }
   },
   "outputs": [],
   "source": [
    "jersey_sum = [x for x in c.execute(\"\"\"\n",
    "SELECT m.FTR, p1.jersey+ p2.jersey+ p3.jersey+ p4.jersey+ p5.jersey+p6.jersey+p7.jersey+p8.jersey+p9.jersey+p10.jersey+p11.jersey as homesum,\n",
    "p19.jersey+p20.jersey+p21.jersey+p22.jersey+p23.jersey+p24.jersey+p25.jersey+p26.jersey+p27.jersey+p28.jersey+p29.jersey as awaysum\n",
    "FROM match m \n",
    "join player p1 on m.homePlayer1 = p1.playerID\n",
    "join player p2 on m.homePlayer2 = p2.playerID\n",
    "join player p3 on m.homePlayer3 = p3.playerID\n",
    "join player p4 on m.homePlayer4 = p4.playerID\n",
    "join player p5 on m.homePlayer5 = p5.playerID\n",
    "join player p6 on m.homePlayer6 = p6.playerID\n",
    "join player p7 on m.homePlayer7 = p7.playerID\n",
    "join player p8 on m.homePlayer8 = p8.playerID\n",
    "join player p9 on m.homePlayer9 = p9.playerID\n",
    "join player p10 on m.homePlayer10 = p10.playerID\n",
    "join player p11 on m.homePlayer11 = p11.playerID\n",
    "join player p12 on m.homePlayer12 = p12.playerID\n",
    "join player p13 on m.homePlayer13 = p13.playerID\n",
    "join player p14 on m.homePlayer14 = p14.playerID\n",
    "join player p15 on m.homePlayer15 = p15.playerID\n",
    "join player p16 on m.homePlayer16 = p16.playerID\n",
    "join player p17 on m.homePlayer17 = p17.playerID\n",
    "join player p18 on m.homePlayer18 = p18.playerID\n",
    "join player p19 on m.awayPlayer1 = p19.playerID\n",
    "join player p20 on m.awayPlayer2 = p20.playerID\n",
    "join player p21 on m.awayPlayer3 = p21.playerID\n",
    "join player p22 on m.awayPlayer4 = p22.playerID\n",
    "join player p23 on m.awayPlayer5 = p23.playerID\n",
    "join player p24 on m.awayPlayer6 = p24.playerID\n",
    "join player p25 on m.awayPlayer7 = p25.playerID\n",
    "join player p26 on m.awayPlayer8 = p26.playerID\n",
    "join player p27 on m.awayPlayer9 = p27.playerID\n",
    "join player p28 on m.awayPlayer10 = p28.playerID\n",
    "join player p29 on m.awayPlayer11 = p29.playerID\n",
    "join player p30 on m.awayPlayer12 = p30.playerID\n",
    "join player p31 on m.awayPlayer13 = p31.playerID\n",
    "join player p32 on m.awayPlayer14 = p32.playerID\n",
    "join player p33 on m.awayPlayer15 = p33.playerID\n",
    "join player p34 on m.awayPlayer16 = p34.playerID\n",
    "join player p35 on m.awayPlayer17 = p35.playerID\n",
    "join player p36 on m.awayPlayer18 = p36.playerID\"\"\")]"
   ]
  },
  {
   "cell_type": "code",
   "execution_count": 31,
   "metadata": {
    "ExecuteTime": {
     "end_time": "2017-10-24T13:00:46.250875Z",
     "start_time": "2017-10-24T13:00:46.228119Z"
    }
   },
   "outputs": [],
   "source": [
    "spot = {'H':0, 'D':1, 'A':2}\n",
    "res = [[],[],[]]\n",
    "for match in jersey_sum:\n",
    "    res[spot[match[0]]].append(match[1]-match[2])"
   ]
  },
  {
   "cell_type": "code",
   "execution_count": 4,
   "metadata": {
    "ExecuteTime": {
     "end_time": "2017-10-19T12:17:53.118475Z",
     "start_time": "2017-10-19T12:17:52.911829Z"
    },
    "collapsed": true
   },
   "outputs": [],
   "source": [
    "raw = [x for x in c.execute('SELECT * from match')]"
   ]
  },
  {
   "cell_type": "code",
   "execution_count": 3,
   "metadata": {
    "ExecuteTime": {
     "end_time": "2017-10-18T19:32:54.021000Z",
     "start_time": "2017-10-18T19:32:00.412803Z"
    },
    "collapsed": true
   },
   "outputs": [],
   "source": [
    "x_data = []\n",
    "y_data = []\n",
    "\n",
    "for m in raw:\n",
    "    home_stats = np.array([x[5:] for x in c.execute('SELECT * FROM team WHERE teamID IS ?', (m[3],) )][0])\n",
    "    away_stats = np.array([x[5:] for x in c.execute('SELECT * FROM team WHERE teamID IS ?', (m[4],) )][0])\n",
    "\n",
    "    m = np.array(m)\n",
    "    for _ in range(1):\n",
    "        players = []\n",
    "        for pid in m[6:17]:\n",
    "            if pid == -1 or pid == '-1':\n",
    "                players += [-1]*37\n",
    "            else:\n",
    "                players += [a[4:-1] for a in c.execute('SELECT * FROM player WHERE playerID IS ?', (pid,))][0]\n",
    "\n",
    "        for pid in m[24:35]:\n",
    "            if pid == -1:\n",
    "                players += [-1]*37\n",
    "            else:\n",
    "                pnew =  [a[4:-1] for a in c.execute('SELECT * FROM player WHERE playerID IS ?', (pid,))]\n",
    "                if len(pnew) == 1:\n",
    "                    players += pnew[0]\n",
    "                else:\n",
    "                    players += [-1]*37\n",
    "\n",
    "\n",
    "        if np.random.randint(2):\n",
    "            players = [np.random.normal(attr, 2) for attr in players]\n",
    "\n",
    "        x_data.append([*home_stats,*np.array(players).flatten(),*away_stats])\n",
    "\n",
    "        if m[42] > m[43]:\n",
    "            y_data.append([1,0,0])\n",
    "        elif m[42] < m[43]:\n",
    "            y_data.append([0,0,1])\n",
    "        else:\n",
    "            y_data.append([0,1,0])\n",
    "\n",
    "        #shuffle and again\n",
    "        np.random.shuffle(m[7:17])\n",
    "        np.random.shuffle(m[25:34])\n",
    "\n",
    "\n",
    "# In[99]:\n",
    "\n",
    "# for i,t in enumerate(x_data):\n",
    "#     for j,l in enumerate(t):\n",
    "#         if l == '':\n",
    "#             x_data[i][j] = -1\n",
    "#         elif re.search('^[0-9][0-9]*[+,-][0-9]*',str(l)):\n",
    "#             k = l.split('-')[0].split('+')[0]\n",
    "#             x_data[i][j] = k"
   ]
  },
  {
   "cell_type": "code",
   "execution_count": 112,
   "metadata": {
    "ExecuteTime": {
     "end_time": "2017-10-18T20:35:52.755153Z",
     "start_time": "2017-10-18T20:35:49.585665Z"
    },
    "collapsed": true
   },
   "outputs": [],
   "source": [
    "corr = [[],[],[]]\n",
    "for i,match in enumerate(x_data):\n",
    "    if is_a_in_x([-1 for x in range(30)], match[9:-9]):\n",
    "        continue\n",
    "    fifa_sum = np.mean(match[9:416])-np.mean(match[416:-9])\n",
    "    if y_data[i][0] == 1:\n",
    "        corr[0].append(fifa_sum)\n",
    "    elif y_data[i][1] == 1:\n",
    "        corr[1].append(fifa_sum-)\n",
    "    else:\n",
    "        corr[2].append(fifa_sum)"
   ]
  },
  {
   "cell_type": "code",
   "execution_count": 32,
   "metadata": {
    "ExecuteTime": {
     "end_time": "2017-10-24T13:00:55.602557Z",
     "start_time": "2017-10-24T13:00:55.597727Z"
    },
    "collapsed": true
   },
   "outputs": [],
   "source": [
    "corr = res"
   ]
  },
  {
   "cell_type": "code",
   "execution_count": 33,
   "metadata": {
    "ExecuteTime": {
     "end_time": "2017-10-24T13:00:55.764567Z",
     "start_time": "2017-10-24T13:00:55.743402Z"
    },
    "collapsed": true
   },
   "outputs": [],
   "source": [
    "hist, edges = np.histogram(corr[0], density=True, bins=250)\n",
    "hist1, edges1 = np.histogram(corr[1], density=True, bins=250)\n",
    "hist2, edges2 = np.histogram(corr[2], density=True, bins=250)"
   ]
  },
  {
   "cell_type": "code",
   "execution_count": 34,
   "metadata": {
    "ExecuteTime": {
     "end_time": "2017-10-24T13:00:55.887849Z",
     "start_time": "2017-10-24T13:00:55.876994Z"
    },
    "collapsed": true
   },
   "outputs": [],
   "source": [
    "x_val = np.linspace(min([min(x) for x in corr]), max([max(x) for x in corr]), 500)\n",
    "mean, std = norm.fit(corr[0])\n",
    "y_val = norm.pdf(x_val, mean, std)"
   ]
  },
  {
   "cell_type": "code",
   "execution_count": 35,
   "metadata": {
    "ExecuteTime": {
     "end_time": "2017-10-24T13:00:56.128945Z",
     "start_time": "2017-10-24T13:00:56.031792Z"
    }
   },
   "outputs": [
    {
     "data": {
      "text/html": [
       "\n",
       "\n",
       "    <div class=\"bk-root\">\n",
       "        <div class=\"bk-plotdiv\" id=\"294e847c-d805-4c80-ac78-aee0c3150588\"></div>\n",
       "    </div>\n",
       "<script type=\"text/javascript\">\n",
       "  \n",
       "  (function(global) {\n",
       "    function now() {\n",
       "      return new Date();\n",
       "    }\n",
       "  \n",
       "    var force = false;\n",
       "  \n",
       "    if (typeof (window._bokeh_onload_callbacks) === \"undefined\" || force === true) {\n",
       "      window._bokeh_onload_callbacks = [];\n",
       "      window._bokeh_is_loading = undefined;\n",
       "    }\n",
       "  \n",
       "  \n",
       "    \n",
       "    if (typeof (window._bokeh_timeout) === \"undefined\" || force === true) {\n",
       "      window._bokeh_timeout = Date.now() + 0;\n",
       "      window._bokeh_failed_load = false;\n",
       "    }\n",
       "  \n",
       "    var NB_LOAD_WARNING = {'data': {'text/html':\n",
       "       \"<div style='background-color: #fdd'>\\n\"+\n",
       "       \"<p>\\n\"+\n",
       "       \"BokehJS does not appear to have successfully loaded. If loading BokehJS from CDN, this \\n\"+\n",
       "       \"may be due to a slow or bad network connection. Possible fixes:\\n\"+\n",
       "       \"</p>\\n\"+\n",
       "       \"<ul>\\n\"+\n",
       "       \"<li>re-rerun `output_notebook()` to attempt to load from CDN again, or</li>\\n\"+\n",
       "       \"<li>use INLINE resources instead, as so:</li>\\n\"+\n",
       "       \"</ul>\\n\"+\n",
       "       \"<code>\\n\"+\n",
       "       \"from bokeh.resources import INLINE\\n\"+\n",
       "       \"output_notebook(resources=INLINE)\\n\"+\n",
       "       \"</code>\\n\"+\n",
       "       \"</div>\"}};\n",
       "  \n",
       "    function display_loaded() {\n",
       "      if (window.Bokeh !== undefined) {\n",
       "        var el = document.getElementById(\"294e847c-d805-4c80-ac78-aee0c3150588\");\n",
       "        el.textContent = \"BokehJS \" + Bokeh.version + \" successfully loaded.\";\n",
       "      } else if (Date.now() < window._bokeh_timeout) {\n",
       "        setTimeout(display_loaded, 100)\n",
       "      }\n",
       "    }\n",
       "  \n",
       "    function run_callbacks() {\n",
       "      window._bokeh_onload_callbacks.forEach(function(callback) { callback() });\n",
       "      delete window._bokeh_onload_callbacks\n",
       "      console.info(\"Bokeh: all callbacks have finished\");\n",
       "    }\n",
       "  \n",
       "    function load_libs(js_urls, callback) {\n",
       "      window._bokeh_onload_callbacks.push(callback);\n",
       "      if (window._bokeh_is_loading > 0) {\n",
       "        console.log(\"Bokeh: BokehJS is being loaded, scheduling callback at\", now());\n",
       "        return null;\n",
       "      }\n",
       "      if (js_urls == null || js_urls.length === 0) {\n",
       "        run_callbacks();\n",
       "        return null;\n",
       "      }\n",
       "      console.log(\"Bokeh: BokehJS not loaded, scheduling load and callback at\", now());\n",
       "      window._bokeh_is_loading = js_urls.length;\n",
       "      for (var i = 0; i < js_urls.length; i++) {\n",
       "        var url = js_urls[i];\n",
       "        var s = document.createElement('script');\n",
       "        s.src = url;\n",
       "        s.async = false;\n",
       "        s.onreadystatechange = s.onload = function() {\n",
       "          window._bokeh_is_loading--;\n",
       "          if (window._bokeh_is_loading === 0) {\n",
       "            console.log(\"Bokeh: all BokehJS libraries loaded\");\n",
       "            run_callbacks()\n",
       "          }\n",
       "        };\n",
       "        s.onerror = function() {\n",
       "          console.warn(\"failed to load library \" + url);\n",
       "        };\n",
       "        console.log(\"Bokeh: injecting script tag for BokehJS library: \", url);\n",
       "        document.getElementsByTagName(\"head\")[0].appendChild(s);\n",
       "      }\n",
       "    };var element = document.getElementById(\"294e847c-d805-4c80-ac78-aee0c3150588\");\n",
       "    if (element == null) {\n",
       "      console.log(\"Bokeh: ERROR: autoload.js configured with elementid '294e847c-d805-4c80-ac78-aee0c3150588' but no matching script tag was found. \")\n",
       "      return false;\n",
       "    }\n",
       "  \n",
       "    var js_urls = [];\n",
       "  \n",
       "    var inline_js = [\n",
       "      function(Bokeh) {\n",
       "        (function() {\n",
       "          var fn = function() {\n",
       "            var docs_json = {\"0eb31b7b-5348-4e56-80e1-f75ed5ddfe24\":{\"roots\":{\"references\":[{\"attributes\":{\"bottom\":{\"value\":0},\"fill_alpha\":{\"value\":0.1},\"fill_color\":{\"value\":\"#1f77b4\"},\"left\":{\"field\":\"left\"},\"line_alpha\":{\"value\":0.1},\"line_color\":{\"value\":\"#1f77b4\"},\"right\":{\"field\":\"right\"},\"top\":{\"field\":\"top\"}},\"id\":\"7d00c0ef-46cc-48d9-86b4-a76621cfd3ca\",\"type\":\"Quad\"},{\"attributes\":{\"dimension\":1,\"plot\":{\"id\":\"8d42680b-ac7f-4e18-a850-eb880d9a2052\",\"subtype\":\"Figure\",\"type\":\"Plot\"},\"ticker\":{\"id\":\"225f6c09-8328-49b8-99df-f36b5678a037\",\"type\":\"BasicTicker\"}},\"id\":\"70ed80c5-c901-4714-80fa-9adaa38670f4\",\"type\":\"Grid\"},{\"attributes\":{\"data_source\":{\"id\":\"7790fbf1-8abd-4163-b7d9-29eab97cec12\",\"type\":\"ColumnDataSource\"},\"glyph\":{\"id\":\"fb64e7d8-09b8-48f8-96b0-89335021a1d2\",\"type\":\"Quad\"},\"hover_glyph\":null,\"muted_glyph\":null,\"nonselection_glyph\":{\"id\":\"7d00c0ef-46cc-48d9-86b4-a76621cfd3ca\",\"type\":\"Quad\"},\"selection_glyph\":null},\"id\":\"90915282-8b29-4f1e-8a9f-00c22a325002\",\"type\":\"GlyphRenderer\"},{\"attributes\":{\"plot\":{\"id\":\"8d42680b-ac7f-4e18-a850-eb880d9a2052\",\"subtype\":\"Figure\",\"type\":\"Plot\"},\"ticker\":{\"id\":\"ea2b459e-4e72-451f-831d-16ca5c6d69f6\",\"type\":\"BasicTicker\"}},\"id\":\"ce4ceeff-4d33-4b13-a038-0c143d967a06\",\"type\":\"Grid\"},{\"attributes\":{\"bottom\":{\"value\":0},\"fill_color\":{\"value\":\"#036564\"},\"left\":{\"field\":\"left\"},\"line_color\":{\"value\":\"#033649\"},\"right\":{\"field\":\"right\"},\"top\":{\"field\":\"top\"}},\"id\":\"fb64e7d8-09b8-48f8-96b0-89335021a1d2\",\"type\":\"Quad\"},{\"attributes\":{},\"id\":\"74937360-ace0-4952-8911-ce8d5601e2c2\",\"type\":\"BasicTickFormatter\"},{\"attributes\":{},\"id\":\"ea2b459e-4e72-451f-831d-16ca5c6d69f6\",\"type\":\"BasicTicker\"},{\"attributes\":{\"bottom_units\":\"screen\",\"fill_alpha\":{\"value\":0.5},\"fill_color\":{\"value\":\"lightgrey\"},\"left_units\":\"screen\",\"level\":\"overlay\",\"line_alpha\":{\"value\":1.0},\"line_color\":{\"value\":\"black\"},\"line_dash\":[4,4],\"line_width\":{\"value\":2},\"plot\":null,\"render_mode\":\"css\",\"right_units\":\"screen\",\"top_units\":\"screen\"},\"id\":\"00d95d60-b3f7-429a-8710-ef8ee2a2b0a3\",\"type\":\"BoxAnnotation\"},{\"attributes\":{\"plot\":{\"id\":\"8d42680b-ac7f-4e18-a850-eb880d9a2052\",\"subtype\":\"Figure\",\"type\":\"Plot\"}},\"id\":\"4286e2fa-bb9f-42f3-898b-0ab41d988d8e\",\"type\":\"PanTool\"},{\"attributes\":{\"callback\":null},\"id\":\"734a683b-c8e3-4d63-ba70-5c249ea4f548\",\"type\":\"DataRange1d\"},{\"attributes\":{},\"id\":\"6666add7-c3c7-4c83-8776-8122daa42bb9\",\"type\":\"BasicTickFormatter\"},{\"attributes\":{\"formatter\":{\"id\":\"6666add7-c3c7-4c83-8776-8122daa42bb9\",\"type\":\"BasicTickFormatter\"},\"plot\":{\"id\":\"8d42680b-ac7f-4e18-a850-eb880d9a2052\",\"subtype\":\"Figure\",\"type\":\"Plot\"},\"ticker\":{\"id\":\"225f6c09-8328-49b8-99df-f36b5678a037\",\"type\":\"BasicTicker\"}},\"id\":\"5efcef5c-edb1-46a2-87c5-18ff3c3932b2\",\"type\":\"LinearAxis\"},{\"attributes\":{\"plot\":{\"id\":\"8d42680b-ac7f-4e18-a850-eb880d9a2052\",\"subtype\":\"Figure\",\"type\":\"Plot\"}},\"id\":\"11b655fc-a24b-458f-b30e-b6437f9b4217\",\"type\":\"WheelZoomTool\"},{\"attributes\":{\"overlay\":{\"id\":\"00d95d60-b3f7-429a-8710-ef8ee2a2b0a3\",\"type\":\"BoxAnnotation\"},\"plot\":{\"id\":\"8d42680b-ac7f-4e18-a850-eb880d9a2052\",\"subtype\":\"Figure\",\"type\":\"Plot\"}},\"id\":\"b5a6f679-cac3-4881-9db0-2437aa184a23\",\"type\":\"BoxZoomTool\"},{\"attributes\":{\"plot\":{\"id\":\"8d42680b-ac7f-4e18-a850-eb880d9a2052\",\"subtype\":\"Figure\",\"type\":\"Plot\"}},\"id\":\"2c23fc1f-b24c-4f37-b164-dbf03686a8c9\",\"type\":\"SaveTool\"},{\"attributes\":{\"formatter\":{\"id\":\"74937360-ace0-4952-8911-ce8d5601e2c2\",\"type\":\"BasicTickFormatter\"},\"plot\":{\"id\":\"8d42680b-ac7f-4e18-a850-eb880d9a2052\",\"subtype\":\"Figure\",\"type\":\"Plot\"},\"ticker\":{\"id\":\"ea2b459e-4e72-451f-831d-16ca5c6d69f6\",\"type\":\"BasicTicker\"}},\"id\":\"cada9731-8a0f-4585-9baf-0c0ec7e4ca5f\",\"type\":\"LinearAxis\"},{\"attributes\":{\"plot\":{\"id\":\"8d42680b-ac7f-4e18-a850-eb880d9a2052\",\"subtype\":\"Figure\",\"type\":\"Plot\"}},\"id\":\"7c5ed153-23c1-4b9c-8ca6-27509bca4369\",\"type\":\"ResetTool\"},{\"attributes\":{\"plot\":{\"id\":\"8d42680b-ac7f-4e18-a850-eb880d9a2052\",\"subtype\":\"Figure\",\"type\":\"Plot\"}},\"id\":\"c07b93bf-403a-47bd-9ed0-9f1c19008546\",\"type\":\"HelpTool\"},{\"attributes\":{\"items\":[{\"id\":\"9f97404d-5c41-40c8-8eae-eabf029be244\",\"type\":\"LegendItem\"}],\"plot\":{\"id\":\"8d42680b-ac7f-4e18-a850-eb880d9a2052\",\"subtype\":\"Figure\",\"type\":\"Plot\"}},\"id\":\"4d4a74e2-c923-4959-aff0-f013590f3f37\",\"type\":\"Legend\"},{\"attributes\":{\"line_alpha\":{\"value\":0.1},\"line_color\":{\"value\":\"#1f77b4\"},\"line_width\":{\"value\":2},\"x\":{\"field\":\"x\"},\"y\":{\"field\":\"y\"}},\"id\":\"464505f1-0c4d-43c7-9745-d8349020ce7b\",\"type\":\"Line\"},{\"attributes\":{},\"id\":\"225f6c09-8328-49b8-99df-f36b5678a037\",\"type\":\"BasicTicker\"},{\"attributes\":{\"line_alpha\":{\"value\":0.7},\"line_color\":{\"value\":\"#D95B43\"},\"line_width\":{\"value\":2},\"x\":{\"field\":\"x\"},\"y\":{\"field\":\"y\"}},\"id\":\"1fcc3e7f-e8bc-4022-b159-e9dab7954fec\",\"type\":\"Line\"},{\"attributes\":{\"data_source\":{\"id\":\"520d321e-fb52-48c7-bcfa-40caf8e1c853\",\"type\":\"ColumnDataSource\"},\"glyph\":{\"id\":\"1fcc3e7f-e8bc-4022-b159-e9dab7954fec\",\"type\":\"Line\"},\"hover_glyph\":null,\"muted_glyph\":null,\"nonselection_glyph\":{\"id\":\"464505f1-0c4d-43c7-9745-d8349020ce7b\",\"type\":\"Line\"},\"selection_glyph\":null},\"id\":\"f1ab4d8d-432a-43fa-b044-e6b35ca39b3b\",\"type\":\"GlyphRenderer\"},{\"attributes\":{\"label\":{\"value\":\"PDF\"},\"renderers\":[{\"id\":\"f1ab4d8d-432a-43fa-b044-e6b35ca39b3b\",\"type\":\"GlyphRenderer\"}]},\"id\":\"9f97404d-5c41-40c8-8eae-eabf029be244\",\"type\":\"LegendItem\"},{\"attributes\":{\"active_drag\":\"auto\",\"active_scroll\":\"auto\",\"active_tap\":\"auto\",\"tools\":[{\"id\":\"4286e2fa-bb9f-42f3-898b-0ab41d988d8e\",\"type\":\"PanTool\"},{\"id\":\"11b655fc-a24b-458f-b30e-b6437f9b4217\",\"type\":\"WheelZoomTool\"},{\"id\":\"b5a6f679-cac3-4881-9db0-2437aa184a23\",\"type\":\"BoxZoomTool\"},{\"id\":\"2c23fc1f-b24c-4f37-b164-dbf03686a8c9\",\"type\":\"SaveTool\"},{\"id\":\"7c5ed153-23c1-4b9c-8ca6-27509bca4369\",\"type\":\"ResetTool\"},{\"id\":\"c07b93bf-403a-47bd-9ed0-9f1c19008546\",\"type\":\"HelpTool\"}]},\"id\":\"28b0087e-bf06-43f2-99e3-a84d0c6414a1\",\"type\":\"Toolbar\"},{\"attributes\":{\"callback\":null,\"column_names\":[\"left\",\"right\",\"top\"],\"data\":{\"left\":{\"__ndarray__\":\"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\",\"dtype\":\"float64\",\"shape\":[250]},\"right\":{\"__ndarray__\":\"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\",\"dtype\":\"float64\",\"shape\":[250]},\"top\":{\"__ndarray__\":\"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\",\"dtype\":\"float64\",\"shape\":[250]}}},\"id\":\"7790fbf1-8abd-4163-b7d9-29eab97cec12\",\"type\":\"ColumnDataSource\"},{\"attributes\":{\"below\":[{\"id\":\"cada9731-8a0f-4585-9baf-0c0ec7e4ca5f\",\"type\":\"LinearAxis\"}],\"left\":[{\"id\":\"5efcef5c-edb1-46a2-87c5-18ff3c3932b2\",\"type\":\"LinearAxis\"}],\"renderers\":[{\"id\":\"cada9731-8a0f-4585-9baf-0c0ec7e4ca5f\",\"type\":\"LinearAxis\"},{\"id\":\"ce4ceeff-4d33-4b13-a038-0c143d967a06\",\"type\":\"Grid\"},{\"id\":\"5efcef5c-edb1-46a2-87c5-18ff3c3932b2\",\"type\":\"LinearAxis\"},{\"id\":\"70ed80c5-c901-4714-80fa-9adaa38670f4\",\"type\":\"Grid\"},{\"id\":\"00d95d60-b3f7-429a-8710-ef8ee2a2b0a3\",\"type\":\"BoxAnnotation\"},{\"id\":\"90915282-8b29-4f1e-8a9f-00c22a325002\",\"type\":\"GlyphRenderer\"},{\"id\":\"4d4a74e2-c923-4959-aff0-f013590f3f37\",\"type\":\"Legend\"},{\"id\":\"f1ab4d8d-432a-43fa-b044-e6b35ca39b3b\",\"type\":\"GlyphRenderer\"}],\"title\":{\"id\":\"7d753197-a780-49f9-ae6f-561bfc79924d\",\"type\":\"Title\"},\"tool_events\":{\"id\":\"6e4eb561-1124-4980-af13-2bfd61a595e1\",\"type\":\"ToolEvents\"},\"toolbar\":{\"id\":\"28b0087e-bf06-43f2-99e3-a84d0c6414a1\",\"type\":\"Toolbar\"},\"x_range\":{\"id\":\"dc376c45-1c75-4b7c-8dab-9ff3c854362b\",\"type\":\"DataRange1d\"},\"y_range\":{\"id\":\"734a683b-c8e3-4d63-ba70-5c249ea4f548\",\"type\":\"DataRange1d\"}},\"id\":\"8d42680b-ac7f-4e18-a850-eb880d9a2052\",\"subtype\":\"Figure\",\"type\":\"Plot\"},{\"attributes\":{\"callback\":null,\"column_names\":[\"x\",\"y\"],\"data\":{\"x\":{\"__ndarray__\":\"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\",\"dtype\":\"float64\",\"shape\":[500]},\"y\":{\"__ndarray__\":\"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\",\"dtype\":\"float64\",\"shape\":[500]}}},\"id\":\"520d321e-fb52-48c7-bcfa-40caf8e1c853\",\"type\":\"ColumnDataSource\"},{\"attributes\":{\"plot\":null,\"text\":\"heimsieg\"},\"id\":\"7d753197-a780-49f9-ae6f-561bfc79924d\",\"type\":\"Title\"},{\"attributes\":{},\"id\":\"6e4eb561-1124-4980-af13-2bfd61a595e1\",\"type\":\"ToolEvents\"},{\"attributes\":{\"callback\":null},\"id\":\"dc376c45-1c75-4b7c-8dab-9ff3c854362b\",\"type\":\"DataRange1d\"}],\"root_ids\":[\"8d42680b-ac7f-4e18-a850-eb880d9a2052\"]},\"title\":\"Bokeh Application\",\"version\":\"0.12.5\"}};\n",
       "            var render_items = [{\"docid\":\"0eb31b7b-5348-4e56-80e1-f75ed5ddfe24\",\"elementid\":\"294e847c-d805-4c80-ac78-aee0c3150588\",\"modelid\":\"8d42680b-ac7f-4e18-a850-eb880d9a2052\"}];\n",
       "            \n",
       "            Bokeh.embed.embed_items(docs_json, render_items);\n",
       "          };\n",
       "          if (document.readyState != \"loading\") fn();\n",
       "          else document.addEventListener(\"DOMContentLoaded\", fn);\n",
       "        })();\n",
       "      },\n",
       "      function(Bokeh) {\n",
       "      }\n",
       "    ];\n",
       "  \n",
       "    function run_inline_js() {\n",
       "      \n",
       "      if ((window.Bokeh !== undefined) || (force === true)) {\n",
       "        for (var i = 0; i < inline_js.length; i++) {\n",
       "          inline_js[i](window.Bokeh);\n",
       "        }if (force === true) {\n",
       "          display_loaded();\n",
       "        }} else if (Date.now() < window._bokeh_timeout) {\n",
       "        setTimeout(run_inline_js, 100);\n",
       "      } else if (!window._bokeh_failed_load) {\n",
       "        console.log(\"Bokeh: BokehJS failed to load within specified timeout.\");\n",
       "        window._bokeh_failed_load = true;\n",
       "      } else if (force !== true) {\n",
       "        var cell = $(document.getElementById(\"294e847c-d805-4c80-ac78-aee0c3150588\")).parents('.cell').data().cell;\n",
       "        cell.output_area.append_execute_result(NB_LOAD_WARNING)\n",
       "      }\n",
       "  \n",
       "    }\n",
       "  \n",
       "    if (window._bokeh_is_loading === 0) {\n",
       "      console.log(\"Bokeh: BokehJS loaded, going straight to plotting\");\n",
       "      run_inline_js();\n",
       "    } else {\n",
       "      load_libs(js_urls, function() {\n",
       "        console.log(\"Bokeh: BokehJS plotting callback run at\", now());\n",
       "        run_inline_js();\n",
       "      });\n",
       "    }\n",
       "  }(this));\n",
       "</script>"
      ]
     },
     "metadata": {},
     "output_type": "display_data"
    }
   ],
   "source": [
    "p1 = figure(title='heimsieg')\n",
    "p1.quad(top=hist, bottom=0, left=edges[:-1], right=edges[1:],\n",
    "        fill_color=\"#036564\", line_color=\"#033649\")\n",
    "p1.line(x_val, y_val,  line_color=\"#D95B43\", line_width=2, alpha=0.7, legend=\"PDF\")\n",
    "show(p1)"
   ]
  },
  {
   "cell_type": "code",
   "execution_count": 36,
   "metadata": {
    "ExecuteTime": {
     "end_time": "2017-10-24T13:00:56.272640Z",
     "start_time": "2017-10-24T13:00:56.183539Z"
    }
   },
   "outputs": [
    {
     "data": {
      "text/html": [
       "\n",
       "\n",
       "    <div class=\"bk-root\">\n",
       "        <div class=\"bk-plotdiv\" id=\"47841939-0c4c-4f5c-9731-af586df27a06\"></div>\n",
       "    </div>\n",
       "<script type=\"text/javascript\">\n",
       "  \n",
       "  (function(global) {\n",
       "    function now() {\n",
       "      return new Date();\n",
       "    }\n",
       "  \n",
       "    var force = false;\n",
       "  \n",
       "    if (typeof (window._bokeh_onload_callbacks) === \"undefined\" || force === true) {\n",
       "      window._bokeh_onload_callbacks = [];\n",
       "      window._bokeh_is_loading = undefined;\n",
       "    }\n",
       "  \n",
       "  \n",
       "    \n",
       "    if (typeof (window._bokeh_timeout) === \"undefined\" || force === true) {\n",
       "      window._bokeh_timeout = Date.now() + 0;\n",
       "      window._bokeh_failed_load = false;\n",
       "    }\n",
       "  \n",
       "    var NB_LOAD_WARNING = {'data': {'text/html':\n",
       "       \"<div style='background-color: #fdd'>\\n\"+\n",
       "       \"<p>\\n\"+\n",
       "       \"BokehJS does not appear to have successfully loaded. If loading BokehJS from CDN, this \\n\"+\n",
       "       \"may be due to a slow or bad network connection. Possible fixes:\\n\"+\n",
       "       \"</p>\\n\"+\n",
       "       \"<ul>\\n\"+\n",
       "       \"<li>re-rerun `output_notebook()` to attempt to load from CDN again, or</li>\\n\"+\n",
       "       \"<li>use INLINE resources instead, as so:</li>\\n\"+\n",
       "       \"</ul>\\n\"+\n",
       "       \"<code>\\n\"+\n",
       "       \"from bokeh.resources import INLINE\\n\"+\n",
       "       \"output_notebook(resources=INLINE)\\n\"+\n",
       "       \"</code>\\n\"+\n",
       "       \"</div>\"}};\n",
       "  \n",
       "    function display_loaded() {\n",
       "      if (window.Bokeh !== undefined) {\n",
       "        var el = document.getElementById(\"47841939-0c4c-4f5c-9731-af586df27a06\");\n",
       "        el.textContent = \"BokehJS \" + Bokeh.version + \" successfully loaded.\";\n",
       "      } else if (Date.now() < window._bokeh_timeout) {\n",
       "        setTimeout(display_loaded, 100)\n",
       "      }\n",
       "    }\n",
       "  \n",
       "    function run_callbacks() {\n",
       "      window._bokeh_onload_callbacks.forEach(function(callback) { callback() });\n",
       "      delete window._bokeh_onload_callbacks\n",
       "      console.info(\"Bokeh: all callbacks have finished\");\n",
       "    }\n",
       "  \n",
       "    function load_libs(js_urls, callback) {\n",
       "      window._bokeh_onload_callbacks.push(callback);\n",
       "      if (window._bokeh_is_loading > 0) {\n",
       "        console.log(\"Bokeh: BokehJS is being loaded, scheduling callback at\", now());\n",
       "        return null;\n",
       "      }\n",
       "      if (js_urls == null || js_urls.length === 0) {\n",
       "        run_callbacks();\n",
       "        return null;\n",
       "      }\n",
       "      console.log(\"Bokeh: BokehJS not loaded, scheduling load and callback at\", now());\n",
       "      window._bokeh_is_loading = js_urls.length;\n",
       "      for (var i = 0; i < js_urls.length; i++) {\n",
       "        var url = js_urls[i];\n",
       "        var s = document.createElement('script');\n",
       "        s.src = url;\n",
       "        s.async = false;\n",
       "        s.onreadystatechange = s.onload = function() {\n",
       "          window._bokeh_is_loading--;\n",
       "          if (window._bokeh_is_loading === 0) {\n",
       "            console.log(\"Bokeh: all BokehJS libraries loaded\");\n",
       "            run_callbacks()\n",
       "          }\n",
       "        };\n",
       "        s.onerror = function() {\n",
       "          console.warn(\"failed to load library \" + url);\n",
       "        };\n",
       "        console.log(\"Bokeh: injecting script tag for BokehJS library: \", url);\n",
       "        document.getElementsByTagName(\"head\")[0].appendChild(s);\n",
       "      }\n",
       "    };var element = document.getElementById(\"47841939-0c4c-4f5c-9731-af586df27a06\");\n",
       "    if (element == null) {\n",
       "      console.log(\"Bokeh: ERROR: autoload.js configured with elementid '47841939-0c4c-4f5c-9731-af586df27a06' but no matching script tag was found. \")\n",
       "      return false;\n",
       "    }\n",
       "  \n",
       "    var js_urls = [];\n",
       "  \n",
       "    var inline_js = [\n",
       "      function(Bokeh) {\n",
       "        (function() {\n",
       "          var fn = function() {\n",
       "            var docs_json = {\"2fd8f362-6562-42f2-92dd-a8af86e5a270\":{\"roots\":{\"references\":[{\"attributes\":{\"plot\":{\"id\":\"809b2231-971e-4595-822d-69dd1cd90095\",\"subtype\":\"Figure\",\"type\":\"Plot\"}},\"id\":\"c84c63ce-cea1-44c6-aff4-53a9122444b9\",\"type\":\"HelpTool\"},{\"attributes\":{\"line_alpha\":{\"value\":0.7},\"line_color\":{\"value\":\"#D95B43\"},\"line_width\":{\"value\":2},\"x\":{\"field\":\"x\"},\"y\":{\"field\":\"y\"}},\"id\":\"29501f47-b623-491a-8fab-977532f0c379\",\"type\":\"Line\"},{\"attributes\":{\"formatter\":{\"id\":\"ca4b75a0-9fb8-475b-8760-3e04d6c299e2\",\"type\":\"BasicTickFormatter\"},\"plot\":{\"id\":\"809b2231-971e-4595-822d-69dd1cd90095\",\"subtype\":\"Figure\",\"type\":\"Plot\"},\"ticker\":{\"id\":\"e3f08b3c-9bab-49a6-bb47-5c8629220128\",\"type\":\"BasicTicker\"}},\"id\":\"50c5b3ec-fa57-4c27-ae49-5e3946facef2\",\"type\":\"LinearAxis\"},{\"attributes\":{\"data_source\":{\"id\":\"9f19c0be-f2ec-4ae7-b1a4-5ec883c09d40\",\"type\":\"ColumnDataSource\"},\"glyph\":{\"id\":\"29501f47-b623-491a-8fab-977532f0c379\",\"type\":\"Line\"},\"hover_glyph\":null,\"muted_glyph\":null,\"nonselection_glyph\":{\"id\":\"3d3e409a-6059-4129-b850-891587c57690\",\"type\":\"Line\"},\"selection_glyph\":null},\"id\":\"9955b064-b994-4a7a-b874-ed68ae7513dc\",\"type\":\"GlyphRenderer\"},{\"attributes\":{\"items\":[{\"id\":\"bb6a4f09-60e0-485c-b133-dfab22291cd4\",\"type\":\"LegendItem\"}],\"plot\":{\"id\":\"809b2231-971e-4595-822d-69dd1cd90095\",\"subtype\":\"Figure\",\"type\":\"Plot\"}},\"id\":\"f1d24938-1316-4071-8ae8-97f4b0a75192\",\"type\":\"Legend\"},{\"attributes\":{\"label\":{\"value\":\"PDF\"},\"renderers\":[{\"id\":\"9955b064-b994-4a7a-b874-ed68ae7513dc\",\"type\":\"GlyphRenderer\"}]},\"id\":\"bb6a4f09-60e0-485c-b133-dfab22291cd4\",\"type\":\"LegendItem\"},{\"attributes\":{\"active_drag\":\"auto\",\"active_scroll\":\"auto\",\"active_tap\":\"auto\",\"tools\":[{\"id\":\"652dec9f-fdf2-4192-a61d-4a3935ab1333\",\"type\":\"PanTool\"},{\"id\":\"3be747a9-f2a8-4d4a-be50-e2c876a6f2c0\",\"type\":\"WheelZoomTool\"},{\"id\":\"0f4997cd-0dd8-4611-9eba-d9c139d7c4f2\",\"type\":\"BoxZoomTool\"},{\"id\":\"0af7be01-c963-4377-8fe6-b4df2c0c23c0\",\"type\":\"SaveTool\"},{\"id\":\"9aa3e8e1-361a-4878-9993-f9258488b9e4\",\"type\":\"ResetTool\"},{\"id\":\"c84c63ce-cea1-44c6-aff4-53a9122444b9\",\"type\":\"HelpTool\"}]},\"id\":\"b35540df-5b1b-4b34-9613-df0def5547b9\",\"type\":\"Toolbar\"},{\"attributes\":{\"plot\":null,\"text\":\"draw\"},\"id\":\"65d7bc83-2cfc-4fab-b8e0-90fba46941e0\",\"type\":\"Title\"},{\"attributes\":{\"data_source\":{\"id\":\"832c9c21-44da-4358-8acc-81ec884d119d\",\"type\":\"ColumnDataSource\"},\"glyph\":{\"id\":\"30dba0d4-5451-4152-b308-8de2dd984a93\",\"type\":\"Quad\"},\"hover_glyph\":null,\"muted_glyph\":null,\"nonselection_glyph\":{\"id\":\"32a90e02-5944-4329-863b-a45df53486e0\",\"type\":\"Quad\"},\"selection_glyph\":null},\"id\":\"29cbd42f-023a-4d0f-9d01-fdff9e848aec\",\"type\":\"GlyphRenderer\"},{\"attributes\":{\"bottom\":{\"value\":0},\"fill_color\":{\"value\":\"#036564\"},\"left\":{\"field\":\"left\"},\"line_color\":{\"value\":\"#033649\"},\"right\":{\"field\":\"right\"},\"top\":{\"field\":\"top\"}},\"id\":\"30dba0d4-5451-4152-b308-8de2dd984a93\",\"type\":\"Quad\"},{\"attributes\":{\"callback\":null},\"id\":\"426f0377-38e4-4618-bd89-2f73ee5a514a\",\"type\":\"DataRange1d\"},{\"attributes\":{},\"id\":\"bd92b61b-9496-4ba9-84ea-db0fba1fa7dc\",\"type\":\"ToolEvents\"},{\"attributes\":{},\"id\":\"e3f08b3c-9bab-49a6-bb47-5c8629220128\",\"type\":\"BasicTicker\"},{\"attributes\":{\"callback\":null},\"id\":\"56c50e04-e028-403c-b914-0eb102ed713d\",\"type\":\"DataRange1d\"},{\"attributes\":{\"formatter\":{\"id\":\"f8fa3d81-4dc1-4dd4-9871-629a6f11034a\",\"type\":\"BasicTickFormatter\"},\"plot\":{\"id\":\"809b2231-971e-4595-822d-69dd1cd90095\",\"subtype\":\"Figure\",\"type\":\"Plot\"},\"ticker\":{\"id\":\"78017208-9b4b-48f2-a3a3-303af9f5bb19\",\"type\":\"BasicTicker\"}},\"id\":\"b7021b08-4fe9-4789-9172-367a0aca82cf\",\"type\":\"LinearAxis\"},{\"attributes\":{\"plot\":{\"id\":\"809b2231-971e-4595-822d-69dd1cd90095\",\"subtype\":\"Figure\",\"type\":\"Plot\"},\"ticker\":{\"id\":\"e3f08b3c-9bab-49a6-bb47-5c8629220128\",\"type\":\"BasicTicker\"}},\"id\":\"54eab6a8-023f-4c96-ab68-b45d2436de1a\",\"type\":\"Grid\"},{\"attributes\":{\"line_alpha\":{\"value\":0.1},\"line_color\":{\"value\":\"#1f77b4\"},\"line_width\":{\"value\":2},\"x\":{\"field\":\"x\"},\"y\":{\"field\":\"y\"}},\"id\":\"3d3e409a-6059-4129-b850-891587c57690\",\"type\":\"Line\"},{\"attributes\":{\"dimension\":1,\"plot\":{\"id\":\"809b2231-971e-4595-822d-69dd1cd90095\",\"subtype\":\"Figure\",\"type\":\"Plot\"},\"ticker\":{\"id\":\"78017208-9b4b-48f2-a3a3-303af9f5bb19\",\"type\":\"BasicTicker\"}},\"id\":\"a0bbe876-65b9-4405-a28b-a28d47107984\",\"type\":\"Grid\"},{\"attributes\":{\"plot\":{\"id\":\"809b2231-971e-4595-822d-69dd1cd90095\",\"subtype\":\"Figure\",\"type\":\"Plot\"}},\"id\":\"3be747a9-f2a8-4d4a-be50-e2c876a6f2c0\",\"type\":\"WheelZoomTool\"},{\"attributes\":{},\"id\":\"ca4b75a0-9fb8-475b-8760-3e04d6c299e2\",\"type\":\"BasicTickFormatter\"},{\"attributes\":{},\"id\":\"78017208-9b4b-48f2-a3a3-303af9f5bb19\",\"type\":\"BasicTicker\"},{\"attributes\":{},\"id\":\"f8fa3d81-4dc1-4dd4-9871-629a6f11034a\",\"type\":\"BasicTickFormatter\"},{\"attributes\":{\"below\":[{\"id\":\"50c5b3ec-fa57-4c27-ae49-5e3946facef2\",\"type\":\"LinearAxis\"}],\"left\":[{\"id\":\"b7021b08-4fe9-4789-9172-367a0aca82cf\",\"type\":\"LinearAxis\"}],\"renderers\":[{\"id\":\"50c5b3ec-fa57-4c27-ae49-5e3946facef2\",\"type\":\"LinearAxis\"},{\"id\":\"54eab6a8-023f-4c96-ab68-b45d2436de1a\",\"type\":\"Grid\"},{\"id\":\"b7021b08-4fe9-4789-9172-367a0aca82cf\",\"type\":\"LinearAxis\"},{\"id\":\"a0bbe876-65b9-4405-a28b-a28d47107984\",\"type\":\"Grid\"},{\"id\":\"12113d39-0f29-4b53-8a21-e50ad22aa949\",\"type\":\"BoxAnnotation\"},{\"id\":\"29cbd42f-023a-4d0f-9d01-fdff9e848aec\",\"type\":\"GlyphRenderer\"},{\"id\":\"f1d24938-1316-4071-8ae8-97f4b0a75192\",\"type\":\"Legend\"},{\"id\":\"9955b064-b994-4a7a-b874-ed68ae7513dc\",\"type\":\"GlyphRenderer\"}],\"title\":{\"id\":\"65d7bc83-2cfc-4fab-b8e0-90fba46941e0\",\"type\":\"Title\"},\"tool_events\":{\"id\":\"bd92b61b-9496-4ba9-84ea-db0fba1fa7dc\",\"type\":\"ToolEvents\"},\"toolbar\":{\"id\":\"b35540df-5b1b-4b34-9613-df0def5547b9\",\"type\":\"Toolbar\"},\"x_range\":{\"id\":\"426f0377-38e4-4618-bd89-2f73ee5a514a\",\"type\":\"DataRange1d\"},\"y_range\":{\"id\":\"56c50e04-e028-403c-b914-0eb102ed713d\",\"type\":\"DataRange1d\"}},\"id\":\"809b2231-971e-4595-822d-69dd1cd90095\",\"subtype\":\"Figure\",\"type\":\"Plot\"},{\"attributes\":{\"bottom_units\":\"screen\",\"fill_alpha\":{\"value\":0.5},\"fill_color\":{\"value\":\"lightgrey\"},\"left_units\":\"screen\",\"level\":\"overlay\",\"line_alpha\":{\"value\":1.0},\"line_color\":{\"value\":\"black\"},\"line_dash\":[4,4],\"line_width\":{\"value\":2},\"plot\":null,\"render_mode\":\"css\",\"right_units\":\"screen\",\"top_units\":\"screen\"},\"id\":\"12113d39-0f29-4b53-8a21-e50ad22aa949\",\"type\":\"BoxAnnotation\"},{\"attributes\":{\"callback\":null,\"column_names\":[\"x\",\"y\"],\"data\":{\"x\":{\"__ndarray__\":\"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\",\"dtype\":\"float64\",\"shape\":[500]},\"y\":{\"__ndarray__\":\"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\",\"dtype\":\"float64\",\"shape\":[500]}}},\"id\":\"9f19c0be-f2ec-4ae7-b1a4-5ec883c09d40\",\"type\":\"ColumnDataSource\"},{\"attributes\":{\"overlay\":{\"id\":\"12113d39-0f29-4b53-8a21-e50ad22aa949\",\"type\":\"BoxAnnotation\"},\"plot\":{\"id\":\"809b2231-971e-4595-822d-69dd1cd90095\",\"subtype\":\"Figure\",\"type\":\"Plot\"}},\"id\":\"0f4997cd-0dd8-4611-9eba-d9c139d7c4f2\",\"type\":\"BoxZoomTool\"},{\"attributes\":{\"callback\":null,\"column_names\":[\"left\",\"right\",\"top\"],\"data\":{\"left\":{\"__ndarray__\":\"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\",\"dtype\":\"float64\",\"shape\":[250]},\"right\":{\"__ndarray__\":\"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\",\"dtype\":\"float64\",\"shape\":[250]},\"top\":{\"__ndarray__\":\"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\",\"dtype\":\"float64\",\"shape\":[250]}}},\"id\":\"832c9c21-44da-4358-8acc-81ec884d119d\",\"type\":\"ColumnDataSource\"},{\"attributes\":{\"bottom\":{\"value\":0},\"fill_alpha\":{\"value\":0.1},\"fill_color\":{\"value\":\"#1f77b4\"},\"left\":{\"field\":\"left\"},\"line_alpha\":{\"value\":0.1},\"line_color\":{\"value\":\"#1f77b4\"},\"right\":{\"field\":\"right\"},\"top\":{\"field\":\"top\"}},\"id\":\"32a90e02-5944-4329-863b-a45df53486e0\",\"type\":\"Quad\"},{\"attributes\":{\"plot\":{\"id\":\"809b2231-971e-4595-822d-69dd1cd90095\",\"subtype\":\"Figure\",\"type\":\"Plot\"}},\"id\":\"0af7be01-c963-4377-8fe6-b4df2c0c23c0\",\"type\":\"SaveTool\"},{\"attributes\":{\"plot\":{\"id\":\"809b2231-971e-4595-822d-69dd1cd90095\",\"subtype\":\"Figure\",\"type\":\"Plot\"}},\"id\":\"652dec9f-fdf2-4192-a61d-4a3935ab1333\",\"type\":\"PanTool\"},{\"attributes\":{\"plot\":{\"id\":\"809b2231-971e-4595-822d-69dd1cd90095\",\"subtype\":\"Figure\",\"type\":\"Plot\"}},\"id\":\"9aa3e8e1-361a-4878-9993-f9258488b9e4\",\"type\":\"ResetTool\"}],\"root_ids\":[\"809b2231-971e-4595-822d-69dd1cd90095\"]},\"title\":\"Bokeh Application\",\"version\":\"0.12.5\"}};\n",
       "            var render_items = [{\"docid\":\"2fd8f362-6562-42f2-92dd-a8af86e5a270\",\"elementid\":\"47841939-0c4c-4f5c-9731-af586df27a06\",\"modelid\":\"809b2231-971e-4595-822d-69dd1cd90095\"}];\n",
       "            \n",
       "            Bokeh.embed.embed_items(docs_json, render_items);\n",
       "          };\n",
       "          if (document.readyState != \"loading\") fn();\n",
       "          else document.addEventListener(\"DOMContentLoaded\", fn);\n",
       "        })();\n",
       "      },\n",
       "      function(Bokeh) {\n",
       "      }\n",
       "    ];\n",
       "  \n",
       "    function run_inline_js() {\n",
       "      \n",
       "      if ((window.Bokeh !== undefined) || (force === true)) {\n",
       "        for (var i = 0; i < inline_js.length; i++) {\n",
       "          inline_js[i](window.Bokeh);\n",
       "        }if (force === true) {\n",
       "          display_loaded();\n",
       "        }} else if (Date.now() < window._bokeh_timeout) {\n",
       "        setTimeout(run_inline_js, 100);\n",
       "      } else if (!window._bokeh_failed_load) {\n",
       "        console.log(\"Bokeh: BokehJS failed to load within specified timeout.\");\n",
       "        window._bokeh_failed_load = true;\n",
       "      } else if (force !== true) {\n",
       "        var cell = $(document.getElementById(\"47841939-0c4c-4f5c-9731-af586df27a06\")).parents('.cell').data().cell;\n",
       "        cell.output_area.append_execute_result(NB_LOAD_WARNING)\n",
       "      }\n",
       "  \n",
       "    }\n",
       "  \n",
       "    if (window._bokeh_is_loading === 0) {\n",
       "      console.log(\"Bokeh: BokehJS loaded, going straight to plotting\");\n",
       "      run_inline_js();\n",
       "    } else {\n",
       "      load_libs(js_urls, function() {\n",
       "        console.log(\"Bokeh: BokehJS plotting callback run at\", now());\n",
       "        run_inline_js();\n",
       "      });\n",
       "    }\n",
       "  }(this));\n",
       "</script>"
      ]
     },
     "metadata": {},
     "output_type": "display_data"
    }
   ],
   "source": [
    "mean1, std1 = norm.fit(corr[1])\n",
    "y_val1 = norm.pdf(x_val, mean1, std1)\n",
    "p2 = figure(title='draw')\n",
    "p2.quad(top=hist1, bottom=0, left=edges1[:-1], right=edges1[1:],\n",
    "        fill_color=\"#036564\", line_color=\"#033649\")\n",
    "p2.line(x_val, y_val1,  line_color=\"#D95B43\", line_width=2, alpha=0.7, legend=\"PDF\")\n",
    "show(p2)"
   ]
  },
  {
   "cell_type": "code",
   "execution_count": 37,
   "metadata": {
    "ExecuteTime": {
     "end_time": "2017-10-24T13:00:56.405284Z",
     "start_time": "2017-10-24T13:00:56.351654Z"
    }
   },
   "outputs": [
    {
     "data": {
      "text/html": [
       "\n",
       "\n",
       "    <div class=\"bk-root\">\n",
       "        <div class=\"bk-plotdiv\" id=\"dd5c92e1-a35e-4c60-b2ab-397df1748f98\"></div>\n",
       "    </div>\n",
       "<script type=\"text/javascript\">\n",
       "  \n",
       "  (function(global) {\n",
       "    function now() {\n",
       "      return new Date();\n",
       "    }\n",
       "  \n",
       "    var force = false;\n",
       "  \n",
       "    if (typeof (window._bokeh_onload_callbacks) === \"undefined\" || force === true) {\n",
       "      window._bokeh_onload_callbacks = [];\n",
       "      window._bokeh_is_loading = undefined;\n",
       "    }\n",
       "  \n",
       "  \n",
       "    \n",
       "    if (typeof (window._bokeh_timeout) === \"undefined\" || force === true) {\n",
       "      window._bokeh_timeout = Date.now() + 0;\n",
       "      window._bokeh_failed_load = false;\n",
       "    }\n",
       "  \n",
       "    var NB_LOAD_WARNING = {'data': {'text/html':\n",
       "       \"<div style='background-color: #fdd'>\\n\"+\n",
       "       \"<p>\\n\"+\n",
       "       \"BokehJS does not appear to have successfully loaded. If loading BokehJS from CDN, this \\n\"+\n",
       "       \"may be due to a slow or bad network connection. Possible fixes:\\n\"+\n",
       "       \"</p>\\n\"+\n",
       "       \"<ul>\\n\"+\n",
       "       \"<li>re-rerun `output_notebook()` to attempt to load from CDN again, or</li>\\n\"+\n",
       "       \"<li>use INLINE resources instead, as so:</li>\\n\"+\n",
       "       \"</ul>\\n\"+\n",
       "       \"<code>\\n\"+\n",
       "       \"from bokeh.resources import INLINE\\n\"+\n",
       "       \"output_notebook(resources=INLINE)\\n\"+\n",
       "       \"</code>\\n\"+\n",
       "       \"</div>\"}};\n",
       "  \n",
       "    function display_loaded() {\n",
       "      if (window.Bokeh !== undefined) {\n",
       "        var el = document.getElementById(\"dd5c92e1-a35e-4c60-b2ab-397df1748f98\");\n",
       "        el.textContent = \"BokehJS \" + Bokeh.version + \" successfully loaded.\";\n",
       "      } else if (Date.now() < window._bokeh_timeout) {\n",
       "        setTimeout(display_loaded, 100)\n",
       "      }\n",
       "    }\n",
       "  \n",
       "    function run_callbacks() {\n",
       "      window._bokeh_onload_callbacks.forEach(function(callback) { callback() });\n",
       "      delete window._bokeh_onload_callbacks\n",
       "      console.info(\"Bokeh: all callbacks have finished\");\n",
       "    }\n",
       "  \n",
       "    function load_libs(js_urls, callback) {\n",
       "      window._bokeh_onload_callbacks.push(callback);\n",
       "      if (window._bokeh_is_loading > 0) {\n",
       "        console.log(\"Bokeh: BokehJS is being loaded, scheduling callback at\", now());\n",
       "        return null;\n",
       "      }\n",
       "      if (js_urls == null || js_urls.length === 0) {\n",
       "        run_callbacks();\n",
       "        return null;\n",
       "      }\n",
       "      console.log(\"Bokeh: BokehJS not loaded, scheduling load and callback at\", now());\n",
       "      window._bokeh_is_loading = js_urls.length;\n",
       "      for (var i = 0; i < js_urls.length; i++) {\n",
       "        var url = js_urls[i];\n",
       "        var s = document.createElement('script');\n",
       "        s.src = url;\n",
       "        s.async = false;\n",
       "        s.onreadystatechange = s.onload = function() {\n",
       "          window._bokeh_is_loading--;\n",
       "          if (window._bokeh_is_loading === 0) {\n",
       "            console.log(\"Bokeh: all BokehJS libraries loaded\");\n",
       "            run_callbacks()\n",
       "          }\n",
       "        };\n",
       "        s.onerror = function() {\n",
       "          console.warn(\"failed to load library \" + url);\n",
       "        };\n",
       "        console.log(\"Bokeh: injecting script tag for BokehJS library: \", url);\n",
       "        document.getElementsByTagName(\"head\")[0].appendChild(s);\n",
       "      }\n",
       "    };var element = document.getElementById(\"dd5c92e1-a35e-4c60-b2ab-397df1748f98\");\n",
       "    if (element == null) {\n",
       "      console.log(\"Bokeh: ERROR: autoload.js configured with elementid 'dd5c92e1-a35e-4c60-b2ab-397df1748f98' but no matching script tag was found. \")\n",
       "      return false;\n",
       "    }\n",
       "  \n",
       "    var js_urls = [];\n",
       "  \n",
       "    var inline_js = [\n",
       "      function(Bokeh) {\n",
       "        (function() {\n",
       "          var fn = function() {\n",
       "            var docs_json = {\"719cfd73-60e8-4233-b02a-c366f06999d9\":{\"roots\":{\"references\":[{\"attributes\":{\"bottom\":{\"value\":0},\"fill_alpha\":{\"value\":0.1},\"fill_color\":{\"value\":\"#1f77b4\"},\"left\":{\"field\":\"left\"},\"line_alpha\":{\"value\":0.1},\"line_color\":{\"value\":\"#1f77b4\"},\"right\":{\"field\":\"right\"},\"top\":{\"field\":\"top\"}},\"id\":\"7d00c0ef-46cc-48d9-86b4-a76621cfd3ca\",\"type\":\"Quad\"},{\"attributes\":{\"dimension\":1,\"plot\":{\"id\":\"8d42680b-ac7f-4e18-a850-eb880d9a2052\",\"subtype\":\"Figure\",\"type\":\"Plot\"},\"ticker\":{\"id\":\"225f6c09-8328-49b8-99df-f36b5678a037\",\"type\":\"BasicTicker\"}},\"id\":\"70ed80c5-c901-4714-80fa-9adaa38670f4\",\"type\":\"Grid\"},{\"attributes\":{\"data_source\":{\"id\":\"7790fbf1-8abd-4163-b7d9-29eab97cec12\",\"type\":\"ColumnDataSource\"},\"glyph\":{\"id\":\"fb64e7d8-09b8-48f8-96b0-89335021a1d2\",\"type\":\"Quad\"},\"hover_glyph\":null,\"muted_glyph\":null,\"nonselection_glyph\":{\"id\":\"7d00c0ef-46cc-48d9-86b4-a76621cfd3ca\",\"type\":\"Quad\"},\"selection_glyph\":null},\"id\":\"90915282-8b29-4f1e-8a9f-00c22a325002\",\"type\":\"GlyphRenderer\"},{\"attributes\":{\"plot\":{\"id\":\"8d42680b-ac7f-4e18-a850-eb880d9a2052\",\"subtype\":\"Figure\",\"type\":\"Plot\"},\"ticker\":{\"id\":\"ea2b459e-4e72-451f-831d-16ca5c6d69f6\",\"type\":\"BasicTicker\"}},\"id\":\"ce4ceeff-4d33-4b13-a038-0c143d967a06\",\"type\":\"Grid\"},{\"attributes\":{\"bottom\":{\"value\":0},\"fill_color\":{\"value\":\"#036564\"},\"left\":{\"field\":\"left\"},\"line_color\":{\"value\":\"#033649\"},\"right\":{\"field\":\"right\"},\"top\":{\"field\":\"top\"}},\"id\":\"fb64e7d8-09b8-48f8-96b0-89335021a1d2\",\"type\":\"Quad\"},{\"attributes\":{},\"id\":\"74937360-ace0-4952-8911-ce8d5601e2c2\",\"type\":\"BasicTickFormatter\"},{\"attributes\":{},\"id\":\"ea2b459e-4e72-451f-831d-16ca5c6d69f6\",\"type\":\"BasicTicker\"},{\"attributes\":{\"bottom_units\":\"screen\",\"fill_alpha\":{\"value\":0.5},\"fill_color\":{\"value\":\"lightgrey\"},\"left_units\":\"screen\",\"level\":\"overlay\",\"line_alpha\":{\"value\":1.0},\"line_color\":{\"value\":\"black\"},\"line_dash\":[4,4],\"line_width\":{\"value\":2},\"plot\":null,\"render_mode\":\"css\",\"right_units\":\"screen\",\"top_units\":\"screen\"},\"id\":\"00d95d60-b3f7-429a-8710-ef8ee2a2b0a3\",\"type\":\"BoxAnnotation\"},{\"attributes\":{\"plot\":{\"id\":\"8d42680b-ac7f-4e18-a850-eb880d9a2052\",\"subtype\":\"Figure\",\"type\":\"Plot\"}},\"id\":\"4286e2fa-bb9f-42f3-898b-0ab41d988d8e\",\"type\":\"PanTool\"},{\"attributes\":{\"callback\":null},\"id\":\"734a683b-c8e3-4d63-ba70-5c249ea4f548\",\"type\":\"DataRange1d\"},{\"attributes\":{},\"id\":\"6666add7-c3c7-4c83-8776-8122daa42bb9\",\"type\":\"BasicTickFormatter\"},{\"attributes\":{\"formatter\":{\"id\":\"6666add7-c3c7-4c83-8776-8122daa42bb9\",\"type\":\"BasicTickFormatter\"},\"plot\":{\"id\":\"8d42680b-ac7f-4e18-a850-eb880d9a2052\",\"subtype\":\"Figure\",\"type\":\"Plot\"},\"ticker\":{\"id\":\"225f6c09-8328-49b8-99df-f36b5678a037\",\"type\":\"BasicTicker\"}},\"id\":\"5efcef5c-edb1-46a2-87c5-18ff3c3932b2\",\"type\":\"LinearAxis\"},{\"attributes\":{\"plot\":{\"id\":\"8d42680b-ac7f-4e18-a850-eb880d9a2052\",\"subtype\":\"Figure\",\"type\":\"Plot\"}},\"id\":\"11b655fc-a24b-458f-b30e-b6437f9b4217\",\"type\":\"WheelZoomTool\"},{\"attributes\":{\"overlay\":{\"id\":\"00d95d60-b3f7-429a-8710-ef8ee2a2b0a3\",\"type\":\"BoxAnnotation\"},\"plot\":{\"id\":\"8d42680b-ac7f-4e18-a850-eb880d9a2052\",\"subtype\":\"Figure\",\"type\":\"Plot\"}},\"id\":\"b5a6f679-cac3-4881-9db0-2437aa184a23\",\"type\":\"BoxZoomTool\"},{\"attributes\":{\"plot\":{\"id\":\"8d42680b-ac7f-4e18-a850-eb880d9a2052\",\"subtype\":\"Figure\",\"type\":\"Plot\"}},\"id\":\"2c23fc1f-b24c-4f37-b164-dbf03686a8c9\",\"type\":\"SaveTool\"},{\"attributes\":{\"formatter\":{\"id\":\"74937360-ace0-4952-8911-ce8d5601e2c2\",\"type\":\"BasicTickFormatter\"},\"plot\":{\"id\":\"8d42680b-ac7f-4e18-a850-eb880d9a2052\",\"subtype\":\"Figure\",\"type\":\"Plot\"},\"ticker\":{\"id\":\"ea2b459e-4e72-451f-831d-16ca5c6d69f6\",\"type\":\"BasicTicker\"}},\"id\":\"cada9731-8a0f-4585-9baf-0c0ec7e4ca5f\",\"type\":\"LinearAxis\"},{\"attributes\":{\"plot\":{\"id\":\"8d42680b-ac7f-4e18-a850-eb880d9a2052\",\"subtype\":\"Figure\",\"type\":\"Plot\"}},\"id\":\"7c5ed153-23c1-4b9c-8ca6-27509bca4369\",\"type\":\"ResetTool\"},{\"attributes\":{\"plot\":{\"id\":\"8d42680b-ac7f-4e18-a850-eb880d9a2052\",\"subtype\":\"Figure\",\"type\":\"Plot\"}},\"id\":\"c07b93bf-403a-47bd-9ed0-9f1c19008546\",\"type\":\"HelpTool\"},{\"attributes\":{\"items\":[{\"id\":\"9f97404d-5c41-40c8-8eae-eabf029be244\",\"type\":\"LegendItem\"}],\"plot\":{\"id\":\"8d42680b-ac7f-4e18-a850-eb880d9a2052\",\"subtype\":\"Figure\",\"type\":\"Plot\"}},\"id\":\"4d4a74e2-c923-4959-aff0-f013590f3f37\",\"type\":\"Legend\"},{\"attributes\":{\"line_alpha\":{\"value\":0.1},\"line_color\":{\"value\":\"#1f77b4\"},\"line_width\":{\"value\":2},\"x\":{\"field\":\"x\"},\"y\":{\"field\":\"y\"}},\"id\":\"464505f1-0c4d-43c7-9745-d8349020ce7b\",\"type\":\"Line\"},{\"attributes\":{},\"id\":\"225f6c09-8328-49b8-99df-f36b5678a037\",\"type\":\"BasicTicker\"},{\"attributes\":{\"line_alpha\":{\"value\":0.7},\"line_color\":{\"value\":\"#D95B43\"},\"line_width\":{\"value\":2},\"x\":{\"field\":\"x\"},\"y\":{\"field\":\"y\"}},\"id\":\"1fcc3e7f-e8bc-4022-b159-e9dab7954fec\",\"type\":\"Line\"},{\"attributes\":{\"data_source\":{\"id\":\"520d321e-fb52-48c7-bcfa-40caf8e1c853\",\"type\":\"ColumnDataSource\"},\"glyph\":{\"id\":\"1fcc3e7f-e8bc-4022-b159-e9dab7954fec\",\"type\":\"Line\"},\"hover_glyph\":null,\"muted_glyph\":null,\"nonselection_glyph\":{\"id\":\"464505f1-0c4d-43c7-9745-d8349020ce7b\",\"type\":\"Line\"},\"selection_glyph\":null},\"id\":\"f1ab4d8d-432a-43fa-b044-e6b35ca39b3b\",\"type\":\"GlyphRenderer\"},{\"attributes\":{\"label\":{\"value\":\"PDF\"},\"renderers\":[{\"id\":\"f1ab4d8d-432a-43fa-b044-e6b35ca39b3b\",\"type\":\"GlyphRenderer\"}]},\"id\":\"9f97404d-5c41-40c8-8eae-eabf029be244\",\"type\":\"LegendItem\"},{\"attributes\":{\"active_drag\":\"auto\",\"active_scroll\":\"auto\",\"active_tap\":\"auto\",\"tools\":[{\"id\":\"4286e2fa-bb9f-42f3-898b-0ab41d988d8e\",\"type\":\"PanTool\"},{\"id\":\"11b655fc-a24b-458f-b30e-b6437f9b4217\",\"type\":\"WheelZoomTool\"},{\"id\":\"b5a6f679-cac3-4881-9db0-2437aa184a23\",\"type\":\"BoxZoomTool\"},{\"id\":\"2c23fc1f-b24c-4f37-b164-dbf03686a8c9\",\"type\":\"SaveTool\"},{\"id\":\"7c5ed153-23c1-4b9c-8ca6-27509bca4369\",\"type\":\"ResetTool\"},{\"id\":\"c07b93bf-403a-47bd-9ed0-9f1c19008546\",\"type\":\"HelpTool\"}]},\"id\":\"28b0087e-bf06-43f2-99e3-a84d0c6414a1\",\"type\":\"Toolbar\"},{\"attributes\":{\"callback\":null,\"column_names\":[\"left\",\"right\",\"top\"],\"data\":{\"left\":{\"__ndarray__\":\"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\",\"dtype\":\"float64\",\"shape\":[250]},\"right\":{\"__ndarray__\":\"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\",\"dtype\":\"float64\",\"shape\":[250]},\"top\":{\"__ndarray__\":\"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\",\"dtype\":\"float64\",\"shape\":[250]}}},\"id\":\"7790fbf1-8abd-4163-b7d9-29eab97cec12\",\"type\":\"ColumnDataSource\"},{\"attributes\":{\"below\":[{\"id\":\"cada9731-8a0f-4585-9baf-0c0ec7e4ca5f\",\"type\":\"LinearAxis\"}],\"left\":[{\"id\":\"5efcef5c-edb1-46a2-87c5-18ff3c3932b2\",\"type\":\"LinearAxis\"}],\"renderers\":[{\"id\":\"cada9731-8a0f-4585-9baf-0c0ec7e4ca5f\",\"type\":\"LinearAxis\"},{\"id\":\"ce4ceeff-4d33-4b13-a038-0c143d967a06\",\"type\":\"Grid\"},{\"id\":\"5efcef5c-edb1-46a2-87c5-18ff3c3932b2\",\"type\":\"LinearAxis\"},{\"id\":\"70ed80c5-c901-4714-80fa-9adaa38670f4\",\"type\":\"Grid\"},{\"id\":\"00d95d60-b3f7-429a-8710-ef8ee2a2b0a3\",\"type\":\"BoxAnnotation\"},{\"id\":\"90915282-8b29-4f1e-8a9f-00c22a325002\",\"type\":\"GlyphRenderer\"},{\"id\":\"4d4a74e2-c923-4959-aff0-f013590f3f37\",\"type\":\"Legend\"},{\"id\":\"f1ab4d8d-432a-43fa-b044-e6b35ca39b3b\",\"type\":\"GlyphRenderer\"}],\"title\":{\"id\":\"7d753197-a780-49f9-ae6f-561bfc79924d\",\"type\":\"Title\"},\"tool_events\":{\"id\":\"6e4eb561-1124-4980-af13-2bfd61a595e1\",\"type\":\"ToolEvents\"},\"toolbar\":{\"id\":\"28b0087e-bf06-43f2-99e3-a84d0c6414a1\",\"type\":\"Toolbar\"},\"x_range\":{\"id\":\"dc376c45-1c75-4b7c-8dab-9ff3c854362b\",\"type\":\"DataRange1d\"},\"y_range\":{\"id\":\"734a683b-c8e3-4d63-ba70-5c249ea4f548\",\"type\":\"DataRange1d\"}},\"id\":\"8d42680b-ac7f-4e18-a850-eb880d9a2052\",\"subtype\":\"Figure\",\"type\":\"Plot\"},{\"attributes\":{\"callback\":null,\"column_names\":[\"x\",\"y\"],\"data\":{\"x\":{\"__ndarray__\":\"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\",\"dtype\":\"float64\",\"shape\":[500]},\"y\":{\"__ndarray__\":\"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\",\"dtype\":\"float64\",\"shape\":[500]}}},\"id\":\"520d321e-fb52-48c7-bcfa-40caf8e1c853\",\"type\":\"ColumnDataSource\"},{\"attributes\":{\"plot\":null,\"text\":\"heimsieg\"},\"id\":\"7d753197-a780-49f9-ae6f-561bfc79924d\",\"type\":\"Title\"},{\"attributes\":{},\"id\":\"6e4eb561-1124-4980-af13-2bfd61a595e1\",\"type\":\"ToolEvents\"},{\"attributes\":{\"callback\":null},\"id\":\"dc376c45-1c75-4b7c-8dab-9ff3c854362b\",\"type\":\"DataRange1d\"}],\"root_ids\":[\"8d42680b-ac7f-4e18-a850-eb880d9a2052\"]},\"title\":\"Bokeh Application\",\"version\":\"0.12.5\"}};\n",
       "            var render_items = [{\"docid\":\"719cfd73-60e8-4233-b02a-c366f06999d9\",\"elementid\":\"dd5c92e1-a35e-4c60-b2ab-397df1748f98\",\"modelid\":\"8d42680b-ac7f-4e18-a850-eb880d9a2052\"}];\n",
       "            \n",
       "            Bokeh.embed.embed_items(docs_json, render_items);\n",
       "          };\n",
       "          if (document.readyState != \"loading\") fn();\n",
       "          else document.addEventListener(\"DOMContentLoaded\", fn);\n",
       "        })();\n",
       "      },\n",
       "      function(Bokeh) {\n",
       "      }\n",
       "    ];\n",
       "  \n",
       "    function run_inline_js() {\n",
       "      \n",
       "      if ((window.Bokeh !== undefined) || (force === true)) {\n",
       "        for (var i = 0; i < inline_js.length; i++) {\n",
       "          inline_js[i](window.Bokeh);\n",
       "        }if (force === true) {\n",
       "          display_loaded();\n",
       "        }} else if (Date.now() < window._bokeh_timeout) {\n",
       "        setTimeout(run_inline_js, 100);\n",
       "      } else if (!window._bokeh_failed_load) {\n",
       "        console.log(\"Bokeh: BokehJS failed to load within specified timeout.\");\n",
       "        window._bokeh_failed_load = true;\n",
       "      } else if (force !== true) {\n",
       "        var cell = $(document.getElementById(\"dd5c92e1-a35e-4c60-b2ab-397df1748f98\")).parents('.cell').data().cell;\n",
       "        cell.output_area.append_execute_result(NB_LOAD_WARNING)\n",
       "      }\n",
       "  \n",
       "    }\n",
       "  \n",
       "    if (window._bokeh_is_loading === 0) {\n",
       "      console.log(\"Bokeh: BokehJS loaded, going straight to plotting\");\n",
       "      run_inline_js();\n",
       "    } else {\n",
       "      load_libs(js_urls, function() {\n",
       "        console.log(\"Bokeh: BokehJS plotting callback run at\", now());\n",
       "        run_inline_js();\n",
       "      });\n",
       "    }\n",
       "  }(this));\n",
       "</script>"
      ]
     },
     "metadata": {},
     "output_type": "display_data"
    }
   ],
   "source": [
    "mean2, std2 = norm.fit(corr[2])\n",
    "y_val2 = norm.pdf(x_val, mean2, std2)\n",
    "p3 = figure(title='ausw&auml;rtssieg')\n",
    "p3.quad(top=hist1, bottom=0, left=edges1[:-1], right=edges1[1:],\n",
    "        fill_color=\"#036564\", line_color=\"#033649\")\n",
    "p3.line(x_val, y_val2,  line_color=\"#D95B43\", line_width=2, alpha=0.7, legend=\"PDF\")\n",
    "show(p1)"
   ]
  },
  {
   "cell_type": "code",
   "execution_count": 38,
   "metadata": {
    "ExecuteTime": {
     "end_time": "2017-10-24T13:00:56.665164Z",
     "start_time": "2017-10-24T13:00:56.554628Z"
    }
   },
   "outputs": [
    {
     "data": {
      "text/html": [
       "\n",
       "\n",
       "    <div class=\"bk-root\">\n",
       "        <div class=\"bk-plotdiv\" id=\"9cb37821-1c90-4ded-ab12-353676b25a89\"></div>\n",
       "    </div>\n",
       "<script type=\"text/javascript\">\n",
       "  \n",
       "  (function(global) {\n",
       "    function now() {\n",
       "      return new Date();\n",
       "    }\n",
       "  \n",
       "    var force = false;\n",
       "  \n",
       "    if (typeof (window._bokeh_onload_callbacks) === \"undefined\" || force === true) {\n",
       "      window._bokeh_onload_callbacks = [];\n",
       "      window._bokeh_is_loading = undefined;\n",
       "    }\n",
       "  \n",
       "  \n",
       "    \n",
       "    if (typeof (window._bokeh_timeout) === \"undefined\" || force === true) {\n",
       "      window._bokeh_timeout = Date.now() + 0;\n",
       "      window._bokeh_failed_load = false;\n",
       "    }\n",
       "  \n",
       "    var NB_LOAD_WARNING = {'data': {'text/html':\n",
       "       \"<div style='background-color: #fdd'>\\n\"+\n",
       "       \"<p>\\n\"+\n",
       "       \"BokehJS does not appear to have successfully loaded. If loading BokehJS from CDN, this \\n\"+\n",
       "       \"may be due to a slow or bad network connection. Possible fixes:\\n\"+\n",
       "       \"</p>\\n\"+\n",
       "       \"<ul>\\n\"+\n",
       "       \"<li>re-rerun `output_notebook()` to attempt to load from CDN again, or</li>\\n\"+\n",
       "       \"<li>use INLINE resources instead, as so:</li>\\n\"+\n",
       "       \"</ul>\\n\"+\n",
       "       \"<code>\\n\"+\n",
       "       \"from bokeh.resources import INLINE\\n\"+\n",
       "       \"output_notebook(resources=INLINE)\\n\"+\n",
       "       \"</code>\\n\"+\n",
       "       \"</div>\"}};\n",
       "  \n",
       "    function display_loaded() {\n",
       "      if (window.Bokeh !== undefined) {\n",
       "        var el = document.getElementById(\"9cb37821-1c90-4ded-ab12-353676b25a89\");\n",
       "        el.textContent = \"BokehJS \" + Bokeh.version + \" successfully loaded.\";\n",
       "      } else if (Date.now() < window._bokeh_timeout) {\n",
       "        setTimeout(display_loaded, 100)\n",
       "      }\n",
       "    }\n",
       "  \n",
       "    function run_callbacks() {\n",
       "      window._bokeh_onload_callbacks.forEach(function(callback) { callback() });\n",
       "      delete window._bokeh_onload_callbacks\n",
       "      console.info(\"Bokeh: all callbacks have finished\");\n",
       "    }\n",
       "  \n",
       "    function load_libs(js_urls, callback) {\n",
       "      window._bokeh_onload_callbacks.push(callback);\n",
       "      if (window._bokeh_is_loading > 0) {\n",
       "        console.log(\"Bokeh: BokehJS is being loaded, scheduling callback at\", now());\n",
       "        return null;\n",
       "      }\n",
       "      if (js_urls == null || js_urls.length === 0) {\n",
       "        run_callbacks();\n",
       "        return null;\n",
       "      }\n",
       "      console.log(\"Bokeh: BokehJS not loaded, scheduling load and callback at\", now());\n",
       "      window._bokeh_is_loading = js_urls.length;\n",
       "      for (var i = 0; i < js_urls.length; i++) {\n",
       "        var url = js_urls[i];\n",
       "        var s = document.createElement('script');\n",
       "        s.src = url;\n",
       "        s.async = false;\n",
       "        s.onreadystatechange = s.onload = function() {\n",
       "          window._bokeh_is_loading--;\n",
       "          if (window._bokeh_is_loading === 0) {\n",
       "            console.log(\"Bokeh: all BokehJS libraries loaded\");\n",
       "            run_callbacks()\n",
       "          }\n",
       "        };\n",
       "        s.onerror = function() {\n",
       "          console.warn(\"failed to load library \" + url);\n",
       "        };\n",
       "        console.log(\"Bokeh: injecting script tag for BokehJS library: \", url);\n",
       "        document.getElementsByTagName(\"head\")[0].appendChild(s);\n",
       "      }\n",
       "    };var element = document.getElementById(\"9cb37821-1c90-4ded-ab12-353676b25a89\");\n",
       "    if (element == null) {\n",
       "      console.log(\"Bokeh: ERROR: autoload.js configured with elementid '9cb37821-1c90-4ded-ab12-353676b25a89' but no matching script tag was found. \")\n",
       "      return false;\n",
       "    }\n",
       "  \n",
       "    var js_urls = [];\n",
       "  \n",
       "    var inline_js = [\n",
       "      function(Bokeh) {\n",
       "        (function() {\n",
       "          var fn = function() {\n",
       "            var docs_json = {\"0a467451-1802-47a5-8f3b-2b99b807d5cf\":{\"roots\":{\"references\":[{\"attributes\":{\"bottom_units\":\"screen\",\"fill_alpha\":{\"value\":0.5},\"fill_color\":{\"value\":\"lightgrey\"},\"left_units\":\"screen\",\"level\":\"overlay\",\"line_alpha\":{\"value\":1.0},\"line_color\":{\"value\":\"black\"},\"line_dash\":[4,4],\"line_width\":{\"value\":2},\"plot\":null,\"render_mode\":\"css\",\"right_units\":\"screen\",\"top_units\":\"screen\"},\"id\":\"f9991e5f-2a9c-40dc-8df1-82dde5b5f58b\",\"type\":\"BoxAnnotation\"},{\"attributes\":{},\"id\":\"25c29d67-ce79-466f-8e65-b726fa6b9143\",\"type\":\"BasicTickFormatter\"},{\"attributes\":{\"plot\":{\"id\":\"e9080729-8fdf-4bf5-a13d-9e3660447c10\",\"subtype\":\"Figure\",\"type\":\"Plot\"}},\"id\":\"6d49d903-2e46-4a34-94a2-ff04e0eee82b\",\"type\":\"HelpTool\"},{\"attributes\":{\"plot\":{\"id\":\"e9080729-8fdf-4bf5-a13d-9e3660447c10\",\"subtype\":\"Figure\",\"type\":\"Plot\"}},\"id\":\"bc6187ed-ea85-4a1a-b7af-95402f55f9ee\",\"type\":\"SaveTool\"},{\"attributes\":{\"plot\":{\"id\":\"e9080729-8fdf-4bf5-a13d-9e3660447c10\",\"subtype\":\"Figure\",\"type\":\"Plot\"}},\"id\":\"3e8ffdc7-2739-4f62-b86f-07f1ea1a8e7a\",\"type\":\"ResetTool\"},{\"attributes\":{\"data_source\":{\"id\":\"5653cd1d-5289-4db4-b403-f0338ad08da5\",\"type\":\"ColumnDataSource\"},\"glyph\":{\"id\":\"b2a494fc-fa37-46bc-b753-25f109d7639a\",\"type\":\"Line\"},\"hover_glyph\":null,\"muted_glyph\":null,\"nonselection_glyph\":{\"id\":\"e57ede31-1e8c-47c2-8db8-109f0bbd63e6\",\"type\":\"Line\"},\"selection_glyph\":null},\"id\":\"fae2f1c1-f51b-464e-ae18-cf7c6224d1b8\",\"type\":\"GlyphRenderer\"},{\"attributes\":{\"plot\":{\"id\":\"e9080729-8fdf-4bf5-a13d-9e3660447c10\",\"subtype\":\"Figure\",\"type\":\"Plot\"}},\"id\":\"ded3cd1b-2bed-4a2b-8dea-02491c7d5c06\",\"type\":\"WheelZoomTool\"},{\"attributes\":{\"plot\":{\"id\":\"e9080729-8fdf-4bf5-a13d-9e3660447c10\",\"subtype\":\"Figure\",\"type\":\"Plot\"}},\"id\":\"335666c5-a697-44d7-8b52-1ece18596307\",\"type\":\"PanTool\"},{\"attributes\":{},\"id\":\"bee762b5-d7e2-4145-9a3e-db7040ba0f58\",\"type\":\"ToolEvents\"},{\"attributes\":{\"overlay\":{\"id\":\"f9991e5f-2a9c-40dc-8df1-82dde5b5f58b\",\"type\":\"BoxAnnotation\"},\"plot\":{\"id\":\"e9080729-8fdf-4bf5-a13d-9e3660447c10\",\"subtype\":\"Figure\",\"type\":\"Plot\"}},\"id\":\"7241a61c-aabc-4135-9678-65e6d1013f7e\",\"type\":\"BoxZoomTool\"},{\"attributes\":{},\"id\":\"4fe01729-5d0b-4401-abb0-b5fa57356a3c\",\"type\":\"BasicTickFormatter\"},{\"attributes\":{\"callback\":null,\"column_names\":[\"x\",\"y\"],\"data\":{\"x\":{\"__ndarray__\":\"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\",\"dtype\":\"float64\",\"shape\":[500]},\"y\":{\"__ndarray__\":\"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\",\"dtype\":\"float64\",\"shape\":[500]}}},\"id\":\"3f0ee7e8-3296-4aa0-aa7c-bb6ae6bb9c81\",\"type\":\"ColumnDataSource\"},{\"attributes\":{\"items\":[{\"id\":\"0c75d004-3ee4-4470-8957-c6370ebb47b0\",\"type\":\"LegendItem\"},{\"id\":\"6d940ad8-f22f-42e5-aaed-806670e08605\",\"type\":\"LegendItem\"},{\"id\":\"99bca581-81c8-4848-bb43-65930915b8b1\",\"type\":\"LegendItem\"}],\"plot\":{\"id\":\"e9080729-8fdf-4bf5-a13d-9e3660447c10\",\"subtype\":\"Figure\",\"type\":\"Plot\"}},\"id\":\"30bcd4bd-f98b-4d2f-aa55-e8c0218af3f8\",\"type\":\"Legend\"},{\"attributes\":{\"data_source\":{\"id\":\"3f0ee7e8-3296-4aa0-aa7c-bb6ae6bb9c81\",\"type\":\"ColumnDataSource\"},\"glyph\":{\"id\":\"dcbf4590-ba21-40e6-8bae-b1ad8af7ecc6\",\"type\":\"Line\"},\"hover_glyph\":null,\"muted_glyph\":null,\"nonselection_glyph\":{\"id\":\"59ba4094-fc20-43b3-ab68-0fba09fc3f4f\",\"type\":\"Line\"},\"selection_glyph\":null},\"id\":\"f649af52-8601-4d4c-a1c2-35abecf005a5\",\"type\":\"GlyphRenderer\"},{\"attributes\":{\"line_alpha\":{\"value\":0.1},\"line_color\":{\"value\":\"#1f77b4\"},\"x\":{\"field\":\"x\"},\"y\":{\"field\":\"y\"}},\"id\":\"59ba4094-fc20-43b3-ab68-0fba09fc3f4f\",\"type\":\"Line\"},{\"attributes\":{\"label\":{\"value\":\"Home\"},\"renderers\":[{\"id\":\"fae2f1c1-f51b-464e-ae18-cf7c6224d1b8\",\"type\":\"GlyphRenderer\"}]},\"id\":\"0c75d004-3ee4-4470-8957-c6370ebb47b0\",\"type\":\"LegendItem\"},{\"attributes\":{\"callback\":null},\"id\":\"423b4d85-5e61-429a-b08a-9f27b19aa49c\",\"type\":\"DataRange1d\"},{\"attributes\":{\"data_source\":{\"id\":\"041ba4d4-57b6-463c-8fd3-e0e2404c1750\",\"type\":\"ColumnDataSource\"},\"glyph\":{\"id\":\"656562f2-cc51-4b54-a843-96ee3d21c739\",\"type\":\"Line\"},\"hover_glyph\":null,\"muted_glyph\":null,\"nonselection_glyph\":{\"id\":\"e6410d1a-5838-49e0-a5a2-67c4677dad51\",\"type\":\"Line\"},\"selection_glyph\":null},\"id\":\"79e400da-4f54-4b90-9cc9-88539d31277f\",\"type\":\"GlyphRenderer\"},{\"attributes\":{\"line_alpha\":{\"value\":0.1},\"line_color\":{\"value\":\"#1f77b4\"},\"x\":{\"field\":\"x\"},\"y\":{\"field\":\"y\"}},\"id\":\"e6410d1a-5838-49e0-a5a2-67c4677dad51\",\"type\":\"Line\"},{\"attributes\":{\"line_color\":{\"value\":\"blue\"},\"x\":{\"field\":\"x\"},\"y\":{\"field\":\"y\"}},\"id\":\"dcbf4590-ba21-40e6-8bae-b1ad8af7ecc6\",\"type\":\"Line\"},{\"attributes\":{\"label\":{\"value\":\"Away\"},\"renderers\":[{\"id\":\"f649af52-8601-4d4c-a1c2-35abecf005a5\",\"type\":\"GlyphRenderer\"}]},\"id\":\"99bca581-81c8-4848-bb43-65930915b8b1\",\"type\":\"LegendItem\"},{\"attributes\":{\"plot\":{\"id\":\"e9080729-8fdf-4bf5-a13d-9e3660447c10\",\"subtype\":\"Figure\",\"type\":\"Plot\"},\"ticker\":{\"id\":\"e2cf9880-df98-49f7-997b-8d2d0a926c55\",\"type\":\"BasicTicker\"}},\"id\":\"c4f0bbc2-1a83-4b4e-9c29-d15b689ca8f6\",\"type\":\"Grid\"},{\"attributes\":{\"line_alpha\":{\"value\":0.1},\"line_color\":{\"value\":\"#1f77b4\"},\"x\":{\"field\":\"x\"},\"y\":{\"field\":\"y\"}},\"id\":\"e57ede31-1e8c-47c2-8db8-109f0bbd63e6\",\"type\":\"Line\"},{\"attributes\":{\"dimension\":1,\"plot\":{\"id\":\"e9080729-8fdf-4bf5-a13d-9e3660447c10\",\"subtype\":\"Figure\",\"type\":\"Plot\"},\"ticker\":{\"id\":\"5522e638-6f7c-47d0-8fa3-1494b8130483\",\"type\":\"BasicTicker\"}},\"id\":\"99ddf1b3-e26e-46b7-ae2e-09c068fe6b71\",\"type\":\"Grid\"},{\"attributes\":{\"active_drag\":\"auto\",\"active_scroll\":\"auto\",\"active_tap\":\"auto\",\"tools\":[{\"id\":\"335666c5-a697-44d7-8b52-1ece18596307\",\"type\":\"PanTool\"},{\"id\":\"ded3cd1b-2bed-4a2b-8dea-02491c7d5c06\",\"type\":\"WheelZoomTool\"},{\"id\":\"7241a61c-aabc-4135-9678-65e6d1013f7e\",\"type\":\"BoxZoomTool\"},{\"id\":\"bc6187ed-ea85-4a1a-b7af-95402f55f9ee\",\"type\":\"SaveTool\"},{\"id\":\"3e8ffdc7-2739-4f62-b86f-07f1ea1a8e7a\",\"type\":\"ResetTool\"},{\"id\":\"6d49d903-2e46-4a34-94a2-ff04e0eee82b\",\"type\":\"HelpTool\"}]},\"id\":\"935b5a7e-8856-41f7-86e4-157199b0f0a0\",\"type\":\"Toolbar\"},{\"attributes\":{\"plot\":null,\"text\":\"comparison\"},\"id\":\"8e6ff79c-6bf6-4ffb-8862-0697fc420d7d\",\"type\":\"Title\"},{\"attributes\":{\"label\":{\"value\":\"Draw\"},\"renderers\":[{\"id\":\"79e400da-4f54-4b90-9cc9-88539d31277f\",\"type\":\"GlyphRenderer\"}]},\"id\":\"6d940ad8-f22f-42e5-aaed-806670e08605\",\"type\":\"LegendItem\"},{\"attributes\":{\"formatter\":{\"id\":\"4fe01729-5d0b-4401-abb0-b5fa57356a3c\",\"type\":\"BasicTickFormatter\"},\"plot\":{\"id\":\"e9080729-8fdf-4bf5-a13d-9e3660447c10\",\"subtype\":\"Figure\",\"type\":\"Plot\"},\"ticker\":{\"id\":\"5522e638-6f7c-47d0-8fa3-1494b8130483\",\"type\":\"BasicTicker\"}},\"id\":\"e458bb1f-38ff-4aa7-8b80-e7a5633499cf\",\"type\":\"LinearAxis\"},{\"attributes\":{},\"id\":\"5522e638-6f7c-47d0-8fa3-1494b8130483\",\"type\":\"BasicTicker\"},{\"attributes\":{\"callback\":null,\"column_names\":[\"x\",\"y\"],\"data\":{\"x\":{\"__ndarray__\":\"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\",\"dtype\":\"float64\",\"shape\":[500]},\"y\":{\"__ndarray__\":\"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\",\"dtype\":\"float64\",\"shape\":[500]}}},\"id\":\"041ba4d4-57b6-463c-8fd3-e0e2404c1750\",\"type\":\"ColumnDataSource\"},{\"attributes\":{\"line_color\":{\"value\":\"red\"},\"x\":{\"field\":\"x\"},\"y\":{\"field\":\"y\"}},\"id\":\"b2a494fc-fa37-46bc-b753-25f109d7639a\",\"type\":\"Line\"},{\"attributes\":{\"below\":[{\"id\":\"1edc9d08-2763-4fed-9fb9-ffbd7baf9e48\",\"type\":\"LinearAxis\"}],\"left\":[{\"id\":\"e458bb1f-38ff-4aa7-8b80-e7a5633499cf\",\"type\":\"LinearAxis\"}],\"renderers\":[{\"id\":\"1edc9d08-2763-4fed-9fb9-ffbd7baf9e48\",\"type\":\"LinearAxis\"},{\"id\":\"c4f0bbc2-1a83-4b4e-9c29-d15b689ca8f6\",\"type\":\"Grid\"},{\"id\":\"e458bb1f-38ff-4aa7-8b80-e7a5633499cf\",\"type\":\"LinearAxis\"},{\"id\":\"99ddf1b3-e26e-46b7-ae2e-09c068fe6b71\",\"type\":\"Grid\"},{\"id\":\"f9991e5f-2a9c-40dc-8df1-82dde5b5f58b\",\"type\":\"BoxAnnotation\"},{\"id\":\"30bcd4bd-f98b-4d2f-aa55-e8c0218af3f8\",\"type\":\"Legend\"},{\"id\":\"fae2f1c1-f51b-464e-ae18-cf7c6224d1b8\",\"type\":\"GlyphRenderer\"},{\"id\":\"79e400da-4f54-4b90-9cc9-88539d31277f\",\"type\":\"GlyphRenderer\"},{\"id\":\"f649af52-8601-4d4c-a1c2-35abecf005a5\",\"type\":\"GlyphRenderer\"}],\"title\":{\"id\":\"8e6ff79c-6bf6-4ffb-8862-0697fc420d7d\",\"type\":\"Title\"},\"tool_events\":{\"id\":\"bee762b5-d7e2-4145-9a3e-db7040ba0f58\",\"type\":\"ToolEvents\"},\"toolbar\":{\"id\":\"935b5a7e-8856-41f7-86e4-157199b0f0a0\",\"type\":\"Toolbar\"},\"x_range\":{\"id\":\"423b4d85-5e61-429a-b08a-9f27b19aa49c\",\"type\":\"DataRange1d\"},\"y_range\":{\"id\":\"89a1dbba-2ee6-4a2d-9a57-4e872dcad6f3\",\"type\":\"DataRange1d\"}},\"id\":\"e9080729-8fdf-4bf5-a13d-9e3660447c10\",\"subtype\":\"Figure\",\"type\":\"Plot\"},{\"attributes\":{\"callback\":null,\"column_names\":[\"x\",\"y\"],\"data\":{\"x\":{\"__ndarray__\":\"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\",\"dtype\":\"float64\",\"shape\":[500]},\"y\":{\"__ndarray__\":\"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\",\"dtype\":\"float64\",\"shape\":[500]}}},\"id\":\"5653cd1d-5289-4db4-b403-f0338ad08da5\",\"type\":\"ColumnDataSource\"},{\"attributes\":{},\"id\":\"e2cf9880-df98-49f7-997b-8d2d0a926c55\",\"type\":\"BasicTicker\"},{\"attributes\":{\"callback\":null},\"id\":\"89a1dbba-2ee6-4a2d-9a57-4e872dcad6f3\",\"type\":\"DataRange1d\"},{\"attributes\":{\"formatter\":{\"id\":\"25c29d67-ce79-466f-8e65-b726fa6b9143\",\"type\":\"BasicTickFormatter\"},\"plot\":{\"id\":\"e9080729-8fdf-4bf5-a13d-9e3660447c10\",\"subtype\":\"Figure\",\"type\":\"Plot\"},\"ticker\":{\"id\":\"e2cf9880-df98-49f7-997b-8d2d0a926c55\",\"type\":\"BasicTicker\"}},\"id\":\"1edc9d08-2763-4fed-9fb9-ffbd7baf9e48\",\"type\":\"LinearAxis\"},{\"attributes\":{\"line_color\":{\"value\":\"green\"},\"x\":{\"field\":\"x\"},\"y\":{\"field\":\"y\"}},\"id\":\"656562f2-cc51-4b54-a843-96ee3d21c739\",\"type\":\"Line\"}],\"root_ids\":[\"e9080729-8fdf-4bf5-a13d-9e3660447c10\"]},\"title\":\"Bokeh Application\",\"version\":\"0.12.5\"}};\n",
       "            var render_items = [{\"docid\":\"0a467451-1802-47a5-8f3b-2b99b807d5cf\",\"elementid\":\"9cb37821-1c90-4ded-ab12-353676b25a89\",\"modelid\":\"e9080729-8fdf-4bf5-a13d-9e3660447c10\"}];\n",
       "            \n",
       "            Bokeh.embed.embed_items(docs_json, render_items);\n",
       "          };\n",
       "          if (document.readyState != \"loading\") fn();\n",
       "          else document.addEventListener(\"DOMContentLoaded\", fn);\n",
       "        })();\n",
       "      },\n",
       "      function(Bokeh) {\n",
       "      }\n",
       "    ];\n",
       "  \n",
       "    function run_inline_js() {\n",
       "      \n",
       "      if ((window.Bokeh !== undefined) || (force === true)) {\n",
       "        for (var i = 0; i < inline_js.length; i++) {\n",
       "          inline_js[i](window.Bokeh);\n",
       "        }if (force === true) {\n",
       "          display_loaded();\n",
       "        }} else if (Date.now() < window._bokeh_timeout) {\n",
       "        setTimeout(run_inline_js, 100);\n",
       "      } else if (!window._bokeh_failed_load) {\n",
       "        console.log(\"Bokeh: BokehJS failed to load within specified timeout.\");\n",
       "        window._bokeh_failed_load = true;\n",
       "      } else if (force !== true) {\n",
       "        var cell = $(document.getElementById(\"9cb37821-1c90-4ded-ab12-353676b25a89\")).parents('.cell').data().cell;\n",
       "        cell.output_area.append_execute_result(NB_LOAD_WARNING)\n",
       "      }\n",
       "  \n",
       "    }\n",
       "  \n",
       "    if (window._bokeh_is_loading === 0) {\n",
       "      console.log(\"Bokeh: BokehJS loaded, going straight to plotting\");\n",
       "      run_inline_js();\n",
       "    } else {\n",
       "      load_libs(js_urls, function() {\n",
       "        console.log(\"Bokeh: BokehJS plotting callback run at\", now());\n",
       "        run_inline_js();\n",
       "      });\n",
       "    }\n",
       "  }(this));\n",
       "</script>"
      ]
     },
     "metadata": {},
     "output_type": "display_data"
    }
   ],
   "source": [
    "p4 = figure(title='comparison')\n",
    "p4.line(x_val, y_val, line_color='red', legend = 'Home')\n",
    "p4.line(x_val, y_val1, line_color='green', legend = 'Draw')\n",
    "p4.line(x_val,y_val2, line_color='blue', legend = 'Away')\n",
    "show(p4)"
   ]
  },
  {
   "cell_type": "code",
   "execution_count": 39,
   "metadata": {
    "ExecuteTime": {
     "end_time": "2017-10-24T13:00:56.670299Z",
     "start_time": "2017-10-24T13:00:56.666565Z"
    }
   },
   "outputs": [
    {
     "name": "stdout",
     "output_type": "stream",
     "text": [
      "-1.85157930488 54.6164693594\n",
      "-3.46024858425 54.7384829875\n",
      "-2.2288594833 54.661767333\n"
     ]
    }
   ],
   "source": [
    "print(mean2,std2)\n",
    "print(mean, std)\n",
    "print(mean1, std1)"
   ]
  },
  {
   "cell_type": "code",
   "execution_count": 40,
   "metadata": {
    "ExecuteTime": {
     "end_time": "2017-10-24T13:03:40.432157Z",
     "start_time": "2017-10-24T13:03:40.428062Z"
    }
   },
   "outputs": [
    {
     "data": {
      "text/plain": [
       "[13597, 7935, 8833]"
      ]
     },
     "execution_count": 40,
     "metadata": {},
     "output_type": "execute_result"
    }
   ],
   "source": [
    "[len(x) for x in corr]"
   ]
  },
  {
   "cell_type": "code",
   "execution_count": 43,
   "metadata": {
    "ExecuteTime": {
     "end_time": "2017-10-24T13:04:23.316765Z",
     "start_time": "2017-10-24T13:04:23.313493Z"
    }
   },
   "outputs": [
    {
     "data": {
      "text/plain": [
       "30365"
      ]
     },
     "execution_count": 43,
     "metadata": {},
     "output_type": "execute_result"
    }
   ],
   "source": [
    "sum([len(x) for x in corr])"
   ]
  },
  {
   "cell_type": "code",
   "execution_count": 25,
   "metadata": {
    "ExecuteTime": {
     "end_time": "2017-10-24T12:54:10.747912Z",
     "start_time": "2017-10-24T12:54:10.740855Z"
    }
   },
   "outputs": [
    {
     "ename": "SyntaxError",
     "evalue": "unexpected EOF while parsing (<ipython-input-25-a6f93ebd6d71>, line 2)",
     "output_type": "error",
     "traceback": [
      "\u001b[0;36m  File \u001b[0;32m\"<ipython-input-25-a6f93ebd6d71>\"\u001b[0;36m, line \u001b[0;32m2\u001b[0m\n\u001b[0;31m    for match in raw:\u001b[0m\n\u001b[0m                          ^\u001b[0m\n\u001b[0;31mSyntaxError\u001b[0m\u001b[0;31m:\u001b[0m unexpected EOF while parsing\n"
     ]
    }
   ],
   "source": [
    "design_matrix = []\n",
    "for match in raw:     "
   ]
  },
  {
   "cell_type": "code",
   "execution_count": 5,
   "metadata": {
    "ExecuteTime": {
     "end_time": "2017-10-19T12:18:16.731821Z",
     "start_time": "2017-10-19T12:18:16.728243Z"
    },
    "collapsed": true
   },
   "outputs": [],
   "source": [
    "team_dict = {k:v for k,v in zip([x[0] for x in c.execute('select sofifaTeamID from team where ligaID IS 19 group by sofifaTeamID')], range(len([x[0] for x in c.execute('select sofifaTeamID from team where ligaID IS 19 group by sofifaTeamID')])))}"
   ]
  },
  {
   "cell_type": "code",
   "execution_count": 6,
   "metadata": {
    "ExecuteTime": {
     "end_time": "2017-10-19T12:18:17.512018Z",
     "start_time": "2017-10-19T12:18:17.506370Z"
    },
    "collapsed": true
   },
   "outputs": [],
   "source": [
    "team_list = [x[0] for x in c.execute('select teamID from team where ligaID is 19')]"
   ]
  },
  {
   "cell_type": "code",
   "execution_count": 14,
   "metadata": {
    "ExecuteTime": {
     "end_time": "2017-10-19T12:20:23.064438Z",
     "start_time": "2017-10-19T12:20:23.006161Z"
    },
    "collapsed": true
   },
   "outputs": [],
   "source": [
    "reg_x = []\n",
    "reg_y = []\n",
    "teamNr = len(team_dict.keys())\n",
    "for match in raw:\n",
    "    if match[3] in team_list:\n",
    "        line = np.zeros(teamNr+1)\n",
    "        line[team_dict[int(match[3]/1000000)]] = 1\n",
    "        line[team_dict[int(match[4]/1000000)]] = -1\n",
    "        line[-1] = 1\n",
    "\n",
    "        reg_x.append(line)\n",
    "        reg_x.append(line)\n",
    "\n",
    "        if match[44] == 'A':\n",
    "             reg_y.append(1)\n",
    "             reg_y.append(1)\n",
    "\n",
    "        elif match[44] == 'D':\n",
    "             reg_y.append(1)\n",
    "             reg_y.append(0)     \n",
    "        else:\n",
    "             reg_y.append(0)\n",
    "             reg_y.append(0)"
   ]
  },
  {
   "cell_type": "code",
   "execution_count": 8,
   "metadata": {
    "ExecuteTime": {
     "end_time": "2017-10-19T12:18:21.925258Z",
     "start_time": "2017-10-19T12:18:21.891327Z"
    },
    "collapsed": true
   },
   "outputs": [],
   "source": [
    "from sklearn.linear_model import LogisticRegression"
   ]
  },
  {
   "cell_type": "code",
   "execution_count": 15,
   "metadata": {
    "ExecuteTime": {
     "end_time": "2017-10-19T12:20:25.459712Z",
     "start_time": "2017-10-19T12:20:25.455400Z"
    },
    "collapsed": true
   },
   "outputs": [],
   "source": [
    "est= LogisticRegression(fit_intercept=False)"
   ]
  },
  {
   "cell_type": "code",
   "execution_count": 16,
   "metadata": {
    "ExecuteTime": {
     "end_time": "2017-10-19T12:20:25.668649Z",
     "start_time": "2017-10-19T12:20:25.653592Z"
    }
   },
   "outputs": [
    {
     "data": {
      "text/plain": [
       "LogisticRegression(C=1.0, class_weight=None, dual=False, fit_intercept=False,\n",
       "          intercept_scaling=1, max_iter=100, multi_class='ovr', n_jobs=1,\n",
       "          penalty='l2', random_state=None, solver='liblinear', tol=0.0001,\n",
       "          verbose=0, warm_start=False)"
      ]
     },
     "execution_count": 16,
     "metadata": {},
     "output_type": "execute_result"
    }
   ],
   "source": [
    "est.fit(reg_x, reg_y)"
   ]
  },
  {
   "cell_type": "code",
   "execution_count": 17,
   "metadata": {
    "ExecuteTime": {
     "end_time": "2017-10-19T12:20:26.146467Z",
     "start_time": "2017-10-19T12:20:26.136830Z"
    }
   },
   "outputs": [
    {
     "data": {
      "text/plain": [
       "{'C': 1.0,\n",
       " 'class_weight': None,\n",
       " 'dual': False,\n",
       " 'fit_intercept': False,\n",
       " 'intercept_scaling': 1,\n",
       " 'max_iter': 100,\n",
       " 'multi_class': 'ovr',\n",
       " 'n_jobs': 1,\n",
       " 'penalty': 'l2',\n",
       " 'random_state': None,\n",
       " 'solver': 'liblinear',\n",
       " 'tol': 0.0001,\n",
       " 'verbose': 0,\n",
       " 'warm_start': False}"
      ]
     },
     "execution_count": 17,
     "metadata": {},
     "output_type": "execute_result"
    }
   ],
   "source": [
    "est.get_params()"
   ]
  },
  {
   "cell_type": "code",
   "execution_count": 60,
   "metadata": {
    "ExecuteTime": {
     "end_time": "2017-10-19T12:53:11.674948Z",
     "start_time": "2017-10-19T12:53:11.669088Z"
    },
    "collapsed": true
   },
   "outputs": [],
   "source": [
    "\n",
    "skill = np.exp(-1*est.coef_)[0]\n",
    "skill = skill*np.linalg.norm(skill)"
   ]
  },
  {
   "cell_type": "code",
   "execution_count": 61,
   "metadata": {
    "ExecuteTime": {
     "end_time": "2017-10-19T12:53:12.140404Z",
     "start_time": "2017-10-19T12:53:12.123050Z"
    }
   },
   "outputs": [
    {
     "data": {
      "text/plain": [
       "array([ 40.08338948,  22.3816073 ,  10.9602614 ,   7.4561041 ,\n",
       "         7.40779564,   5.87627277,   7.89797036,  15.7472095 ,\n",
       "        12.36887834,   7.33581229,   8.02950428,   5.94419856,\n",
       "         3.21721779,   6.77730766,   9.22806072,   6.72570805,\n",
       "         9.87481441,   7.19117245,   7.76068204,   8.43420632,\n",
       "         5.35300859,   7.80738306,   4.32427895,   3.80311128,\n",
       "         5.21740042,   4.7463867 ,   6.46388884,  21.54651526,  11.33733889])"
      ]
     },
     "execution_count": 61,
     "metadata": {},
     "output_type": "execute_result"
    }
   ],
   "source": [
    "skill"
   ]
  },
  {
   "cell_type": "code",
   "execution_count": 62,
   "metadata": {
    "ExecuteTime": {
     "end_time": "2017-10-19T12:53:12.476288Z",
     "start_time": "2017-10-19T12:53:12.470616Z"
    },
    "collapsed": true
   },
   "outputs": [],
   "source": [
    "names = {x[1]:x[0] for x in c.execute('select name, sofifaTeamID from team where ligaID is 19 group by sofifaTeamID')}"
   ]
  },
  {
   "cell_type": "code",
   "execution_count": 63,
   "metadata": {
    "ExecuteTime": {
     "end_time": "2017-10-19T12:53:12.793782Z",
     "start_time": "2017-10-19T12:53:12.787673Z"
    },
    "collapsed": true
   },
   "outputs": [],
   "source": [
    "result = np.array([(id_, names[id_] , skill[team_dict[id_]]) for id_ in team_dict.keys()], dtype = [('id',int), ('name','S20'), ('skill',float)])"
   ]
  },
  {
   "cell_type": "code",
   "execution_count": 64,
   "metadata": {
    "ExecuteTime": {
     "end_time": "2017-10-19T12:53:13.129492Z",
     "start_time": "2017-10-19T12:53:13.120395Z"
    }
   },
   "outputs": [
    {
     "data": {
      "text/plain": [
       "array([(    21, b'FC Bayern Munich',  40.08338948),\n",
       "       (    22, b'Borussia Dortmund',  22.3816073 ),\n",
       "       (112172, b'RB Leipzig',  21.54651526),\n",
       "       (    32, b'Bayer 04 Leverkusen',  15.7472095 ),\n",
       "       (    34, b'FC Schalke 04',  12.36887834),\n",
       "       (    23, b'Borussia Monchenglad',  10.9602614 ),\n",
       "       (   175, b'VfL Wolfsburg',   9.87481441),\n",
       "       (   169, b'1. FSV Mainz 05',   9.22806072),\n",
       "       ( 10029, b'TSG 1899 Hoffenheim',   8.43420632),\n",
       "       (    38, b'SV Werder Bremen',   8.02950428),\n",
       "       (    31, b'1. FC Koln',   7.89797036),\n",
       "       (100409, b'FC Augsburg',   7.80738306),\n",
       "       (  1824, b'Eintracht Frankfurt',   7.76068204),\n",
       "       (    25, b'SC Freiburg',   7.4561041 ),\n",
       "       (    28, b'Hamburger SV',   7.40779564),\n",
       "       (    36, b'VfB Stuttgart',   7.33581229),\n",
       "       (   485, b'Hannover 96',   7.19117245),\n",
       "       (   166, b'Hertha BSC Berlin',   6.77730766),\n",
       "       (   171, b'1. FC Nurnberg',   6.72570805),\n",
       "       (111239, b'FC Ingolstadt 04',   6.46388884),\n",
       "       (   160, b'VfL Bochum',   5.94419856),\n",
       "       (    29, b'1. FC Kaiserslautern',   5.87627277),\n",
       "       ( 10030, b'SC Paderborn 07',   5.35300859),\n",
       "       (110502, b'SV Darmstadt 98',   5.21740042),\n",
       "       (110636, b'Fortuna Dusseldorf',   4.7463867 ),\n",
       "       (110329, b'FC St. Pauli',   4.32427895),\n",
       "       (110500, b'Eintracht Braunschwe',   3.80311128),\n",
       "       (   165, b'SpVgg Greuther Furth',   3.21721779)], \n",
       "      dtype=[('id', '<i8'), ('name', 'S20'), ('skill', '<f8')])"
      ]
     },
     "execution_count": 64,
     "metadata": {},
     "output_type": "execute_result"
    }
   ],
   "source": [
    "np.sort(result, order=['skill', 'id'] )[::-1]"
   ]
  },
  {
   "cell_type": "code",
   "execution_count": 71,
   "metadata": {
    "ExecuteTime": {
     "end_time": "2017-10-19T13:04:33.690349Z",
     "start_time": "2017-10-19T13:04:33.686414Z"
    },
    "collapsed": true
   },
   "outputs": [],
   "source": [
    "def pred_prob(id1, id2):\n",
    "    line = np.zeros(teamNr+1)\n",
    "    line[team_dict[id1]] = 1\n",
    "    line[team_dict[id2]] = -1\n",
    "    line[-1] = 1\n",
    "    return est.predict_proba([line])"
   ]
  },
  {
   "cell_type": "code",
   "execution_count": 74,
   "metadata": {
    "ExecuteTime": {
     "end_time": "2017-10-19T13:05:32.745521Z",
     "start_time": "2017-10-19T13:05:32.735577Z"
    }
   },
   "outputs": [
    {
     "data": {
      "text/plain": [
       "array([[ 0.10121129,  0.89878871]])"
      ]
     },
     "execution_count": 74,
     "metadata": {},
     "output_type": "execute_result"
    }
   ],
   "source": [
    "pred_prob(165,21)"
   ]
  },
  {
   "cell_type": "code",
   "execution_count": 75,
   "metadata": {
    "ExecuteTime": {
     "end_time": "2017-10-19T14:20:36.100298Z",
     "start_time": "2017-10-19T14:20:36.095683Z"
    },
    "collapsed": true
   },
   "outputs": [],
   "source": []
  },
  {
   "cell_type": "code",
   "execution_count": null,
   "metadata": {
    "collapsed": true
   },
   "outputs": [],
   "source": []
  }
 ],
 "metadata": {
  "kernelspec": {
   "display_name": "Python 3",
   "language": "python",
   "name": "python3"
  },
  "language_info": {
   "codemirror_mode": {
    "name": "ipython",
    "version": 3
   },
   "file_extension": ".py",
   "mimetype": "text/x-python",
   "name": "python",
   "nbconvert_exporter": "python",
   "pygments_lexer": "ipython3",
   "version": "3.6.1"
  }
 },
 "nbformat": 4,
 "nbformat_minor": 2
}
