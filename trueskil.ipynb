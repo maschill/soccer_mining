{
 "cells": [
  {
   "cell_type": "code",
   "execution_count": 4,
   "metadata": {
    "ExecuteTime": {
     "end_time": "2017-10-25T12:19:01.515249Z",
     "start_time": "2017-10-25T12:19:01.512346Z"
    },
    "collapsed": true
   },
   "outputs": [],
   "source": [
    "import sqlite3\n",
    "import numpy as np\n",
    "import datetime\n",
    "\n",
    "import trueskill\n",
    "from collections import defaultdict"
   ]
  },
  {
   "cell_type": "code",
   "execution_count": 2,
   "metadata": {
    "ExecuteTime": {
     "end_time": "2017-10-25T12:18:50.058695Z",
     "start_time": "2017-10-25T12:18:50.039682Z"
    }
   },
   "outputs": [],
   "source": [
    "con = sqlite3.connect('soccer.sqlite')\n",
    "c = con.cursor()\n",
    "data = [x for x in c.execute('select FTR, homeID, awayID, date from match  WHERE ligaID IS 19 ORDER BY date')]\n",
    "con.close()"
   ]
  },
  {
   "cell_type": "code",
   "execution_count": 5,
   "metadata": {
    "ExecuteTime": {
     "end_time": "2017-10-25T12:22:12.554044Z",
     "start_time": "2017-10-25T12:22:12.529082Z"
    }
   },
   "outputs": [
    {
     "ename": "AttributeError",
     "evalue": "'int' object has no attribute 'split'",
     "output_type": "error",
     "traceback": [
      "\u001b[0;31m---------------------------------------------------------------------------\u001b[0m",
      "\u001b[0;31mAttributeError\u001b[0m                            Traceback (most recent call last)",
      "\u001b[0;32m<ipython-input-5-4c12c3aaede7>\u001b[0m in \u001b[0;36m<module>\u001b[0;34m()\u001b[0m\n\u001b[1;32m      3\u001b[0m \u001b[0mteams\u001b[0m \u001b[0;34m=\u001b[0m \u001b[0mdefaultdict\u001b[0m\u001b[0;34m(\u001b[0m\u001b[0menv\u001b[0m\u001b[0;34m.\u001b[0m\u001b[0mcreate_rating\u001b[0m\u001b[0;34m)\u001b[0m\u001b[0;34m\u001b[0m\u001b[0m\n\u001b[1;32m      4\u001b[0m \u001b[0;34m\u001b[0m\u001b[0m\n\u001b[0;32m----> 5\u001b[0;31m \u001b[0mdate_old\u001b[0m \u001b[0;34m=\u001b[0m \u001b[0mdatetime\u001b[0m\u001b[0;34m.\u001b[0m\u001b[0mdate\u001b[0m\u001b[0;34m(\u001b[0m\u001b[0;34m*\u001b[0m\u001b[0;34m[\u001b[0m\u001b[0mint\u001b[0m\u001b[0;34m(\u001b[0m\u001b[0mx\u001b[0m\u001b[0;34m)\u001b[0m \u001b[0;32mfor\u001b[0m \u001b[0mx\u001b[0m \u001b[0;32min\u001b[0m \u001b[0mdata\u001b[0m\u001b[0;34m[\u001b[0m\u001b[0;36m0\u001b[0m\u001b[0;34m]\u001b[0m\u001b[0;34m[\u001b[0m\u001b[0;36m3\u001b[0m\u001b[0;34m]\u001b[0m\u001b[0;34m.\u001b[0m\u001b[0msplit\u001b[0m\u001b[0;34m(\u001b[0m\u001b[0;34m'-'\u001b[0m\u001b[0;34m)\u001b[0m\u001b[0;34m]\u001b[0m\u001b[0;34m)\u001b[0m\u001b[0;34m\u001b[0m\u001b[0m\n\u001b[0m\u001b[1;32m      6\u001b[0m \u001b[0;34m\u001b[0m\u001b[0m\n\u001b[1;32m      7\u001b[0m \u001b[0;32mfor\u001b[0m \u001b[0mm\u001b[0m \u001b[0;32min\u001b[0m \u001b[0mdata\u001b[0m\u001b[0;34m:\u001b[0m\u001b[0;34m\u001b[0m\u001b[0m\n",
      "\u001b[0;31mAttributeError\u001b[0m: 'int' object has no attribute 'split'"
     ]
    }
   ],
   "source": [
    "env = trueskill.TrueSkill(draw_probability=0.25)\n",
    "\n",
    "teams = defaultdict(env.create_rating)\n",
    "\n",
    "date_old = datetime.date(*[int(x) for x in data[0][3].split('-')])\n",
    "\n",
    "for m in data:\n",
    "    t1 = int(m[1]/1000000)\n",
    "    t2 = int(m[2]/1000000)\n",
    "    \n",
    "    r1 = teams[t1]\n",
    "    r2 = teams[t2]\n",
    "    \n",
    "    date_new = datetime.date(*[int(x) for x in m[3].split('-')])\n",
    "    \n",
    "    if datetime.timedelta(53) < abs(date_new-date_old):\n",
    "        r1 = env.create_rating(r1.mu, 3*r1.sigma)\n",
    "        r2 = env.create_rating(r2.mu, 3*r2.sigma)\n",
    "        \n",
    "    date_old = date_new\n",
    "    if m[0] == 'H':\n",
    "        r1,r2 = env.rate_1vs1(r1,r2)\n",
    "    elif m[0] == 'D':\n",
    "        r1,r2 = env.rate_1vs1(r1,r2,drawn=True)\n",
    "    elif m[0] =='A':\n",
    "        r2,r1 = env.rate_1vs1(r2,r1)\n",
    "    else:\n",
    "        print('wrong result: '+m[0])\n",
    "    \n",
    "    teams[t1] = r1\n",
    "    teams[t2] = r2\n",
    "      \n",
    "    "
   ]
  },
  {
   "cell_type": "code",
   "execution_count": 83,
   "metadata": {
    "ExecuteTime": {
     "end_time": "2017-10-25T09:38:49.382641Z",
     "start_time": "2017-10-25T09:38:49.374823Z"
    }
   },
   "outputs": [],
   "source": [
    "con = sqlite3.connect('soccer.sqlite')\n",
    "c = con.cursor()\n",
    "team_names = {x[0]:x[1] for x in c.execute('SELECT sofifaTeamID, name FROM team')}\n",
    "con.close()"
   ]
  },
  {
   "cell_type": "code",
   "execution_count": 104,
   "metadata": {
    "ExecuteTime": {
     "end_time": "2017-10-25T11:44:55.355247Z",
     "start_time": "2017-10-25T11:44:55.344111Z"
    }
   },
   "outputs": [
    {
     "data": {
      "text/plain": [
       "array([['Morecambe', '21.19', '0.75'],\n",
       "       ['Balikesirspor', '21.14', '1.42'],\n",
       "       ['SAI Kayseri Erciyesspor', '21.12', '1.37'],\n",
       "       ['Livorno', '21.00', '0.96'],\n",
       "       ['Dagenham and Redbridge', '20.92', '0.76'],\n",
       "       ['Hartlepool United', '20.89', '0.75'],\n",
       "       ['Rot-Weiss Ahlen', '20.61', '1.42'],\n",
       "       ['FC Dordrecht', '20.56', '1.32'],\n",
       "       ['Cordoba CF', '20.36', '1.21'],\n",
       "       [' SSV Jahn Regensburg', '20.23', '1.19'],\n",
       "       ['Pescara', '20.02', '1.27'],\n",
       "       ['Crotone', '19.29', '2.85'],\n",
       "       ['Stockport County', '19.03', '1.23'],\n",
       "       ['Macclesfield Town', '18.40', '1.59'],\n",
       "       ['Benevento Calcio', '12.40', '3.86']], \n",
       "      dtype='<U25')"
      ]
     },
     "execution_count": 104,
     "metadata": {},
     "output_type": "execute_result"
    }
   ],
   "source": [
    "ranks = []\n",
    "for key in teams.keys():\n",
    "    ranks.append([team_names[key], str(teams[key].mu)[:5], str(teams[key].sigma)[:4]])\n",
    "\n",
    "ranks = np.array(ranks)\n",
    "ranks[np.argsort(ranks[:,1] )][::-1][-15:]"
   ]
  },
  {
   "cell_type": "code",
   "execution_count": 105,
   "metadata": {
    "ExecuteTime": {
     "end_time": "2017-10-25T12:04:09.139504Z",
     "start_time": "2017-10-25T12:04:09.135960Z"
    }
   },
   "outputs": [],
   "source": [
    "con = sqlite3.connect('soccer.sqlite')\n",
    "c = con.cursor()\n",
    "test_date = [x for x in c.execute('SELECT * FROM patch')]\n",
    "con.close()"
   ]
  },
  {
   "cell_type": "code",
   "execution_count": 117,
   "metadata": {
    "ExecuteTime": {
     "end_time": "2017-10-25T12:10:37.699983Z",
     "start_time": "2017-10-25T12:10:37.695477Z"
    }
   },
   "outputs": [
    {
     "data": {
      "text/plain": [
       "False"
      ]
     },
     "execution_count": 117,
     "metadata": {},
     "output_type": "execute_result"
    }
   ],
   "source": [
    "datetime.timedelta(53) < abs(datetime.date(*[int(x) for x in test_date[1][3].split('-')])-datetime.date(*[int(x) for x in test_date[2][3].split('-')]))"
   ]
  },
  {
   "cell_type": "code",
   "execution_count": 7,
   "metadata": {
    "ExecuteTime": {
     "end_time": "2017-10-25T12:23:18.770177Z",
     "start_time": "2017-10-25T12:23:18.763720Z"
    }
   },
   "outputs": [
    {
     "data": {
      "text/plain": [
       "2009"
      ]
     },
     "execution_count": 7,
     "metadata": {},
     "output_type": "execute_result"
    }
   ],
   "source": [
    "data[0][3]"
   ]
  },
  {
   "cell_type": "code",
   "execution_count": 118,
   "metadata": {
    "ExecuteTime": {
     "end_time": "2017-10-25T12:13:34.374755Z",
     "start_time": "2017-10-25T12:13:34.371610Z"
    }
   },
   "outputs": [
    {
     "data": {
      "text/plain": [
       "datetime.timedelta(3)"
      ]
     },
     "execution_count": 118,
     "metadata": {},
     "output_type": "execute_result"
    }
   ],
   "source": [
    "abs(datetime.timedelta(-3))"
   ]
  },
  {
   "cell_type": "code",
   "execution_count": null,
   "metadata": {
    "collapsed": true
   },
   "outputs": [],
   "source": []
  }
 ],
 "metadata": {
  "kernelspec": {
   "display_name": "Python 3",
   "language": "python",
   "name": "python3"
  },
  "language_info": {
   "codemirror_mode": {
    "name": "ipython",
    "version": 3
   },
   "file_extension": ".py",
   "mimetype": "text/x-python",
   "name": "python",
   "nbconvert_exporter": "python",
   "pygments_lexer": "ipython3",
   "version": "3.6.1"
  }
 },
 "nbformat": 4,
 "nbformat_minor": 2
}
