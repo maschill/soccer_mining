{
 "cells": [
  {
   "cell_type": "code",
   "execution_count": 1,
   "metadata": {
    "ExecuteTime": {
     "end_time": "2017-10-22T15:54:20.477828Z",
     "start_time": "2017-10-22T15:54:19.605491Z"
    },
    "collapsed": false
   },
   "outputs": [],
   "source": [
    "import pandas as pd\n",
    "import numpy as np\n",
    "from pandas import DataFrame\n",
    "import sqlite3\n",
    "import requests\n",
    "from bs4 import BeautifulSoup\n",
    "\n",
    "import unidecode"
   ]
  },
  {
   "cell_type": "code",
   "execution_count": null,
   "metadata": {
    "collapsed": true
   },
   "outputs": [],
   "source": []
  },
  {
   "cell_type": "code",
   "execution_count": null,
   "metadata": {
    "collapsed": true
   },
   "outputs": [],
   "source": []
  },
  {
   "cell_type": "code",
   "execution_count": null,
   "metadata": {
    "collapsed": true
   },
   "outputs": [],
   "source": []
  },
  {
   "cell_type": "markdown",
   "metadata": {
    "collapsed": true
   },
   "source": [
    "_**sofifia time ids**:_   \n",
    "    18-1-28.08.17: 158835   \n",
    "    17-2-22.02.17: 158647   \n",
    "    17-1-25.08.16: 158466   \n",
    "    16-2-19.02.16: 158278   \n",
    "    16-1-28.08.15: 158103   \n",
    "    15-2-20.02.15: 157914   \n",
    "    15-1-29.08.14: 157739   \n",
    "    14-2-21.02.14: 157550   \n",
    "    14-1-31.08.13: 157376   \n",
    "    13-2-22.02.13: 157186   \n",
    "    13-1-31.08.12: 157011   \n",
    "    12-2-22.02.12: 156820   \n",
    "    12-1-30.08.11: 156644   \n",
    "    11-2-22.02.11: 156455   \n",
    "    11-1-30.08.10: 156279   \n",
    "    10-2-22.02.10: 156090   \n",
    "    10-1-30.08.09: 155914   \n",
    "    09-2-22.02.09: 155725   \n",
    "    09-1-30.08.08: 155549   \n",
    "        \n",
    "**_sofifaLigaIds_** = {    \n",
    "    \"1. Bundesliga\": 19,   \n",
    "    *\"2. Bundesliga\": 20,*   \n",
    "    *\"Premier League\": 13,*   \n",
    "    *\"Championship\": 14,*   \n",
    "    \"La Liga\": 53,   \n",
    "    \"Serie A\": 31,   \n",
    "    *\"League 1\": 16,*   \n",
    "    *\"Eredevise\":10,*   \n",
    "    \"Super Lig\": 68,   \n",
    "    *\"Brasileiro\": 7,*    \n",
    "    \"MLS\": 39,   \n",
    "    \"Russian Primier League\": 67,   \n",
    "    \"Allsvenskan\": 56}    \n",
    "        \n"
   ]
  },
  {
   "cell_type": "code",
   "execution_count": 10,
   "metadata": {
    "ExecuteTime": {
     "end_time": "2017-10-21T16:28:35.148860Z",
     "start_time": "2017-10-21T16:28:35.145530Z"
    },
    "collapsed": true
   },
   "outputs": [],
   "source": [
    "#erst ab fifa 10 team statistiken vorhanden\n",
    "patches = [158835,158647,158466,158278,158103,157914,157739,157550,157376,157186,157011,156820,156644,156455,156279,156090,155914]"
   ]
  },
  {
   "cell_type": "code",
   "execution_count": 76,
   "metadata": {
    "ExecuteTime": {
     "end_time": "2017-10-05T03:20:05.450518Z",
     "start_time": "2017-10-05T03:20:05.442254Z"
    },
    "collapsed": true
   },
   "outputs": [],
   "source": [
    "con.close()"
   ]
  },
  {
   "cell_type": "code",
   "execution_count": 2,
   "metadata": {
    "ExecuteTime": {
     "end_time": "2017-10-22T15:54:24.535576Z",
     "start_time": "2017-10-22T15:54:24.532329Z"
    },
    "collapsed": true
   },
   "outputs": [],
   "source": [
    "con = sqlite3.connect('soccer.sqlite')\n",
    "c = con.cursor()"
   ]
  },
  {
   "cell_type": "code",
   "execution_count": 19,
   "metadata": {
    "ExecuteTime": {
     "end_time": "2017-10-22T03:57:15.746739Z",
     "start_time": "2017-10-22T03:57:15.466101Z"
    },
    "collapsed": false
   },
   "outputs": [
    {
     "name": "stdout",
     "output_type": "stream",
     "text": [
      "19 306   9113 \n",
      "20 306   8389 \n",
      "13 340   11255\n",
      "14 408   11836\n",
      "53 340   10565\n",
      "31 340   10133\n",
      "16 340   10060\n",
      "10 306   8375 \n",
      "68 203   5521 \n",
      "7  0     0    \n",
      "39 0     0    \n",
      "67 0     0    \n",
      "56 272   6739 \n",
      "60 408   10989\n",
      "61 408   10504\n"
     ]
    }
   ],
   "source": [
    "for i in [19,20,13,14,53,31,16,10,68,7,39,67,56,60,61]:\n",
    "    print(str(i).ljust(2), str([x[0] for x in c.execute('SELECT count(*) FROM team WHERE ligaID IS '+str(i))][0]).ljust(5), str([x[0] for x in c.execute('SELECT count(*) FROM player WHERE teamID IN (SELECT teamID FROM team WHERE ligaID IS '+str(i)+')')][0]).ljust(5))"
   ]
  },
  {
   "cell_type": "code",
   "execution_count": 13,
   "metadata": {
    "ExecuteTime": {
     "end_time": "2017-10-21T16:28:44.835338Z",
     "start_time": "2017-10-21T16:28:44.821542Z"
    },
    "collapsed": false
   },
   "outputs": [
    {
     "data": {
      "text/plain": [
       "[(10, 'Eredevise', 800),\n",
       " (13, 'Premier League', 3033),\n",
       " (14, 'English Championship', 3978),\n",
       " (16, 'Ligue 1', 2514),\n",
       " (19, 'Bundesliga', 2387),\n",
       " (20, '2. Bundesliga', 2194),\n",
       " (31, 'Serie A', 2726),\n",
       " (53, 'La Liga', 3040),\n",
       " (68, 'Super Lig', 850)]"
      ]
     },
     "execution_count": 13,
     "metadata": {},
     "output_type": "execute_result"
    }
   ],
   "source": [
    "[x for x in c.execute('select match.ligaID, league.name, count(*) from league join match on match.ligaID = league.leagueID group by match.ligaID')]"
   ]
  },
  {
   "cell_type": "code",
   "execution_count": 4,
   "metadata": {
    "ExecuteTime": {
     "end_time": "2017-10-23T00:46:21.228317Z",
     "start_time": "2017-10-23T00:46:20.821165Z"
    },
    "collapsed": false
   },
   "outputs": [
    {
     "name": "stdout",
     "output_type": "stream",
     "text": [
      "[30365]\n"
     ]
    },
    {
     "data": {
      "text/plain": [
       "[(10, 2195),\n",
       " (13, 3033),\n",
       " (14, 3978),\n",
       " (16, 2514),\n",
       " (19, 2387),\n",
       " (20, 2194),\n",
       " (31, 2726),\n",
       " (53, 3040),\n",
       " (60, 4401),\n",
       " (61, 3047),\n",
       " (68, 850)]"
      ]
     },
     "execution_count": 4,
     "metadata": {},
     "output_type": "execute_result"
    }
   ],
   "source": [
    "print([x[0] for x in c.execute('select count(*) from match')])\n",
    "[x for x in c.execute('select ligaID,count(*) from match group by ligaID')]"
   ]
  },
  {
   "cell_type": "code",
   "execution_count": 18,
   "metadata": {
    "ExecuteTime": {
     "end_time": "2017-10-21T19:34:16.612357Z",
     "start_time": "2017-10-21T17:36:05.138603Z"
    },
    "collapsed": false
   },
   "outputs": [
    {
     "name": "stdout",
     "output_type": "stream",
     "text": [
      "https://sofifa.com/team/92/18/158835\n",
      "team_done Grimsby Town\n",
      "https://sofifa.com/team/121/18/158835\n",
      "team_done Crewe Alexandra\n",
      "https://sofifa.com/team/135/18/158835\n",
      "team_done Barnet\n",
      "https://sofifa.com/team/143/18/158835\n",
      "team_done Exeter City\n",
      "https://sofifa.com/team/149/18/158835\n",
      "team_done Lincoln City\n",
      "https://sofifa.com/team/346/18/158835\n",
      "team_done Yeovil Town\n",
      "https://sofifa.com/team/357/18/158835\n",
      "team_done Morecambe\n",
      "https://sofifa.com/team/361/18/158835\n",
      "team_done Stevenage\n",
      "https://sofifa.com/team/561/18/158835\n",
      "team_done Forest Green\n",
      "https://sofifa.com/team/1480/18/158835\n",
      "team_done Carlisle United\n",
      "https://sofifa.com/team/1800/18/158835\n",
      "team_done Coventry City\n",
      "https://sofifa.com/team/1923/18/158835\n",
      "team_done Luton Town\n",
      "https://sofifa.com/team/1924/18/158835\n",
      "team_done Chesterfield\n",
      "https://sofifa.com/team/1928/18/158835\n",
      "team_done Port Vale\n",
      "https://sofifa.com/team/1933/18/158835\n",
      "team_done Wycombe Wanderers\n",
      "https://sofifa.com/team/1934/18/158835\n",
      "team_done Swindon Town\n",
      "https://sofifa.com/team/1935/18/158835\n",
      "team_done Colchester United\n",
      "https://sofifa.com/team/1936/18/158835\n",
      "team_done Cheltenham Town\n",
      "https://sofifa.com/team/1937/18/158835\n",
      "team_done Notts County\n",
      "https://sofifa.com/team/1940/18/158835\n",
      "team_done Mansfield Town\n",
      "https://sofifa.com/team/1944/18/158835\n",
      "team_done Cambridge United\n",
      "https://sofifa.com/team/110313/18/158835\n",
      "team_done Accrington Stanley\n",
      "https://sofifa.com/team/110890/18/158835\n",
      "team_done Crawley Town\n",
      "https://sofifa.com/team/112254/18/158835\n",
      "team_done Newport County\n",
      "patch done\n",
      "https://sofifa.com/team/92/17/158647\n",
      "team_done Grimsby Town\n",
      "https://sofifa.com/team/121/17/158647\n",
      "team_done Crewe Alexandra\n",
      "https://sofifa.com/team/135/17/158647\n",
      "team_done Barnet\n",
      "https://sofifa.com/team/142/17/158647\n",
      "team_done Doncaster Rovers\n",
      "https://sofifa.com/team/143/17/158647\n",
      "team_done Exeter City\n",
      "https://sofifa.com/team/346/17/158647\n",
      "team_done Yeovil Town\n",
      "https://sofifa.com/team/357/17/158647\n",
      "team_done Morecambe\n",
      "https://sofifa.com/team/361/17/158647\n",
      "team_done Stevenage\n",
      "https://sofifa.com/team/1480/17/158647\n",
      "team_done Carlisle United\n",
      "https://sofifa.com/team/1790/17/158647\n",
      "team_done Portsmouth\n",
      "https://sofifa.com/team/1923/17/158647\n",
      "team_done Luton Town\n",
      "https://sofifa.com/team/1926/17/158647\n",
      "team_done Blackpool\n",
      "https://sofifa.com/team/1929/17/158647\n",
      "team_done Plymouth Argyle\n",
      "https://sofifa.com/team/1933/17/158647\n",
      "team_done Wycombe Wanderers\n",
      "https://sofifa.com/team/1935/17/158647\n",
      "team_done Colchester United\n",
      "https://sofifa.com/team/1936/17/158647\n",
      "team_done Cheltenham Town\n",
      "https://sofifa.com/team/1937/17/158647\n",
      "team_done Notts County\n",
      "https://sofifa.com/team/1940/17/158647\n",
      "team_done Mansfield Town\n",
      "https://sofifa.com/team/1941/17/158647\n",
      "team_done Hartlepool United\n",
      "https://sofifa.com/team/1944/17/158647\n",
      "team_done Cambridge United\n",
      "https://sofifa.com/team/1958/17/158647\n",
      "team_done Leyton Orient\n",
      "https://sofifa.com/team/110313/17/158647\n",
      "team_done Accrington Stanley\n",
      "https://sofifa.com/team/110890/17/158647\n",
      "team_done Crawley Town\n",
      "https://sofifa.com/team/112254/17/158647\n",
      "team_done Newport County\n",
      "patch done\n",
      "https://sofifa.com/team/92/17/158466\n",
      "team_done Grimsby Town\n",
      "https://sofifa.com/team/121/17/158466\n",
      "team_done Crewe Alexandra\n",
      "https://sofifa.com/team/135/17/158466\n",
      "team_done Barnet\n",
      "https://sofifa.com/team/142/17/158466\n",
      "team_done Doncaster Rovers\n",
      "https://sofifa.com/team/143/17/158466\n",
      "team_done Exeter City\n",
      "https://sofifa.com/team/346/17/158466\n",
      "team_done Yeovil Town\n",
      "https://sofifa.com/team/357/17/158466\n",
      "team_done Morecambe\n",
      "https://sofifa.com/team/361/17/158466\n",
      "team_done Stevenage\n",
      "https://sofifa.com/team/1480/17/158466\n",
      "team_done Carlisle United\n",
      "https://sofifa.com/team/1790/17/158466\n",
      "team_done Portsmouth\n",
      "https://sofifa.com/team/1923/17/158466\n",
      "team_done Luton Town\n",
      "https://sofifa.com/team/1926/17/158466\n",
      "team_done Blackpool\n",
      "https://sofifa.com/team/1929/17/158466\n",
      "team_done Plymouth Argyle\n",
      "https://sofifa.com/team/1933/17/158466\n",
      "team_done Wycombe Wanderers\n",
      "https://sofifa.com/team/1935/17/158466\n",
      "team_done Colchester United\n",
      "https://sofifa.com/team/1936/17/158466\n",
      "team_done Cheltenham Town\n",
      "https://sofifa.com/team/1937/17/158466\n",
      "team_done Notts County\n",
      "https://sofifa.com/team/1940/17/158466\n",
      "team_done Mansfield Town\n",
      "https://sofifa.com/team/1941/17/158466\n",
      "team_done Hartlepool United\n",
      "https://sofifa.com/team/1944/17/158466\n",
      "team_done Cambridge United\n",
      "https://sofifa.com/team/1958/17/158466\n",
      "team_done Leyton Orient\n",
      "https://sofifa.com/team/110313/17/158466\n",
      "team_done Accrington Stanley\n",
      "https://sofifa.com/team/110890/17/158466\n",
      "team_done Crawley Town\n",
      "https://sofifa.com/team/112254/17/158466\n",
      "team_done Newport County\n",
      "patch done\n",
      "https://sofifa.com/team/135/16/158278\n",
      "team_done Barnet\n",
      "https://sofifa.com/team/143/16/158278\n",
      "team_done Exeter City\n",
      "https://sofifa.com/team/346/16/158278\n",
      "team_done Yeovil Town\n",
      "https://sofifa.com/team/357/16/158278\n",
      "team_done Morecambe\n",
      "https://sofifa.com/team/361/16/158278\n",
      "team_done Stevenage\n",
      "https://sofifa.com/team/373/16/158278\n",
      "team_done Dagenham and Redbridge\n",
      "https://sofifa.com/team/1480/16/158278\n",
      "team_done Carlisle United\n",
      "https://sofifa.com/team/1790/16/158278\n",
      "team_done Portsmouth\n",
      "https://sofifa.com/team/1923/16/158278\n",
      "team_done Luton Town\n",
      "https://sofifa.com/team/1929/16/158278\n",
      "team_done Plymouth Argyle\n",
      "https://sofifa.com/team/1930/16/158278\n",
      "team_done Northampton Town\n",
      "https://sofifa.com/team/1933/16/158278\n",
      "team_done Wycombe Wanderers\n",
      "https://sofifa.com/team/1937/16/158278\n",
      "team_done Notts County\n",
      "https://sofifa.com/team/1940/16/158278\n",
      "team_done Mansfield Town\n",
      "https://sofifa.com/team/1941/16/158278\n",
      "team_done Hartlepool United\n",
      "https://sofifa.com/team/1944/16/158278\n",
      "team_done Cambridge United\n",
      "https://sofifa.com/team/1948/16/158278\n",
      "team_done York City\n",
      "https://sofifa.com/team/1951/16/158278\n",
      "team_done Oxford United\n",
      "https://sofifa.com/team/1958/16/158278\n",
      "team_done Leyton Orient\n",
      "https://sofifa.com/team/1962/16/158278\n",
      "team_done Bristol Rovers\n",
      "https://sofifa.com/team/110313/16/158278\n",
      "team_done Accrington Stanley\n",
      "https://sofifa.com/team/110890/16/158278\n",
      "team_done Crawley Town\n",
      "https://sofifa.com/team/112254/16/158278\n",
      "team_done Newport County\n",
      "https://sofifa.com/team/112259/16/158278\n",
      "team_done AFC Wimbledon\n",
      "patch done\n",
      "https://sofifa.com/team/135/16/158103\n",
      "team_done Barnet\n",
      "https://sofifa.com/team/143/16/158103\n",
      "team_done Exeter City\n",
      "https://sofifa.com/team/346/16/158103\n",
      "team_done Yeovil Town\n",
      "https://sofifa.com/team/357/16/158103\n",
      "team_done Morecambe\n",
      "https://sofifa.com/team/361/16/158103\n",
      "team_done Stevenage\n",
      "https://sofifa.com/team/373/16/158103\n",
      "team_done Dagenham and Redbridge\n",
      "https://sofifa.com/team/1480/16/158103\n",
      "team_done Carlisle United\n",
      "https://sofifa.com/team/1790/16/158103\n",
      "team_done Portsmouth\n",
      "https://sofifa.com/team/1923/16/158103\n",
      "team_done Luton Town\n",
      "https://sofifa.com/team/1929/16/158103\n",
      "team_done Plymouth Argyle\n",
      "https://sofifa.com/team/1930/16/158103\n",
      "team_done Northampton Town\n",
      "https://sofifa.com/team/1933/16/158103\n",
      "team_done Wycombe Wanderers\n",
      "https://sofifa.com/team/1937/16/158103\n",
      "team_done Notts County\n",
      "https://sofifa.com/team/1940/16/158103\n",
      "team_done Mansfield Town\n",
      "https://sofifa.com/team/1941/16/158103\n",
      "team_done Hartlepool United\n",
      "https://sofifa.com/team/1944/16/158103\n",
      "team_done Cambridge United\n",
      "https://sofifa.com/team/1948/16/158103\n",
      "team_done York City\n",
      "https://sofifa.com/team/1951/16/158103\n",
      "team_done Oxford United\n",
      "https://sofifa.com/team/1958/16/158103\n",
      "team_done Leyton Orient\n",
      "https://sofifa.com/team/1962/16/158103\n",
      "team_done Bristol Rovers\n",
      "https://sofifa.com/team/110313/16/158103\n",
      "team_done Accrington Stanley\n",
      "https://sofifa.com/team/110890/16/158103\n",
      "team_done Crawley Town\n",
      "https://sofifa.com/team/112254/16/158103\n",
      "team_done Newport County\n",
      "https://sofifa.com/team/112259/16/158103\n",
      "team_done AFC Wimbledon\n",
      "patch done\n",
      "https://sofifa.com/team/127/15/157914\n",
      "team_done Shrewsbury\n",
      "https://sofifa.com/team/143/15/157914\n",
      "team_done Exeter City\n",
      "https://sofifa.com/team/357/15/157914\n",
      "team_done Morecambe\n",
      "https://sofifa.com/team/361/15/157914\n",
      "team_done Stevenage\n",
      "https://sofifa.com/team/373/15/157914\n",
      "team_done Dagenham and Redbridge\n",
      "https://sofifa.com/team/1480/15/157914\n",
      "team_done Carlisle United\n",
      "https://sofifa.com/team/1790/15/157914\n",
      "team_done Portsmouth\n",
      "https://sofifa.com/team/1923/15/157914\n",
      "team_done Luton Town\n",
      "https://sofifa.com/team/1929/15/157914\n",
      "team_done Plymouth Argyle\n",
      "https://sofifa.com/team/1930/15/157914\n",
      "team_done Northampton Town\n",
      "https://sofifa.com/team/1933/15/157914\n",
      "team_done Wycombe Wanderers\n",
      "https://sofifa.com/team/1936/15/157914\n",
      "team_done Cheltenham Town\n",
      "https://sofifa.com/team/1940/15/157914\n",
      "team_done Mansfield Town\n",
      "https://sofifa.com/team/1941/15/157914\n",
      "team_done Hartlepool United\n",
      "https://sofifa.com/team/1944/15/157914\n",
      "team_done Cambridge United\n",
      "https://sofifa.com/team/1945/15/157914\n",
      "team_done Bury\n",
      "https://sofifa.com/team/1948/15/157914\n",
      "team_done York City\n",
      "https://sofifa.com/team/1951/15/157914\n",
      "team_done Oxford United\n",
      "https://sofifa.com/team/1954/15/157914\n",
      "team_done Southend United\n",
      "https://sofifa.com/team/15015/15/157914\n",
      "team_done Burton Albion\n",
      "https://sofifa.com/team/15048/15/157914\n",
      "team_done Tranmere Rovers\n",
      "https://sofifa.com/team/110313/15/157914\n",
      "team_done Accrington Stanley\n",
      "https://sofifa.com/team/112254/15/157914\n",
      "team_done Newport County\n",
      "https://sofifa.com/team/112259/15/157914\n",
      "team_done AFC Wimbledon\n",
      "patch done\n",
      "https://sofifa.com/team/127/15/157739\n",
      "team_done Shrewsbury\n",
      "https://sofifa.com/team/143/15/157739\n",
      "team_done Exeter City\n",
      "https://sofifa.com/team/357/15/157739\n",
      "team_done Morecambe\n",
      "https://sofifa.com/team/361/15/157739\n",
      "team_done Stevenage\n",
      "https://sofifa.com/team/373/15/157739\n",
      "team_done Dagenham and Redbridge\n",
      "https://sofifa.com/team/1480/15/157739\n",
      "team_done Carlisle United\n",
      "https://sofifa.com/team/1790/15/157739\n",
      "team_done Portsmouth\n",
      "https://sofifa.com/team/1923/15/157739\n",
      "team_done Luton Town\n",
      "https://sofifa.com/team/1929/15/157739\n",
      "team_done Plymouth Argyle\n",
      "https://sofifa.com/team/1930/15/157739\n",
      "team_done Northampton Town\n",
      "https://sofifa.com/team/1933/15/157739\n",
      "team_done Wycombe Wanderers\n",
      "https://sofifa.com/team/1936/15/157739\n",
      "team_done Cheltenham Town\n",
      "https://sofifa.com/team/1940/15/157739\n",
      "team_done Mansfield Town\n",
      "https://sofifa.com/team/1941/15/157739\n",
      "team_done Hartlepool United\n",
      "https://sofifa.com/team/1944/15/157739\n",
      "team_done Cambridge United\n",
      "https://sofifa.com/team/1945/15/157739\n",
      "team_done Bury\n",
      "https://sofifa.com/team/1948/15/157739\n",
      "team_done York City\n",
      "https://sofifa.com/team/1951/15/157739\n",
      "team_done Oxford United\n",
      "https://sofifa.com/team/1954/15/157739\n",
      "team_done Southend United\n",
      "https://sofifa.com/team/15015/15/157739\n",
      "team_done Burton Albion\n",
      "https://sofifa.com/team/15048/15/157739\n",
      "team_done Tranmere Rovers\n",
      "https://sofifa.com/team/110313/15/157739\n",
      "team_done Accrington Stanley\n",
      "https://sofifa.com/team/112254/15/157739\n",
      "team_done Newport County\n",
      "https://sofifa.com/team/112259/15/157739\n",
      "team_done AFC Wimbledon\n",
      "patch done\n",
      "https://sofifa.com/team/143/14/157550\n",
      "team_done Exeter City\n",
      "https://sofifa.com/team/357/14/157550\n",
      "team_done Morecambe\n",
      "https://sofifa.com/team/373/14/157550\n",
      "team_done Dagenham and Redbridge\n",
      "https://sofifa.com/team/1790/14/157550\n",
      "team_done Portsmouth\n",
      "https://sofifa.com/team/1924/14/157550\n",
      "team_done Chesterfield\n",
      "https://sofifa.com/team/1929/14/157550\n",
      "team_done Plymouth Argyle\n",
      "https://sofifa.com/team/1930/14/157550\n",
      "team_done Northampton Town\n",
      "https://sofifa.com/team/1933/14/157550\n",
      "team_done Wycombe Wanderers\n",
      "https://sofifa.com/team/1936/14/157550\n",
      "team_done Cheltenham Town\n",
      "https://sofifa.com/team/1940/14/157550\n",
      "team_done Mansfield Town\n",
      "https://sofifa.com/team/1941/14/157550\n",
      "team_done Hartlepool United\n",
      "https://sofifa.com/team/1945/14/157550\n",
      "team_done Bury\n",
      "https://sofifa.com/team/1946/14/157550\n",
      "team_done Torquay United\n",
      "https://sofifa.com/team/1948/14/157550\n",
      "team_done York City\n",
      "https://sofifa.com/team/1949/14/157550\n",
      "team_done Scunthorpe United\n",
      "https://sofifa.com/team/1951/14/157550\n",
      "team_done Oxford United\n",
      "https://sofifa.com/team/1954/14/157550\n",
      "team_done Southend United\n",
      "https://sofifa.com/team/1955/14/157550\n",
      "team_done Rochdale\n",
      "https://sofifa.com/team/1962/14/157550\n",
      "team_done Bristol Rovers\n",
      "https://sofifa.com/team/15015/14/157550\n",
      "team_done Burton Albion\n",
      "https://sofifa.com/team/110313/14/157550\n",
      "team_done Accrington Stanley\n",
      "https://sofifa.com/team/112254/14/157550\n",
      "team_done Newport County\n",
      "https://sofifa.com/team/112259/14/157550\n",
      "team_done AFC Wimbledon\n",
      "https://sofifa.com/team/112260/14/157550\n",
      "team_done Fleetwood Town\n",
      "patch done\n",
      "https://sofifa.com/team/143/14/157376\n",
      "team_done Exeter City\n",
      "https://sofifa.com/team/357/14/157376\n",
      "team_done Morecambe\n",
      "https://sofifa.com/team/373/14/157376\n",
      "team_done Dagenham and Redbridge\n",
      "https://sofifa.com/team/1790/14/157376\n",
      "team_done Portsmouth\n",
      "https://sofifa.com/team/1924/14/157376\n",
      "team_done Chesterfield\n",
      "https://sofifa.com/team/1929/14/157376\n",
      "team_done Plymouth Argyle\n",
      "https://sofifa.com/team/1930/14/157376\n",
      "team_done Northampton Town\n",
      "https://sofifa.com/team/1933/14/157376\n",
      "team_done Wycombe Wanderers\n",
      "https://sofifa.com/team/1936/14/157376\n",
      "team_done Cheltenham Town\n",
      "https://sofifa.com/team/1940/14/157376\n",
      "team_done Mansfield Town\n",
      "https://sofifa.com/team/1941/14/157376\n",
      "team_done Hartlepool United\n",
      "https://sofifa.com/team/1945/14/157376\n",
      "team_done Bury\n",
      "https://sofifa.com/team/1946/14/157376\n",
      "team_done Torquay United\n",
      "https://sofifa.com/team/1948/14/157376\n",
      "team_done York City\n",
      "https://sofifa.com/team/1949/14/157376\n",
      "team_done Scunthorpe United\n",
      "https://sofifa.com/team/1951/14/157376\n",
      "team_done Oxford United\n",
      "https://sofifa.com/team/1954/14/157376\n",
      "team_done Southend United\n",
      "https://sofifa.com/team/1955/14/157376\n",
      "team_done Rochdale\n",
      "https://sofifa.com/team/1962/14/157376\n",
      "team_done Bristol Rovers\n",
      "https://sofifa.com/team/15015/14/157376\n",
      "team_done Burton Albion\n",
      "https://sofifa.com/team/110313/14/157376\n",
      "team_done Accrington Stanley\n",
      "https://sofifa.com/team/112254/14/157376\n",
      "team_done Newport County\n",
      "https://sofifa.com/team/112259/14/157376\n",
      "team_done AFC Wimbledon\n",
      "https://sofifa.com/team/112260/14/157376\n",
      "team_done Fleetwood Town\n",
      "patch done\n",
      "https://sofifa.com/team/135/13/157186\n",
      "team_done Barnet\n",
      "https://sofifa.com/team/143/13/157186\n",
      "team_done Exeter City\n",
      "https://sofifa.com/team/357/13/157186\n",
      "team_done Morecambe\n",
      "https://sofifa.com/team/373/13/157186\n",
      "team_done Dagenham and Redbridge\n",
      "https://sofifa.com/team/382/13/157186\n",
      "team_done Aldershot Town\n",
      "https://sofifa.com/team/1797/13/157186\n",
      "team_done Rotherham United\n",
      "https://sofifa.com/team/1802/13/157186\n",
      "team_done Gillingham\n",
      "https://sofifa.com/team/1804/13/157186\n",
      "team_done Bradford City\n",
      "https://sofifa.com/team/1924/13/157186\n",
      "team_done Chesterfield\n",
      "https://sofifa.com/team/1928/13/157186\n",
      "team_done Port Vale\n",
      "https://sofifa.com/team/1929/13/157186\n",
      "team_done Plymouth Argyle\n",
      "https://sofifa.com/team/1930/13/157186\n",
      "team_done Northampton Town\n",
      "https://sofifa.com/team/1933/13/157186\n",
      "team_done Wycombe Wanderers\n",
      "https://sofifa.com/team/1936/13/157186\n",
      "team_done Cheltenham Town\n",
      "https://sofifa.com/team/1946/13/157186\n",
      "team_done Torquay United\n",
      "https://sofifa.com/team/1948/13/157186\n",
      "team_done York City\n",
      "https://sofifa.com/team/1951/13/157186\n",
      "team_done Oxford United\n",
      "https://sofifa.com/team/1954/13/157186\n",
      "team_done Southend United\n",
      "https://sofifa.com/team/1955/13/157186\n",
      "team_done Rochdale\n",
      "https://sofifa.com/team/1962/13/157186\n",
      "team_done Bristol Rovers\n",
      "https://sofifa.com/team/15015/13/157186\n",
      "team_done Burton Albion\n",
      "https://sofifa.com/team/110313/13/157186\n",
      "team_done Accrington Stanley\n",
      "https://sofifa.com/team/112259/13/157186\n",
      "team_done AFC Wimbledon\n",
      "https://sofifa.com/team/112260/13/157186\n",
      "team_done Fleetwood Town\n",
      "patch done\n",
      "https://sofifa.com/team/135/13/157011\n",
      "team_done Barnet\n",
      "https://sofifa.com/team/143/13/157011\n",
      "team_done Exeter City\n",
      "https://sofifa.com/team/357/13/157011\n",
      "team_done Morecambe\n",
      "https://sofifa.com/team/373/13/157011\n",
      "team_done Dagenham and Redbridge\n",
      "https://sofifa.com/team/382/13/157011\n",
      "team_done Aldershot Town\n",
      "https://sofifa.com/team/1797/13/157011\n",
      "team_done Rotherham United\n",
      "https://sofifa.com/team/1802/13/157011\n",
      "team_done Gillingham\n",
      "https://sofifa.com/team/1804/13/157011\n",
      "team_done Bradford City\n",
      "https://sofifa.com/team/1924/13/157011\n",
      "team_done Chesterfield\n",
      "https://sofifa.com/team/1928/13/157011\n",
      "team_done Port Vale\n",
      "https://sofifa.com/team/1929/13/157011\n",
      "team_done Plymouth Argyle\n",
      "https://sofifa.com/team/1930/13/157011\n",
      "team_done Northampton Town\n",
      "https://sofifa.com/team/1933/13/157011\n",
      "team_done Wycombe Wanderers\n",
      "https://sofifa.com/team/1936/13/157011\n",
      "team_done Cheltenham Town\n",
      "https://sofifa.com/team/1946/13/157011\n",
      "team_done Torquay United\n",
      "https://sofifa.com/team/1948/13/157011\n",
      "team_done York City\n",
      "https://sofifa.com/team/1951/13/157011\n",
      "team_done Oxford United\n",
      "https://sofifa.com/team/1954/13/157011\n",
      "team_done Southend United\n",
      "https://sofifa.com/team/1955/13/157011\n",
      "team_done Rochdale\n",
      "https://sofifa.com/team/1962/13/157011\n",
      "team_done Bristol Rovers\n",
      "https://sofifa.com/team/15015/13/157011\n",
      "team_done Burton Albion\n",
      "https://sofifa.com/team/110313/13/157011\n",
      "team_done Accrington Stanley\n",
      "https://sofifa.com/team/112259/13/157011\n",
      "team_done AFC Wimbledon\n",
      "https://sofifa.com/team/112260/13/157011\n",
      "team_done Fleetwood Town\n",
      "patch done\n",
      "https://sofifa.com/team/121/12/156820\n",
      "team_done Crewe Alexandra\n",
      "https://sofifa.com/team/127/12/156820\n",
      "team_done Shrewsbury\n",
      "https://sofifa.com/team/135/12/156820\n",
      "team_done Barnet\n",
      "https://sofifa.com/team/147/12/156820\n",
      "team_done Hereford\n",
      "https://sofifa.com/team/357/12/156820\n",
      "team_done Morecambe\n",
      "https://sofifa.com/team/373/12/156820\n",
      "team_done Dagenham and Redbridge\n",
      "https://sofifa.com/team/382/12/156820\n",
      "team_done Aldershot Town\n",
      "https://sofifa.com/team/1797/12/156820\n",
      "team_done Rotherham United\n",
      "https://sofifa.com/team/1802/12/156820\n",
      "team_done Gillingham\n",
      "https://sofifa.com/team/1804/12/156820\n",
      "team_done Bradford City\n",
      "https://sofifa.com/team/1928/12/156820\n",
      "team_done Port Vale\n",
      "https://sofifa.com/team/1929/12/156820\n",
      "team_done Plymouth Argyle\n",
      "https://sofifa.com/team/1930/12/156820\n",
      "team_done Northampton Town\n",
      "https://sofifa.com/team/1934/12/156820\n",
      "team_done Swindon Town\n",
      "https://sofifa.com/team/1936/12/156820\n",
      "team_done Cheltenham Town\n",
      "https://sofifa.com/team/1946/12/156820\n",
      "team_done Torquay United\n",
      "https://sofifa.com/team/1951/12/156820\n",
      "team_done Oxford United\n",
      "https://sofifa.com/team/1954/12/156820\n",
      "team_done Southend United\n",
      "https://sofifa.com/team/1959/12/156820\n",
      "team_done Macclesfield Town\n",
      "https://sofifa.com/team/1962/12/156820\n",
      "team_done Bristol Rovers\n",
      "https://sofifa.com/team/15015/12/156820\n",
      "team_done Burton Albion\n",
      "https://sofifa.com/team/110313/12/156820\n",
      "team_done Accrington Stanley\n",
      "https://sofifa.com/team/110890/12/156820\n",
      "team_done Crawley Town\n",
      "https://sofifa.com/team/112259/12/156820\n",
      "team_done AFC Wimbledon\n",
      "patch done\n",
      "https://sofifa.com/team/121/12/156644\n",
      "team_done Crewe Alexandra\n",
      "https://sofifa.com/team/127/12/156644\n",
      "team_done Shrewsbury\n",
      "https://sofifa.com/team/135/12/156644\n",
      "team_done Barnet\n",
      "https://sofifa.com/team/147/12/156644\n",
      "team_done Hereford\n",
      "https://sofifa.com/team/357/12/156644\n",
      "team_done Morecambe\n",
      "https://sofifa.com/team/373/12/156644\n",
      "team_done Dagenham and Redbridge\n",
      "https://sofifa.com/team/382/12/156644\n",
      "team_done Aldershot Town\n",
      "https://sofifa.com/team/1797/12/156644\n",
      "team_done Rotherham United\n",
      "https://sofifa.com/team/1802/12/156644\n",
      "team_done Gillingham\n",
      "https://sofifa.com/team/1804/12/156644\n",
      "team_done Bradford City\n",
      "https://sofifa.com/team/1928/12/156644\n",
      "team_done Port Vale\n",
      "https://sofifa.com/team/1929/12/156644\n",
      "team_done Plymouth Argyle\n",
      "https://sofifa.com/team/1930/12/156644\n",
      "team_done Northampton Town\n",
      "https://sofifa.com/team/1934/12/156644\n",
      "team_done Swindon Town\n",
      "https://sofifa.com/team/1936/12/156644\n",
      "team_done Cheltenham Town\n",
      "https://sofifa.com/team/1946/12/156644\n",
      "team_done Torquay United\n",
      "https://sofifa.com/team/1951/12/156644\n",
      "team_done Oxford United\n",
      "https://sofifa.com/team/1954/12/156644\n",
      "team_done Southend United\n",
      "https://sofifa.com/team/1959/12/156644\n",
      "team_done Macclesfield Town\n",
      "https://sofifa.com/team/1962/12/156644\n",
      "team_done Bristol Rovers\n",
      "https://sofifa.com/team/15015/12/156644\n",
      "team_done Burton Albion\n",
      "https://sofifa.com/team/110313/12/156644\n",
      "team_done Accrington Stanley\n",
      "https://sofifa.com/team/110890/12/156644\n",
      "team_done Crawley Town\n",
      "https://sofifa.com/team/112259/12/156644\n",
      "team_done AFC Wimbledon\n",
      "patch done\n",
      "https://sofifa.com/team/121/11/156455\n",
      "team_done Crewe Alexandra\n",
      "https://sofifa.com/team/127/11/156455\n",
      "team_done Shrewsbury\n",
      "https://sofifa.com/team/135/11/156455\n",
      "team_done Barnet\n",
      "https://sofifa.com/team/147/11/156455\n",
      "team_done Hereford\n",
      "https://sofifa.com/team/149/11/156455\n",
      "team_done Lincoln City\n",
      "https://sofifa.com/team/357/11/156455\n",
      "team_done Morecambe\n",
      "https://sofifa.com/team/361/11/156455\n",
      "team_done Stevenage\n",
      "https://sofifa.com/team/382/11/156455\n",
      "team_done Aldershot Town\n",
      "https://sofifa.com/team/1797/11/156455\n",
      "team_done Rotherham United\n",
      "https://sofifa.com/team/1802/11/156455\n",
      "team_done Gillingham\n",
      "https://sofifa.com/team/1804/11/156455\n",
      "team_done Bradford City\n",
      "https://sofifa.com/team/1924/11/156455\n",
      "team_done Chesterfield\n",
      "https://sofifa.com/team/1928/11/156455\n",
      "team_done Port Vale\n",
      "https://sofifa.com/team/1930/11/156455\n",
      "team_done Northampton Town\n",
      "https://sofifa.com/team/1931/11/156455\n",
      "team_done Stockport County\n",
      "https://sofifa.com/team/1933/11/156455\n",
      "team_done Wycombe Wanderers\n",
      "https://sofifa.com/team/1936/11/156455\n",
      "team_done Cheltenham Town\n",
      "https://sofifa.com/team/1945/11/156455\n",
      "team_done Bury\n",
      "https://sofifa.com/team/1946/11/156455\n",
      "team_done Torquay United\n",
      "https://sofifa.com/team/1951/11/156455\n",
      "team_done Oxford United\n",
      "https://sofifa.com/team/1954/11/156455\n",
      "team_done Southend United\n",
      "https://sofifa.com/team/1959/11/156455\n",
      "team_done Macclesfield Town\n",
      "https://sofifa.com/team/15015/11/156455\n",
      "team_done Burton Albion\n",
      "https://sofifa.com/team/110313/11/156455\n",
      "team_done Accrington Stanley\n",
      "patch done\n",
      "https://sofifa.com/team/121/11/156279\n",
      "team_done Crewe Alexandra\n",
      "https://sofifa.com/team/127/11/156279\n",
      "team_done Shrewsbury\n",
      "https://sofifa.com/team/135/11/156279\n",
      "team_done Barnet\n",
      "https://sofifa.com/team/147/11/156279\n",
      "team_done Hereford\n",
      "https://sofifa.com/team/149/11/156279\n",
      "team_done Lincoln City\n",
      "https://sofifa.com/team/357/11/156279\n",
      "team_done Morecambe\n",
      "https://sofifa.com/team/361/11/156279\n",
      "team_done Stevenage\n",
      "https://sofifa.com/team/382/11/156279\n",
      "team_done Aldershot Town\n",
      "https://sofifa.com/team/1797/11/156279\n",
      "team_done Rotherham United\n",
      "https://sofifa.com/team/1802/11/156279\n",
      "team_done Gillingham\n",
      "https://sofifa.com/team/1804/11/156279\n",
      "team_done Bradford City\n",
      "https://sofifa.com/team/1924/11/156279\n",
      "team_done Chesterfield\n",
      "https://sofifa.com/team/1928/11/156279\n",
      "team_done Port Vale\n",
      "https://sofifa.com/team/1930/11/156279\n",
      "team_done Northampton Town\n",
      "https://sofifa.com/team/1931/11/156279\n",
      "team_done Stockport County\n",
      "https://sofifa.com/team/1933/11/156279\n",
      "team_done Wycombe Wanderers\n",
      "https://sofifa.com/team/1936/11/156279\n",
      "team_done Cheltenham Town\n",
      "https://sofifa.com/team/1945/11/156279\n",
      "team_done Bury\n",
      "https://sofifa.com/team/1946/11/156279\n",
      "team_done Torquay United\n",
      "https://sofifa.com/team/1951/11/156279\n",
      "team_done Oxford United\n",
      "https://sofifa.com/team/1954/11/156279\n",
      "team_done Southend United\n",
      "https://sofifa.com/team/1959/11/156279\n",
      "team_done Macclesfield Town\n",
      "https://sofifa.com/team/15015/11/156279\n",
      "team_done Burton Albion\n",
      "https://sofifa.com/team/110313/11/156279\n",
      "team_done Accrington Stanley\n",
      "patch done\n",
      "https://sofifa.com/team/92/10/156090\n",
      "team_done Grimsby Town\n",
      "https://sofifa.com/team/121/10/156090\n",
      "team_done Crewe Alexandra\n",
      "https://sofifa.com/team/127/10/156090\n",
      "team_done Shrewsbury\n",
      "https://sofifa.com/team/135/10/156090\n",
      "team_done Barnet\n",
      "https://sofifa.com/team/147/10/156090\n",
      "team_done Hereford\n",
      "https://sofifa.com/team/149/10/156090\n",
      "team_done Lincoln City\n",
      "https://sofifa.com/team/357/10/156090\n",
      "team_done Morecambe\n",
      "https://sofifa.com/team/373/10/156090\n",
      "team_done Dagenham and Redbridge\n",
      "https://sofifa.com/team/382/10/156090\n",
      "team_done Aldershot Town\n",
      "https://sofifa.com/team/1797/10/156090\n",
      "team_done Rotherham United\n",
      "https://sofifa.com/team/1804/10/156090\n",
      "team_done Bradford City\n",
      "https://sofifa.com/team/1924/10/156090\n",
      "team_done Chesterfield\n",
      "https://sofifa.com/team/1928/10/156090\n",
      "team_done Port Vale\n",
      "https://sofifa.com/team/1930/10/156090\n",
      "team_done Northampton Town\n",
      "https://sofifa.com/team/1936/10/156090\n",
      "team_done Cheltenham Town\n",
      "https://sofifa.com/team/1937/10/156090\n",
      "team_done Notts County\n",
      "https://sofifa.com/team/1943/10/156090\n",
      "team_done Bournemouth\n",
      "https://sofifa.com/team/1945/10/156090\n",
      "team_done Bury\n",
      "https://sofifa.com/team/1946/10/156090\n",
      "team_done Torquay United\n",
      "https://sofifa.com/team/1955/10/156090\n",
      "team_done Rochdale\n",
      "https://sofifa.com/team/1957/10/156090\n",
      "team_done Darlington\n",
      "https://sofifa.com/team/1959/10/156090\n",
      "team_done Macclesfield Town\n",
      "https://sofifa.com/team/15015/10/156090\n",
      "team_done Burton Albion\n",
      "https://sofifa.com/team/110313/10/156090\n",
      "team_done Accrington Stanley\n",
      "patch done\n",
      "https://sofifa.com/team/92/10/155914\n",
      "team_done Grimsby Town\n",
      "https://sofifa.com/team/121/10/155914\n",
      "team_done Crewe Alexandra\n",
      "https://sofifa.com/team/127/10/155914\n",
      "team_done Shrewsbury\n",
      "https://sofifa.com/team/135/10/155914\n",
      "team_done Barnet\n",
      "https://sofifa.com/team/147/10/155914\n",
      "team_done Hereford\n",
      "https://sofifa.com/team/149/10/155914\n",
      "team_done Lincoln City\n",
      "https://sofifa.com/team/357/10/155914\n",
      "team_done Morecambe\n",
      "https://sofifa.com/team/373/10/155914\n",
      "team_done Dagenham and Redbridge\n",
      "https://sofifa.com/team/382/10/155914\n",
      "team_done Aldershot Town\n",
      "https://sofifa.com/team/1797/10/155914\n",
      "team_done Rotherham United\n",
      "https://sofifa.com/team/1804/10/155914\n",
      "team_done Bradford City\n",
      "https://sofifa.com/team/1924/10/155914\n",
      "team_done Chesterfield\n",
      "https://sofifa.com/team/1928/10/155914\n",
      "team_done Port Vale\n",
      "https://sofifa.com/team/1930/10/155914\n",
      "team_done Northampton Town\n",
      "https://sofifa.com/team/1936/10/155914\n",
      "team_done Cheltenham Town\n",
      "https://sofifa.com/team/1937/10/155914\n",
      "team_done Notts County\n",
      "https://sofifa.com/team/1943/10/155914\n",
      "team_done Bournemouth\n",
      "https://sofifa.com/team/1945/10/155914\n",
      "team_done Bury\n",
      "https://sofifa.com/team/1946/10/155914\n",
      "team_done Torquay United\n",
      "https://sofifa.com/team/1955/10/155914\n",
      "team_done Rochdale\n",
      "https://sofifa.com/team/1957/10/155914\n",
      "team_done Darlington\n",
      "https://sofifa.com/team/1959/10/155914\n",
      "team_done Macclesfield Town\n",
      "https://sofifa.com/team/15015/10/155914\n",
      "team_done Burton Albion\n",
      "https://sofifa.com/team/110313/10/155914\n",
      "team_done Accrington Stanley\n",
      "patch done\n",
      "league done 61\n"
     ]
    }
   ],
   "source": [
    "patch_urls = {158835 : \"/18/158835\",    \n",
    "158647 : \"/17/158647\",    \n",
    "158466 : \"/17/158466\",    \n",
    "158278 : \"/16/158278\",    \n",
    "158103 : \"/16/158103\",    \n",
    "157914 : \"/15/157914\",    \n",
    "157739 : \"/15/157739\",    \n",
    "157550 : \"/14/157550\",    \n",
    "157376 : \"/14/157376\",    \n",
    "157186 : \"/13/157186\",    \n",
    "157011 : \"/13/157011\",    \n",
    "156820 : \"/12/156820\",    \n",
    "156644 : \"/12/156644\",    \n",
    "156455 : \"/11/156455\",    \n",
    "156279 : \"/11/156279\",    \n",
    "156090 : \"/10/156090\",    \n",
    "155914 : \"/10/155914\",    \n",
    "155725 : \"/09/155725\",    \n",
    "155549 : \"/09/155549\"}\n",
    "\n",
    "attr_base = ['Crossing',\n",
    " 'Finishing',\n",
    " 'Heading accuracy',\n",
    " 'Short passing',\n",
    " 'Volleys',\n",
    " 'Dribbling',\n",
    " 'Curve',\n",
    " 'Free kick accuracy',\n",
    " 'Long passing',\n",
    " 'Ball control',\n",
    " 'Acceleration',\n",
    " 'Sprint speed',\n",
    " 'Agility',\n",
    " 'Reactions',\n",
    " 'Balance',\n",
    " 'Shot power',\n",
    " 'Jumping',\n",
    " 'Stamina',\n",
    " 'Strength',\n",
    " 'Long shots',\n",
    " 'Aggression',\n",
    " 'Interceptions',\n",
    " 'Positioning',\n",
    " 'Vision',\n",
    " 'Penalties',\n",
    " 'Composure',\n",
    " 'Marking',\n",
    " 'Standing tackle',\n",
    " 'Sliding tackle',\n",
    " 'GK diving',\n",
    " 'GK handling',\n",
    " 'GK kicking',\n",
    " 'GK positioning',\n",
    " 'GK reflexes']\n",
    "\n",
    "ligaID = 61\n",
    "for i,patch in enumerate(patches):\n",
    "    patch_url = patch_urls[patch]\n",
    "#     league_url = https://sofifa.com/league/19?v=14&e=157376&set=true\n",
    "    \n",
    "    url_base = ''.join(['https://sofifa.com/league/',str(ligaID),'&v=', patch_url.split('/')[1],'&e=',str(patch) , '&set=true'])\n",
    "    r = requests.get(url_base)\n",
    "    if len(r.history)>0:\n",
    "        continue\n",
    "    soup = BeautifulSoup(r.content, 'html.parser')\n",
    "\n",
    "    teams_urls = []\n",
    "    for tr in soup.find_all('tr')[1:]:\n",
    "        teams_urls.append(tr.find_next('a')['href'])\n",
    "\n",
    "    for url in teams_urls:\n",
    "        sofifaTeamID = url.split('/')[-1]\n",
    "        url_team = ''.join(['https://sofifa.com', url, str(patch_url)])\n",
    "        print(url_team)\n",
    "#         row = [''.join([sofifaid, patch]), ]\n",
    "        \n",
    "        rt = requests.get(url_team)\n",
    "        if len(rt.history)>0:\n",
    "            continue\n",
    "        team_soup = BeautifulSoup(rt.content, 'html.parser')\n",
    "\n",
    "        name =unidecode.unidecode(' '.join(team_soup.title.contents[0].split(' ')[:-6]) )\n",
    "        teamID = ''.join([str(sofifaTeamID), str(patch)])\n",
    "        attr = team_soup.find_all('dl')[0]\n",
    "        attributes = []\n",
    "        lis = attr.find_all('span')\n",
    "        for j,el in enumerate(lis):\n",
    "            if j==3 or j == 7 or j==11:\n",
    "                continue\n",
    "            attributes.append(el.text.split(' ')[0])\n",
    "        c.execute('INSERT OR IGNORE INTO team VALUES(?,?,?,?,?,?,?,?,?,?,?,?,?,?)', (teamID, ligaID, sofifaTeamID, patch, name, *attributes))\n",
    "        con.commit()\n",
    "\n",
    "\n",
    "        player_urls = []\n",
    "        for tr in team_soup.find_all('tbody')[0].find_all('tr'):\n",
    "            player_urls.append(tr.find_all('a')[1]['href'])\n",
    "\n",
    "        for player_url in player_urls:\n",
    "            rp = requests.get(''.join(['https://sofifa.com', player_url, str(patch_url)]))\n",
    "            if len(rp.history)>0:\n",
    "                continue\n",
    "            player_soup = BeautifulSoup(rp.content,'lxml')\n",
    "            meta = []\n",
    "            attr_dict = dict.fromkeys(attr_base, 0)\n",
    "            things  = player_soup.find_all('ul', class_='pl')\n",
    "            meta.append((unidecode.unidecode(' '.join(player_soup.title.contents[0].split(' ')[:-6]))))\n",
    "            metadata  = player_soup.find_all('div', class_='meta')\n",
    "            for l in metadata:\n",
    "                lis = l.find_all('li')\n",
    "                lt=l.text.split(' ')\n",
    "                for m in [lt[-6],lt[-2][:-2],lt[-1][:-3]]:\n",
    "                    meta.append(m)\n",
    "            #attributes\n",
    "            if things[2].find_next('li').text.split(' ')[-1].strip()=='Crossing':\n",
    "                m1 = 2\n",
    "                m2 = 9\n",
    "            else:\n",
    "                m1 = 3\n",
    "                m2 = 10\n",
    "            for ip,l in enumerate(things[m1:m2]):\n",
    "                lis = l.find_all('li')\n",
    "                for j,pel in enumerate(lis):\n",
    "                    attr_name = pel.findAll(text=True, recursive=False)[1].strip()\n",
    "                    attr_dict[attr_name] = pel.text.split(' ')[0].strip()\n",
    "            \n",
    "            meta += [attr_dict[v] for v in attr_base]\n",
    "            meta.append( things[1].find_all('li')[3].text.strip().split('\\n')[1])\n",
    "            sofifaPlayerID = player_url.split('/')[2]\n",
    "            c.execute('INSERT OR IGNORE INTO player VALUES(?,?,?,?,?,?,?,?,?,?,?,?,?,?,?,?,?,?,?,?,?,?,?,?,?,?,?,?,?,?,?,?,?,?,?,?,?,?,?,?,?,?)', (''.join([sofifaPlayerID, str(patch)]), sofifaPlayerID, teamID, *meta))\n",
    "            con.commit()\n",
    "        print('team_done', name)\n",
    "    print('patch done')\n",
    "print('league done', ligaID)\n",
    "\n"
   ]
  },
  {
   "cell_type": "code",
   "execution_count": 7,
   "metadata": {
    "ExecuteTime": {
     "end_time": "2017-10-06T18:09:01.961812Z",
     "start_time": "2017-10-06T18:09:01.950656Z"
    },
    "collapsed": false
   },
   "outputs": [
    {
     "data": {
      "text/plain": [
       "['playerID',\n",
       " 'sofifaPlayerID',\n",
       " 'teamID',\n",
       " 'name',\n",
       " 'age',\n",
       " 'groesse',\n",
       " 'gewicht',\n",
       " 'flanken',\n",
       " 'abschluss',\n",
       " 'kopfballPrazision',\n",
       " 'kurzpasse',\n",
       " 'volleys',\n",
       " 'dribbling',\n",
       " 'effet',\n",
       " 'freistossPrazision',\n",
       " 'langePasse',\n",
       " 'ballkontrolle',\n",
       " 'beschleunigung',\n",
       " 'sprintgeschwindigkeit',\n",
       " 'beweglichkeit',\n",
       " 'reaktionen',\n",
       " 'balance',\n",
       " 'schusskraft',\n",
       " 'springkraft',\n",
       " 'ausdauer',\n",
       " 'starke',\n",
       " 'fernschusse',\n",
       " 'aggressivitat',\n",
       " 'abfangen',\n",
       " 'stellungsspiel',\n",
       " 'ubersicht',\n",
       " 'elfmeter',\n",
       " 'ruhe',\n",
       " 'manndeckung',\n",
       " 'faireZweikampfe',\n",
       " 'gratsche',\n",
       " 'twFlugparaden',\n",
       " 'twFangsicherheit',\n",
       " 'twAbschlag',\n",
       " 'twStellungsspiel',\n",
       " 'twReflexe',\n",
       " 'jersey']"
      ]
     },
     "execution_count": 7,
     "metadata": {},
     "output_type": "execute_result"
    }
   ],
   "source": [
    "c.execute('SELECT * from team')\n",
    "[desc[0] for desc in c.description]"
   ]
  },
  {
   "cell_type": "code",
   "execution_count": 9,
   "metadata": {
    "ExecuteTime": {
     "end_time": "2017-10-06T18:10:25.823127Z",
     "start_time": "2017-10-06T18:10:25.819700Z"
    },
    "collapsed": false
   },
   "outputs": [
    {
     "data": {
      "text/plain": [
       "'24'"
      ]
     },
     "execution_count": 9,
     "metadata": {},
     "output_type": "execute_result"
    }
   ],
   "source": [
    "things[1].find_all('li')[3].text.strip().split('\\n')[1]"
   ]
  },
  {
   "cell_type": "code",
   "execution_count": 10,
   "metadata": {
    "ExecuteTime": {
     "end_time": "2017-10-06T18:10:31.268631Z",
     "start_time": "2017-10-06T18:10:31.265777Z"
    },
    "collapsed": false
   },
   "outputs": [
    {
     "data": {
      "text/plain": [
       "['Marius Muller',\n",
       " '23',\n",
       " '192',\n",
       " '89',\n",
       " '11',\n",
       " '10',\n",
       " '12',\n",
       " '22',\n",
       " '9',\n",
       " '10',\n",
       " '11',\n",
       " '13',\n",
       " '16',\n",
       " '20',\n",
       " '25',\n",
       " '38',\n",
       " '34',\n",
       " '67',\n",
       " '38',\n",
       " '23',\n",
       " '66',\n",
       " '35',\n",
       " '77',\n",
       " '12',\n",
       " '27',\n",
       " '14',\n",
       " '11',\n",
       " '48',\n",
       " '18',\n",
       " '26',\n",
       " '9',\n",
       " '13',\n",
       " '11',\n",
       " '69',\n",
       " '67',\n",
       " '64',\n",
       " '64',\n",
       " '71',\n",
       " '2',\n",
       " '4']"
      ]
     },
     "execution_count": 10,
     "metadata": {},
     "output_type": "execute_result"
    }
   ],
   "source": [
    "meta"
   ]
  },
  {
   "cell_type": "code",
   "execution_count": 17,
   "metadata": {
    "ExecuteTime": {
     "end_time": "2017-10-03T05:40:10.515980Z",
     "start_time": "2017-10-03T05:40:10.509011Z"
    },
    "collapsed": false
   },
   "outputs": [
    {
     "data": {
      "text/plain": [
       "['Manuel Neuer',\n",
       " '27,',\n",
       " '193',\n",
       " '92',\n",
       " '15',\n",
       " '13',\n",
       " '25',\n",
       " '48',\n",
       " '11',\n",
       " '16',\n",
       " '14',\n",
       " '11',\n",
       " '47',\n",
       " '31',\n",
       " '58',\n",
       " '61',\n",
       " '43',\n",
       " '87',\n",
       " '35',\n",
       " '25',\n",
       " '78',\n",
       " '44',\n",
       " '83',\n",
       " '16',\n",
       " '29',\n",
       " '30',\n",
       " '12',\n",
       " '70',\n",
       " '37',\n",
       " '10',\n",
       " '10',\n",
       " '11',\n",
       " '85',\n",
       " '87',\n",
       " '91',\n",
       " '90',\n",
       " '87']"
      ]
     },
     "execution_count": 17,
     "metadata": {},
     "output_type": "execute_result"
    }
   ],
   "source": [
    "plyrs = [plyr for plyr in c.execute('SELECT playerID, sofifaID FROM player')]\n",
    "c.execute('INSERT INTO player(jersey) VALUES (?)', get_jersey(plyr))"
   ]
  },
  {
   "cell_type": "code",
   "execution_count": 10,
   "metadata": {
    "ExecuteTime": {
     "end_time": "2017-10-02T02:54:55.018153Z",
     "start_time": "2017-10-02T02:54:55.006180Z"
    },
    "collapsed": false
   },
   "outputs": [
    {
     "data": {
      "text/plain": [
       "['\\nRepublik', 'Irland']"
      ]
     },
     "execution_count": 10,
     "metadata": {},
     "output_type": "execute_result"
    }
   ],
   "source": [
    "things[2].find_next('li').text.split(' ')"
   ]
  },
  {
   "cell_type": "code",
   "execution_count": 18,
   "metadata": {
    "ExecuteTime": {
     "end_time": "2017-10-02T06:38:32.185455Z",
     "start_time": "2017-10-02T06:38:32.169296Z"
    },
    "collapsed": false
   },
   "outputs": [
    {
     "data": {
      "text/plain": [
       "('Neil Taylor', 173735156090)"
      ]
     },
     "execution_count": 18,
     "metadata": {},
     "output_type": "execute_result"
    }
   ],
   "source": [
    "teams = [1156090,2156090]\n",
    "[x for x in c.execute('SELECT name,playerID FROM player WHERE teamID IN ('+str(teams[0])+','+str(teams[1])+ ')')]\n"
   ]
  },
  {
   "cell_type": "code",
   "execution_count": 20,
   "metadata": {
    "ExecuteTime": {
     "end_time": "2017-10-02T07:26:33.729481Z",
     "start_time": "2017-10-02T07:26:33.715968Z"
    },
    "collapsed": false
   },
   "outputs": [
    {
     "data": {
      "text/plain": [
       "14"
      ]
     },
     "execution_count": 20,
     "metadata": {},
     "output_type": "execute_result"
    }
   ],
   "source": [
    "ligaID"
   ]
  },
  {
   "cell_type": "code",
   "execution_count": 13,
   "metadata": {
    "ExecuteTime": {
     "end_time": "2017-10-03T05:32:38.564384Z",
     "start_time": "2017-10-03T05:32:38.558305Z"
    },
    "collapsed": false
   },
   "outputs": [
    {
     "data": {
      "text/plain": [
       "'/player/167495'"
      ]
     },
     "execution_count": 13,
     "metadata": {},
     "output_type": "execute_result"
    }
   ],
   "source": [
    "player_url"
   ]
  },
  {
   "cell_type": "code",
   "execution_count": 15,
   "metadata": {
    "ExecuteTime": {
     "end_time": "2017-10-03T05:36:00.473899Z",
     "start_time": "2017-10-03T05:36:00.466825Z"
    },
    "collapsed": false
   },
   "outputs": [
    {
     "data": {
      "text/plain": [
       "'21158278'"
      ]
     },
     "execution_count": 15,
     "metadata": {},
     "output_type": "execute_result"
    }
   ],
   "source": [
    "teamID"
   ]
  },
  {
   "cell_type": "code",
   "execution_count": 19,
   "metadata": {
    "ExecuteTime": {
     "end_time": "2017-10-03T06:26:47.513744Z",
     "start_time": "2017-10-03T06:26:47.506878Z"
    },
    "collapsed": false
   },
   "outputs": [
    {
     "data": {
      "text/plain": [
       "{'Acceleration': '79',\n",
       " 'Aggression': '37',\n",
       " 'Agility': '76',\n",
       " 'Balance': '85',\n",
       " 'Ball control': '66',\n",
       " 'Composure': '49',\n",
       " 'Crossing': '63',\n",
       " 'Curve': '59',\n",
       " 'Dribbling': '65',\n",
       " 'Finishing': '65',\n",
       " 'Free kick accuracy': '61',\n",
       " 'GK diving': '6',\n",
       " 'GK handling': '11',\n",
       " 'GK kicking': '16',\n",
       " 'GK positioning': '8',\n",
       " 'GK reflexes': '15',\n",
       " 'Heading accuracy': '49',\n",
       " 'Interceptions': '27',\n",
       " 'Jumping': '53',\n",
       " 'Long passing': '55',\n",
       " 'Long shots': '69',\n",
       " 'Marking': '32',\n",
       " 'Penalties': '57',\n",
       " 'Positioning': '59',\n",
       " 'Reactions': '51',\n",
       " 'Short passing': '64',\n",
       " 'Shot power': '66',\n",
       " 'Sliding tackle': '31',\n",
       " 'Sprint speed': '68',\n",
       " 'Stamina': '51',\n",
       " 'Standing tackle': '37',\n",
       " 'Strength': '36',\n",
       " 'Vision': '55',\n",
       " 'Volleys': '58'}"
      ]
     },
     "execution_count": 19,
     "metadata": {},
     "output_type": "execute_result"
    }
   ],
   "source": [
    "attr_dict"
   ]
  },
  {
   "cell_type": "code",
   "execution_count": 25,
   "metadata": {
    "ExecuteTime": {
     "end_time": "2017-10-03T06:29:12.304435Z",
     "start_time": "2017-10-03T06:29:12.300038Z"
    },
    "collapsed": false
   },
   "outputs": [],
   "source": [
    "attr_dict = attr_dict_base"
   ]
  },
  {
   "cell_type": "code",
   "execution_count": 23,
   "metadata": {
    "ExecuteTime": {
     "end_time": "2017-10-03T06:29:05.539607Z",
     "start_time": "2017-10-03T06:29:05.535439Z"
    },
    "collapsed": false
   },
   "outputs": [],
   "source": [
    "attr_dict.clear()"
   ]
  },
  {
   "cell_type": "code",
   "execution_count": 26,
   "metadata": {
    "ExecuteTime": {
     "end_time": "2017-10-03T06:29:13.288858Z",
     "start_time": "2017-10-03T06:29:13.282437Z"
    },
    "collapsed": false
   },
   "outputs": [
    {
     "data": {
      "text/plain": [
       "{}"
      ]
     },
     "execution_count": 26,
     "metadata": {},
     "output_type": "execute_result"
    }
   ],
   "source": [
    "attr_dict"
   ]
  },
  {
   "cell_type": "code",
   "execution_count": 27,
   "metadata": {
    "ExecuteTime": {
     "end_time": "2017-10-03T06:29:21.424643Z",
     "start_time": "2017-10-03T06:29:21.418822Z"
    },
    "collapsed": false
   },
   "outputs": [
    {
     "data": {
      "text/plain": [
       "{}"
      ]
     },
     "execution_count": 27,
     "metadata": {},
     "output_type": "execute_result"
    }
   ],
   "source": [
    "attr_dict_base\n"
   ]
  },
  {
   "cell_type": "code",
   "execution_count": 7,
   "metadata": {
    "ExecuteTime": {
     "end_time": "2017-10-05T02:34:01.925166Z",
     "start_time": "2017-10-05T02:34:01.253329Z"
    },
    "collapsed": false
   },
   "outputs": [
    {
     "ename": "OperationalError",
     "evalue": "duplicate column name: jersey",
     "output_type": "error",
     "traceback": [
      "\u001b[0;31m----------------------------------------\u001b[0m",
      "\u001b[0;31mOperationalError\u001b[0mTraceback (most recent call last)",
      "\u001b[0;32m<ipython-input-7-30648ff69ddf>\u001b[0m in \u001b[0;36m<module>\u001b[0;34m()\u001b[0m\n\u001b[0;32m----> 1\u001b[0;31m \u001b[0mc\u001b[0m\u001b[0;34m.\u001b[0m\u001b[0mexecute\u001b[0m\u001b[0;34m(\u001b[0m\u001b[0;34m'ALTER TABLE player ADD COLUMN \"jersey\" \"INTEGER\"'\u001b[0m\u001b[0;34m)\u001b[0m\u001b[0;34m\u001b[0m\u001b[0m\n\u001b[0m",
      "\u001b[0;31mOperationalError\u001b[0m: duplicate column name: jersey"
     ]
    }
   ],
   "source": [
    "c.execute('ALTER TABLE player ADD COLUMN \"jersey\" \"INTEGER\"')"
   ]
  },
  {
   "cell_type": "code",
   "execution_count": 8,
   "metadata": {
    "ExecuteTime": {
     "end_time": "2017-10-05T02:34:23.894270Z",
     "start_time": "2017-10-05T02:34:23.858346Z"
    },
    "collapsed": false
   },
   "outputs": [
    {
     "name": "stdout",
     "output_type": "stream",
     "text": [
      "(None,)\n",
      "(None,)\n",
      "(None,)\n",
      "(None,)\n",
      "(None,)\n",
      "(None,)\n",
      "(None,)\n",
      "(None,)\n",
      "(None,)\n",
      "(None,)\n",
      "(None,)\n",
      "(None,)\n",
      "(None,)\n",
      "(None,)\n",
      "(None,)\n",
      "(None,)\n",
      "(None,)\n"
     ]
    }
   ],
   "source": []
  },
  {
   "cell_type": "code",
   "execution_count": 112,
   "metadata": {
    "ExecuteTime": {
     "end_time": "2017-10-05T03:34:58.189908Z",
     "start_time": "2017-10-05T03:34:58.174812Z"
    },
    "collapsed": false
   },
   "outputs": [],
   "source": [
    "def get_jersey(player):\n",
    "    url = ''.join(['https://sofifa.com/player/', str(player[1]), patch_urls[player[0]%1000000]])\n",
    "    r = requests.get(url)\n",
    "    soup = BeautifulSoup(r.content, 'lxml')\n",
    "    c.execute(\"UPDATE player SET jersey=(?) WHERE playerID=(?)\",(soup.find_all('ul', class_='pl')[1].find_all('li')[3].text.strip().split('\\n')[1],player[0]))\n",
    "    con.commit()\n"
   ]
  },
  {
   "cell_type": "code",
   "execution_count": 106,
   "metadata": {
    "ExecuteTime": {
     "end_time": "2017-10-05T03:31:11.312996Z",
     "start_time": "2017-10-05T03:31:10.649704Z"
    },
    "collapsed": false
   },
   "outputs": [
    {
     "name": "stdout",
     "output_type": "stream",
     "text": [
      "[('Kevin Danso', 38)]\n"
     ]
    }
   ],
   "source": [
    "get_jersey((237985158835, 237985))"
   ]
  },
  {
   "cell_type": "code",
   "execution_count": 41,
   "metadata": {
    "ExecuteTime": {
     "end_time": "2017-10-05T02:56:16.740017Z",
     "start_time": "2017-10-05T02:56:16.666540Z"
    },
    "collapsed": false
   },
   "outputs": [],
   "source": [
    "plyrs = [plyr for plyr in c.execute('SELECT playerID, sofifaPlayerID FROM player')]"
   ]
  },
  {
   "cell_type": "code",
   "execution_count": 113,
   "metadata": {
    "ExecuteTime": {
     "end_time": "2017-10-05T16:21:28.407227Z",
     "start_time": "2017-10-05T03:35:25.919210Z"
    },
    "collapsed": false
   },
   "outputs": [
    {
     "name": "stdout",
     "output_type": "stream",
     "text": [
      "71336 / 71337\r"
     ]
    }
   ],
   "source": [
    "for i,p in enumerate(plyrs):\n",
    "    get_jersey(p)\n",
    "    print(i,'/',71337, end='\\r')"
   ]
  },
  {
   "cell_type": "code",
   "execution_count": 100,
   "metadata": {
    "ExecuteTime": {
     "end_time": "2017-10-05T03:27:22.196696Z",
     "start_time": "2017-10-05T03:27:22.183564Z"
    },
    "collapsed": false
   },
   "outputs": [
    {
     "name": "stdout",
     "output_type": "stream",
     "text": [
      "[('Kevin Danso', 38)]\n"
     ]
    }
   ],
   "source": [
    "print([x for x in c.execute('SELECT name,jersey FROM player WHERE playerID IS 237985158835')])"
   ]
  },
  {
   "cell_type": "code",
   "execution_count": 99,
   "metadata": {
    "ExecuteTime": {
     "end_time": "2017-10-05T03:27:19.434530Z",
     "start_time": "2017-10-05T03:27:19.379137Z"
    },
    "collapsed": false
   },
   "outputs": [],
   "source": [
    "c.execute(\"UPDATE player SET jersey=(?) WHERE playerID=(?)\",(38,237985158835))\n",
    "con.commit()"
   ]
  },
  {
   "cell_type": "code",
   "execution_count": 97,
   "metadata": {
    "ExecuteTime": {
     "end_time": "2017-10-05T03:25:19.313917Z",
     "start_time": "2017-10-05T03:25:19.275413Z"
    },
    "collapsed": false
   },
   "outputs": [
    {
     "name": "stdout",
     "output_type": "stream",
     "text": [
      "[]\n"
     ]
    }
   ],
   "source": [
    "print([x for x in c.execute('SELECT name,jersey FROM player WHERE jersey = 38')])"
   ]
  },
  {
   "cell_type": "code",
   "execution_count": 92,
   "metadata": {
    "ExecuteTime": {
     "end_time": "2017-10-05T03:22:31.640023Z",
     "start_time": "2017-10-05T03:22:31.631574Z"
    },
    "collapsed": false
   },
   "outputs": [],
   "source": [
    "c.description"
   ]
  },
  {
   "cell_type": "code",
   "execution_count": 109,
   "metadata": {
    "ExecuteTime": {
     "end_time": "2017-10-05T03:32:41.194006Z",
     "start_time": "2017-10-05T03:32:41.181545Z"
    },
    "collapsed": false
   },
   "outputs": [
    {
     "data": {
      "text/plain": [
       "71337"
      ]
     },
     "execution_count": 109,
     "metadata": {},
     "output_type": "execute_result"
    }
   ],
   "source": [
    "len(plyrs)"
   ]
  },
  {
   "cell_type": "code",
   "execution_count": 115,
   "metadata": {
    "ExecuteTime": {
     "end_time": "2017-10-05T16:34:08.536230Z",
     "start_time": "2017-10-05T16:34:08.525091Z"
    },
    "collapsed": false
   },
   "outputs": [
    {
     "data": {
      "text/plain": [
       "0.6451350631509595"
      ]
     },
     "execution_count": 115,
     "metadata": {},
     "output_type": "execute_result"
    }
   ],
   "source": [
    "((12*60+47)*60+2)/71337"
   ]
  },
  {
   "cell_type": "code",
   "execution_count": null,
   "metadata": {
    "collapsed": true
   },
   "outputs": [],
   "source": []
  }
 ],
 "metadata": {
  "kernelspec": {
   "display_name": "Python 3",
   "language": "python",
   "name": "python3"
  },
  "language_info": {
   "codemirror_mode": {
    "name": "ipython",
    "version": 3
   },
   "file_extension": ".py",
   "mimetype": "text/x-python",
   "name": "python",
   "nbconvert_exporter": "python",
   "pygments_lexer": "ipython3",
   "version": "3.6.0"
  }
 },
 "nbformat": 4,
 "nbformat_minor": 2
}
